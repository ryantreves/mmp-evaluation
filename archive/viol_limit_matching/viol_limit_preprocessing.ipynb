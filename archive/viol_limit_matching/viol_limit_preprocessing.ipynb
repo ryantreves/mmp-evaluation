{
 "cells": [
  {
   "cell_type": "markdown",
   "source": [
    "## Goal: prepare (a) a set of violations and (b) CA DMRs dataset\n",
    "For matching violations to NPDES limit series.\n",
    "Ryan Treves\n"
   ],
   "metadata": {
    "collapsed": false,
    "pycharm": {
     "name": "#%% md\n"
    }
   }
  },
  {
   "cell_type": "code",
   "execution_count": 2,
   "metadata": {
    "collapsed": true,
    "pycharm": {
     "name": "#%%\n"
    }
   },
   "outputs": [],
   "source": [
    "import pandas as pd\n",
    "\n",
    "# Suppress warning messages\n",
    "import warnings\n",
    "\n",
    "warnings.filterwarnings('ignore')\n",
    "pd.options.display.max_columns = 200\n",
    "pd.options.display.max_rows = 2000"
   ]
  },
  {
   "cell_type": "code",
   "execution_count": 3,
   "outputs": [],
   "source": [
    "# Set file paths\n",
    "data_path = '~/sherlock_oak/EPA/Data/manual/california/'"
   ],
   "metadata": {
    "collapsed": false,
    "pycharm": {
     "name": "#%%\n"
    }
   }
  },
  {
   "cell_type": "markdown",
   "source": [
    "Load in data"
   ],
   "metadata": {
    "collapsed": false,
    "pycharm": {
     "name": "#%% md\n"
    }
   }
  },
  {
   "cell_type": "code",
   "execution_count": 4,
   "outputs": [],
   "source": [
    "# SQL query for this data: https://app.mode.com/editor/reglab/reports/aad9ee3f0964/queries/a58a6f32dec5\n",
    "CA_dmrs = pd.read_csv(data_path + 'CA_dmrs_for_violation-npdes_limit_matching.csv', dtype={\n",
    "    'parameter_code': object,\n",
    "    'perm_feature_nmbr': object,\n",
    "    'monitoring_location_code': object,\n",
    "})"
   ],
   "metadata": {
    "collapsed": false,
    "pycharm": {
     "name": "#%%\n"
    }
   }
  },
  {
   "cell_type": "markdown",
   "source": [
    "Preprocess both datasets"
   ],
   "metadata": {
    "collapsed": false,
    "pycharm": {
     "name": "#%% md\n"
    }
   }
  },
  {
   "cell_type": "code",
   "execution_count": 5,
   "outputs": [],
   "source": [
    "# This is a vestige of our algorithmic matching process - it's no longer needed, but I'm retaining it so we understand why the values in the output file are how they are. Should be removed and re-run at some point.\n",
    "CA_dmrs['parameter_desc'] = CA_dmrs['parameter_desc'].str.lower()\n",
    "CA_dmrs['parameter_desc'] = CA_dmrs['parameter_desc'].apply(lambda x: x.replace(',', ''))"
   ],
   "metadata": {
    "collapsed": false,
    "pycharm": {
     "name": "#%%\n"
    }
   }
  },
  {
   "cell_type": "code",
   "execution_count": 6,
   "outputs": [],
   "source": [
    "# Create a new feature for identifying limit series\n",
    "CA_dmrs['limit_series_id'] = CA_dmrs['npdes_permit_id'] + '_' + CA_dmrs['perm_feature_nmbr'] + '_' + CA_dmrs['parameter_code'] + '_' + CA_dmrs['limit_value_type_code'] + '_' + CA_dmrs['statistical_base_code']"
   ],
   "metadata": {
    "collapsed": false,
    "pycharm": {
     "name": "#%%\n"
    }
   }
  },
  {
   "cell_type": "markdown",
   "source": [
    "Reduce the DMR dataset to a set of limits"
   ],
   "metadata": {
    "collapsed": false,
    "pycharm": {
     "name": "#%% md\n"
    }
   }
  },
  {
   "cell_type": "code",
   "execution_count": 7,
   "outputs": [],
   "source": [
    "limits = CA_dmrs.drop_duplicates(subset='limit_series_id')"
   ],
   "metadata": {
    "collapsed": false,
    "pycharm": {
     "name": "#%%\n"
    }
   }
  },
  {
   "cell_type": "markdown",
   "source": [
    "Save limits data"
   ],
   "metadata": {
    "collapsed": false,
    "pycharm": {
     "name": "#%% md\n"
    }
   }
  },
  {
   "cell_type": "code",
   "execution_count": 8,
   "outputs": [],
   "source": [
    "limits.drop_duplicates(subset=['npdes_permit_id', 'parameter_code'])[['npdes_permit_id', 'parameter_code', 'parameter_desc']].to_csv('CA_limits_prepped_manual.csv')"
   ],
   "metadata": {
    "collapsed": false,
    "pycharm": {
     "name": "#%%\n"
    }
   }
  },
  {
   "cell_type": "markdown",
   "source": [
    "TODO: preprocess violations data"
   ],
   "metadata": {
    "collapsed": false,
    "pycharm": {
     "name": "#%% md\n"
    }
   }
  }
 ],
 "metadata": {
  "kernelspec": {
   "display_name": "Python 3",
   "language": "python",
   "name": "python3"
  },
  "language_info": {
   "codemirror_mode": {
    "name": "ipython",
    "version": 2
   },
   "file_extension": ".py",
   "mimetype": "text/x-python",
   "name": "python",
   "nbconvert_exporter": "python",
   "pygments_lexer": "ipython2",
   "version": "2.7.6"
  }
 },
 "nbformat": 4,
 "nbformat_minor": 0
}