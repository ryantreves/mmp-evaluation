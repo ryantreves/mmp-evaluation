{
 "cells": [
  {
   "cell_type": "markdown",
   "metadata": {},
   "source": [
    "# The Effect of the MMP Program in CA\n",
    "\n",
    "*Author: Nicole Lin*"
   ]
  },
  {
   "cell_type": "code",
   "execution_count": 1,
   "metadata": {},
   "outputs": [],
   "source": [
    "import os\n",
    "import numpy as np\n",
    "import pandas as pd\n",
    "import matplotlib.pyplot as plt \n",
    "from sklearn.linear_model import LinearRegression\n",
    "import statsmodels.api as sm\n",
    "from sklearn import preprocessing\n",
    "import datetime as dt\n",
    "\n",
    "# display all columns\n",
    "pd.set_option('display.max_columns', None)\n",
    "\n",
    "# turn off warning messages\n",
    "import warnings\n",
    "warnings.filterwarnings('ignore')"
   ]
  },
  {
   "cell_type": "markdown",
   "metadata": {},
   "source": [
    "## Difference in Differences \n",
    "\n",
    "1. Outcome variables\n",
    "    - Facility level: \n",
    "        - count of MMP violations\n",
    "        - count of Non-MMMP violations \n",
    "        - ratio of effluent parameters in MMP violations\n",
    "        - ratio of effluent parameteres in non-MMP violations \n",
    "        - aggregate exceedence percentages\n",
    "2. Treatment: MMP Initiative in 2007\n",
    "3. Treated Regions: 2, 3, 4, 5 \n",
    "4. Control Regions: all other regions in CA\n",
    "3. Conditional on municipal large wastewater treatment plants (WWTPs) that were active before and after treatment."
   ]
  },
  {
   "cell_type": "markdown",
   "metadata": {},
   "source": [
    "### Prepare data"
   ]
  },
  {
   "cell_type": "code",
   "execution_count": 2,
   "metadata": {},
   "outputs": [],
   "source": [
    "data_dir = os.path.join('~', 'sherlock_oak', 'EPA', 'Data', 'processed', 'california')\n",
    "violations = pd.read_csv(os.path.join(data_dir, 'violations_2022-01-13.csv'))\n",
    "facilities = pd.read_csv(os.path.join(data_dir, 'facilities_2022-01-13.csv'))\n",
    "wwtp_consistent = pd.read_csv(os.path.join(data_dir, 'wwtp_consistent_2022-01-13.csv'))"
   ]
  },
  {
   "cell_type": "code",
   "execution_count": 3,
   "metadata": {},
   "outputs": [
    {
     "data": {
      "text/html": [
       "<div>\n",
       "<style scoped>\n",
       "    .dataframe tbody tr th:only-of-type {\n",
       "        vertical-align: middle;\n",
       "    }\n",
       "\n",
       "    .dataframe tbody tr th {\n",
       "        vertical-align: top;\n",
       "    }\n",
       "\n",
       "    .dataframe thead th {\n",
       "        text-align: right;\n",
       "    }\n",
       "</style>\n",
       "<table border=\"1\" class=\"dataframe\">\n",
       "  <thead>\n",
       "    <tr style=\"text-align: right;\">\n",
       "      <th></th>\n",
       "      <th>VIOLATED FACILITY REGION</th>\n",
       "      <th>FACILITY_ID</th>\n",
       "      <th>FACILITY NAME</th>\n",
       "      <th>AGENCY NAME</th>\n",
       "      <th>PLACE TYPE</th>\n",
       "      <th>PLACE SUBTYPE</th>\n",
       "      <th>FACILITY TYPE</th>\n",
       "      <th>AGENCY TYPE</th>\n",
       "      <th>COMPLEXITY</th>\n",
       "      <th>FACILITY WASTE TYPE</th>\n",
       "      <th>PROGRAM</th>\n",
       "      <th>PROGRAM CATEGORY</th>\n",
       "      <th>WDID_x</th>\n",
       "      <th>REG MEASURE TYPE</th>\n",
       "      <th>NPDES# CA#</th>\n",
       "      <th>MAJOR-MINOR</th>\n",
       "      <th>NPDES TYPE</th>\n",
       "      <th>STATUS</th>\n",
       "      <th>INDIVIDUAL/GENERAL</th>\n",
       "      <th>VIOLATION ID (VID)</th>\n",
       "      <th>VIOLATION TYPE</th>\n",
       "      <th>VIOLATION SUBTYPE</th>\n",
       "      <th>VIOLATION DESCRIPTION</th>\n",
       "      <th>VIOLATION COMMENTS</th>\n",
       "      <th>CORRECTIVE ACTION</th>\n",
       "      <th>OCCURRED ON</th>\n",
       "      <th>DISCOVERY DATE</th>\n",
       "      <th>PRIORITY (Y/N)</th>\n",
       "      <th>NPDES Serious (Y/N)</th>\n",
       "      <th>Otherwise MMP (Y/N)</th>\n",
       "      <th>EXEMPT (Y/N)</th>\n",
       "      <th>Reason Exempt from MMPs</th>\n",
       "      <th>MMP TYPE</th>\n",
       "      <th>Violation Type</th>\n",
       "      <th>Priority Violation</th>\n",
       "      <th>Date Occured</th>\n",
       "      <th>Violation Description</th>\n",
       "      <th>Comments</th>\n",
       "      <th>Corrective Action</th>\n",
       "      <th>Enforcement Action ID</th>\n",
       "      <th>Enforcement Action</th>\n",
       "      <th>EA Order Number</th>\n",
       "      <th>EA Effective Date</th>\n",
       "      <th>Discovery Date</th>\n",
       "      <th>mmp_flag</th>\n",
       "      <th>enforced_flag</th>\n",
       "      <th>violation_year</th>\n",
       "      <th>enforcement_year</th>\n",
       "      <th>viol_to_enf_time</th>\n",
       "      <th>enforcement_agency</th>\n",
       "      <th>violation_category</th>\n",
       "      <th>region_group</th>\n",
       "      <th>enforced_within_period</th>\n",
       "      <th>days_to_enf</th>\n",
       "      <th>npdes_flag</th>\n",
       "      <th>wwtp_flag</th>\n",
       "    </tr>\n",
       "  </thead>\n",
       "  <tbody>\n",
       "    <tr>\n",
       "      <th>0</th>\n",
       "      <td>8</td>\n",
       "      <td>259171.0</td>\n",
       "      <td>Corona WWRF #1</td>\n",
       "      <td>Corona City DWP</td>\n",
       "      <td>Utility</td>\n",
       "      <td>Wastewater Treatment Facility</td>\n",
       "      <td>Municipal/Domestic</td>\n",
       "      <td>City Agency</td>\n",
       "      <td>A</td>\n",
       "      <td>Domestic wastewater</td>\n",
       "      <td>NPDMUNILRG</td>\n",
       "      <td>NPDESWW</td>\n",
       "      <td>8 330108001</td>\n",
       "      <td>NPDES Permits</td>\n",
       "      <td>CA8000383</td>\n",
       "      <td>Major</td>\n",
       "      <td>MUN</td>\n",
       "      <td>Historical</td>\n",
       "      <td>I</td>\n",
       "      <td>181762</td>\n",
       "      <td>Effluent</td>\n",
       "      <td>CAT1</td>\n",
       "      <td>Exceeded 12-month average Sodium limit for Apr...</td>\n",
       "      <td>NaN</td>\n",
       "      <td>NaN</td>\n",
       "      <td>2001-04-30</td>\n",
       "      <td>2001-05-31</td>\n",
       "      <td>N</td>\n",
       "      <td>N</td>\n",
       "      <td>N</td>\n",
       "      <td>N</td>\n",
       "      <td>NaN</td>\n",
       "      <td>Chronic</td>\n",
       "      <td>Water Quality -&gt; Effluent -&gt; CAT1</td>\n",
       "      <td>N</td>\n",
       "      <td>2001-04-30</td>\n",
       "      <td>Exceeded 12-month average Sodium limit for Apr...</td>\n",
       "      <td>NaN</td>\n",
       "      <td>NaN</td>\n",
       "      <td>238075(+)</td>\n",
       "      <td>Admin Civil Liability</td>\n",
       "      <td>R8-2001-0108</td>\n",
       "      <td>2001-10-19</td>\n",
       "      <td>2001-05-31</td>\n",
       "      <td>True</td>\n",
       "      <td>True</td>\n",
       "      <td>2001</td>\n",
       "      <td>2001.0</td>\n",
       "      <td>172 days 00:00:00.000000000</td>\n",
       "      <td>R8</td>\n",
       "      <td>Effluent</td>\n",
       "      <td>Region 8</td>\n",
       "      <td>True</td>\n",
       "      <td>172.0</td>\n",
       "      <td>True</td>\n",
       "      <td>True</td>\n",
       "    </tr>\n",
       "    <tr>\n",
       "      <th>1</th>\n",
       "      <td>8</td>\n",
       "      <td>259171.0</td>\n",
       "      <td>Corona WWRF #1</td>\n",
       "      <td>Corona City DWP</td>\n",
       "      <td>Utility</td>\n",
       "      <td>Wastewater Treatment Facility</td>\n",
       "      <td>Municipal/Domestic</td>\n",
       "      <td>City Agency</td>\n",
       "      <td>A</td>\n",
       "      <td>Domestic wastewater</td>\n",
       "      <td>NPDMUNILRG</td>\n",
       "      <td>NPDESWW</td>\n",
       "      <td>8 330108001</td>\n",
       "      <td>NPDES Permits</td>\n",
       "      <td>CA8000383</td>\n",
       "      <td>Major</td>\n",
       "      <td>MUN</td>\n",
       "      <td>Historical</td>\n",
       "      <td>I</td>\n",
       "      <td>188721</td>\n",
       "      <td>Effluent</td>\n",
       "      <td>CAT1</td>\n",
       "      <td>Exceeded 12-month average Sodium limit for Feb...</td>\n",
       "      <td>Also, Board staff will issue a mandatory penal...</td>\n",
       "      <td>NaN</td>\n",
       "      <td>2001-02-07</td>\n",
       "      <td>2001-05-08</td>\n",
       "      <td>N</td>\n",
       "      <td>N</td>\n",
       "      <td>N</td>\n",
       "      <td>N</td>\n",
       "      <td>NaN</td>\n",
       "      <td>Chronic</td>\n",
       "      <td>Water Quality -&gt; Effluent -&gt; CAT1</td>\n",
       "      <td>N</td>\n",
       "      <td>2001-02-07</td>\n",
       "      <td>Exceeded 12-month average Sodium limit for Feb...</td>\n",
       "      <td>Also, Board staff will issue a mandatory penal...</td>\n",
       "      <td>NaN</td>\n",
       "      <td>238075(+)</td>\n",
       "      <td>Admin Civil Liability</td>\n",
       "      <td>R8-2001-0108</td>\n",
       "      <td>2001-10-19</td>\n",
       "      <td>2001-05-08</td>\n",
       "      <td>True</td>\n",
       "      <td>True</td>\n",
       "      <td>2001</td>\n",
       "      <td>2001.0</td>\n",
       "      <td>254 days 00:00:00.000000000</td>\n",
       "      <td>R8</td>\n",
       "      <td>Effluent</td>\n",
       "      <td>Region 8</td>\n",
       "      <td>True</td>\n",
       "      <td>254.0</td>\n",
       "      <td>True</td>\n",
       "      <td>True</td>\n",
       "    </tr>\n",
       "    <tr>\n",
       "      <th>2</th>\n",
       "      <td>8</td>\n",
       "      <td>259171.0</td>\n",
       "      <td>Corona WWRF #1</td>\n",
       "      <td>Corona City DWP</td>\n",
       "      <td>Utility</td>\n",
       "      <td>Wastewater Treatment Facility</td>\n",
       "      <td>Municipal/Domestic</td>\n",
       "      <td>City Agency</td>\n",
       "      <td>A</td>\n",
       "      <td>Domestic wastewater</td>\n",
       "      <td>NPDMUNILRG</td>\n",
       "      <td>NPDESWW</td>\n",
       "      <td>8 330108001</td>\n",
       "      <td>NPDES Permits</td>\n",
       "      <td>CA8000383</td>\n",
       "      <td>Major</td>\n",
       "      <td>MUN</td>\n",
       "      <td>Historical</td>\n",
       "      <td>I</td>\n",
       "      <td>188789</td>\n",
       "      <td>Effluent</td>\n",
       "      <td>CAT1</td>\n",
       "      <td>Exceeded 12-month average Sulfate limit for Fe...</td>\n",
       "      <td>Also, Board staff will issue a mandatory penal...</td>\n",
       "      <td>NaN</td>\n",
       "      <td>2001-02-07</td>\n",
       "      <td>2001-05-08</td>\n",
       "      <td>Y</td>\n",
       "      <td>Y</td>\n",
       "      <td>N</td>\n",
       "      <td>N</td>\n",
       "      <td>NaN</td>\n",
       "      <td>Serious</td>\n",
       "      <td>Water Quality -&gt; Effluent -&gt; CAT1</td>\n",
       "      <td>Y</td>\n",
       "      <td>2001-02-07</td>\n",
       "      <td>Exceeded 12-month average Sulfate limit for Fe...</td>\n",
       "      <td>Also, Board staff will issue a mandatory penal...</td>\n",
       "      <td>NaN</td>\n",
       "      <td>238075(+)</td>\n",
       "      <td>Admin Civil Liability</td>\n",
       "      <td>R8-2001-0108</td>\n",
       "      <td>2001-10-19</td>\n",
       "      <td>2001-05-08</td>\n",
       "      <td>True</td>\n",
       "      <td>True</td>\n",
       "      <td>2001</td>\n",
       "      <td>2001.0</td>\n",
       "      <td>254 days 00:00:00.000000000</td>\n",
       "      <td>R8</td>\n",
       "      <td>Effluent</td>\n",
       "      <td>Region 8</td>\n",
       "      <td>True</td>\n",
       "      <td>254.0</td>\n",
       "      <td>True</td>\n",
       "      <td>True</td>\n",
       "    </tr>\n",
       "    <tr>\n",
       "      <th>3</th>\n",
       "      <td>4</td>\n",
       "      <td>236009.0</td>\n",
       "      <td>Los Angeles Refinery, Carson Plant</td>\n",
       "      <td>ConocoPhillips Company Long Beach</td>\n",
       "      <td>Manufacturing</td>\n",
       "      <td>Petroleum Refinery</td>\n",
       "      <td>Industrial</td>\n",
       "      <td>Privately-Owned Business</td>\n",
       "      <td>A</td>\n",
       "      <td>Cooling water: Noncontact</td>\n",
       "      <td>NPDESWW</td>\n",
       "      <td>NPDESWW</td>\n",
       "      <td>4B192131026</td>\n",
       "      <td>NPDES Permits</td>\n",
       "      <td>CA0063185</td>\n",
       "      <td>Major</td>\n",
       "      <td>OTH</td>\n",
       "      <td>Historical</td>\n",
       "      <td>I</td>\n",
       "      <td>200268</td>\n",
       "      <td>Reporting</td>\n",
       "      <td>Late Report</td>\n",
       "      <td>June 2001 DMR submitted 17 days late.</td>\n",
       "      <td>Violation rescinded by revised NOV dated 3/25/02.</td>\n",
       "      <td>NaN</td>\n",
       "      <td>2001-07-01</td>\n",
       "      <td>2002-01-07</td>\n",
       "      <td>N</td>\n",
       "      <td>N</td>\n",
       "      <td>N</td>\n",
       "      <td>N</td>\n",
       "      <td>NaN</td>\n",
       "      <td>Non-MMP</td>\n",
       "      <td>Reporting -&gt; Late Report</td>\n",
       "      <td>3</td>\n",
       "      <td>2001-07-01</td>\n",
       "      <td>June 2001 DMR submitted 17 days late.</td>\n",
       "      <td>Violation rescinded by revised NOV dated 3/25/02.</td>\n",
       "      <td>NaN</td>\n",
       "      <td>240323</td>\n",
       "      <td>Notice of Violation</td>\n",
       "      <td>NOV</td>\n",
       "      <td>2002-01-07</td>\n",
       "      <td>2002-01-07</td>\n",
       "      <td>False</td>\n",
       "      <td>True</td>\n",
       "      <td>2001</td>\n",
       "      <td>2002.0</td>\n",
       "      <td>190 days 00:00:00.000000000</td>\n",
       "      <td>NOV</td>\n",
       "      <td>Reporting</td>\n",
       "      <td>Region 2, 3, 4, 5</td>\n",
       "      <td>True</td>\n",
       "      <td>190.0</td>\n",
       "      <td>True</td>\n",
       "      <td>False</td>\n",
       "    </tr>\n",
       "    <tr>\n",
       "      <th>4</th>\n",
       "      <td>4</td>\n",
       "      <td>236009.0</td>\n",
       "      <td>Los Angeles Refinery, Carson Plant</td>\n",
       "      <td>ConocoPhillips Company Long Beach</td>\n",
       "      <td>Manufacturing</td>\n",
       "      <td>Petroleum Refinery</td>\n",
       "      <td>Industrial</td>\n",
       "      <td>Privately-Owned Business</td>\n",
       "      <td>A</td>\n",
       "      <td>Cooling water: Noncontact</td>\n",
       "      <td>NPDESWW</td>\n",
       "      <td>NPDESWW</td>\n",
       "      <td>4B192131026</td>\n",
       "      <td>NPDES Permits</td>\n",
       "      <td>CA0063185</td>\n",
       "      <td>Major</td>\n",
       "      <td>OTH</td>\n",
       "      <td>Historical</td>\n",
       "      <td>I</td>\n",
       "      <td>200269</td>\n",
       "      <td>Reporting</td>\n",
       "      <td>Late Report</td>\n",
       "      <td>July 2001 DMR submitted 20 days late.</td>\n",
       "      <td>Violation rescinded by revised NOV dated 3/25/02.</td>\n",
       "      <td>NaN</td>\n",
       "      <td>2001-08-01</td>\n",
       "      <td>2002-01-07</td>\n",
       "      <td>N</td>\n",
       "      <td>N</td>\n",
       "      <td>N</td>\n",
       "      <td>N</td>\n",
       "      <td>NaN</td>\n",
       "      <td>Non-MMP</td>\n",
       "      <td>Reporting -&gt; Late Report</td>\n",
       "      <td>3</td>\n",
       "      <td>2001-08-01</td>\n",
       "      <td>July 2001 DMR submitted 20 days late.</td>\n",
       "      <td>Violation rescinded by revised NOV dated 3/25/02.</td>\n",
       "      <td>NaN</td>\n",
       "      <td>240323</td>\n",
       "      <td>Notice of Violation</td>\n",
       "      <td>NOV</td>\n",
       "      <td>2002-01-07</td>\n",
       "      <td>2002-01-07</td>\n",
       "      <td>False</td>\n",
       "      <td>True</td>\n",
       "      <td>2001</td>\n",
       "      <td>2002.0</td>\n",
       "      <td>159 days 00:00:00.000000000</td>\n",
       "      <td>NOV</td>\n",
       "      <td>Reporting</td>\n",
       "      <td>Region 2, 3, 4, 5</td>\n",
       "      <td>True</td>\n",
       "      <td>159.0</td>\n",
       "      <td>True</td>\n",
       "      <td>False</td>\n",
       "    </tr>\n",
       "  </tbody>\n",
       "</table>\n",
       "</div>"
      ],
      "text/plain": [
       "  VIOLATED FACILITY REGION  FACILITY_ID                       FACILITY NAME  \\\n",
       "0                        8     259171.0                      Corona WWRF #1   \n",
       "1                        8     259171.0                      Corona WWRF #1   \n",
       "2                        8     259171.0                      Corona WWRF #1   \n",
       "3                        4     236009.0  Los Angeles Refinery, Carson Plant   \n",
       "4                        4     236009.0  Los Angeles Refinery, Carson Plant   \n",
       "\n",
       "                         AGENCY NAME     PLACE TYPE  \\\n",
       "0                    Corona City DWP        Utility   \n",
       "1                    Corona City DWP        Utility   \n",
       "2                    Corona City DWP        Utility   \n",
       "3  ConocoPhillips Company Long Beach  Manufacturing   \n",
       "4  ConocoPhillips Company Long Beach  Manufacturing   \n",
       "\n",
       "                   PLACE SUBTYPE       FACILITY TYPE  \\\n",
       "0  Wastewater Treatment Facility  Municipal/Domestic   \n",
       "1  Wastewater Treatment Facility  Municipal/Domestic   \n",
       "2  Wastewater Treatment Facility  Municipal/Domestic   \n",
       "3             Petroleum Refinery          Industrial   \n",
       "4             Petroleum Refinery          Industrial   \n",
       "\n",
       "                AGENCY TYPE COMPLEXITY        FACILITY WASTE TYPE     PROGRAM  \\\n",
       "0               City Agency          A        Domestic wastewater  NPDMUNILRG   \n",
       "1               City Agency          A        Domestic wastewater  NPDMUNILRG   \n",
       "2               City Agency          A        Domestic wastewater  NPDMUNILRG   \n",
       "3  Privately-Owned Business          A  Cooling water: Noncontact     NPDESWW   \n",
       "4  Privately-Owned Business          A  Cooling water: Noncontact     NPDESWW   \n",
       "\n",
       "  PROGRAM CATEGORY       WDID_x REG MEASURE TYPE NPDES# CA# MAJOR-MINOR  \\\n",
       "0          NPDESWW  8 330108001    NPDES Permits  CA8000383       Major   \n",
       "1          NPDESWW  8 330108001    NPDES Permits  CA8000383       Major   \n",
       "2          NPDESWW  8 330108001    NPDES Permits  CA8000383       Major   \n",
       "3          NPDESWW  4B192131026    NPDES Permits  CA0063185       Major   \n",
       "4          NPDESWW  4B192131026    NPDES Permits  CA0063185       Major   \n",
       "\n",
       "  NPDES TYPE      STATUS INDIVIDUAL/GENERAL  VIOLATION ID (VID)  \\\n",
       "0        MUN  Historical                  I              181762   \n",
       "1        MUN  Historical                  I              188721   \n",
       "2        MUN  Historical                  I              188789   \n",
       "3        OTH  Historical                  I              200268   \n",
       "4        OTH  Historical                  I              200269   \n",
       "\n",
       "  VIOLATION TYPE VIOLATION SUBTYPE  \\\n",
       "0       Effluent              CAT1   \n",
       "1       Effluent              CAT1   \n",
       "2       Effluent              CAT1   \n",
       "3      Reporting       Late Report   \n",
       "4      Reporting       Late Report   \n",
       "\n",
       "                               VIOLATION DESCRIPTION  \\\n",
       "0  Exceeded 12-month average Sodium limit for Apr...   \n",
       "1  Exceeded 12-month average Sodium limit for Feb...   \n",
       "2  Exceeded 12-month average Sulfate limit for Fe...   \n",
       "3              June 2001 DMR submitted 17 days late.   \n",
       "4              July 2001 DMR submitted 20 days late.   \n",
       "\n",
       "                                  VIOLATION COMMENTS CORRECTIVE ACTION  \\\n",
       "0                                                NaN               NaN   \n",
       "1  Also, Board staff will issue a mandatory penal...               NaN   \n",
       "2  Also, Board staff will issue a mandatory penal...               NaN   \n",
       "3  Violation rescinded by revised NOV dated 3/25/02.               NaN   \n",
       "4  Violation rescinded by revised NOV dated 3/25/02.               NaN   \n",
       "\n",
       "  OCCURRED ON DISCOVERY DATE PRIORITY (Y/N) NPDES Serious (Y/N)  \\\n",
       "0  2001-04-30     2001-05-31              N                   N   \n",
       "1  2001-02-07     2001-05-08              N                   N   \n",
       "2  2001-02-07     2001-05-08              Y                   Y   \n",
       "3  2001-07-01     2002-01-07              N                   N   \n",
       "4  2001-08-01     2002-01-07              N                   N   \n",
       "\n",
       "  Otherwise MMP (Y/N) EXEMPT (Y/N) Reason Exempt from MMPs MMP TYPE  \\\n",
       "0                   N            N                     NaN  Chronic   \n",
       "1                   N            N                     NaN  Chronic   \n",
       "2                   N            N                     NaN  Serious   \n",
       "3                   N            N                     NaN  Non-MMP   \n",
       "4                   N            N                     NaN  Non-MMP   \n",
       "\n",
       "                      Violation Type Priority Violation Date Occured  \\\n",
       "0  Water Quality -> Effluent -> CAT1                  N   2001-04-30   \n",
       "1  Water Quality -> Effluent -> CAT1                  N   2001-02-07   \n",
       "2  Water Quality -> Effluent -> CAT1                  Y   2001-02-07   \n",
       "3           Reporting -> Late Report                  3   2001-07-01   \n",
       "4           Reporting -> Late Report                  3   2001-08-01   \n",
       "\n",
       "                               Violation Description  \\\n",
       "0  Exceeded 12-month average Sodium limit for Apr...   \n",
       "1  Exceeded 12-month average Sodium limit for Feb...   \n",
       "2  Exceeded 12-month average Sulfate limit for Fe...   \n",
       "3              June 2001 DMR submitted 17 days late.   \n",
       "4              July 2001 DMR submitted 20 days late.   \n",
       "\n",
       "                                            Comments Corrective Action  \\\n",
       "0                                                NaN               NaN   \n",
       "1  Also, Board staff will issue a mandatory penal...               NaN   \n",
       "2  Also, Board staff will issue a mandatory penal...               NaN   \n",
       "3  Violation rescinded by revised NOV dated 3/25/02.               NaN   \n",
       "4  Violation rescinded by revised NOV dated 3/25/02.               NaN   \n",
       "\n",
       "  Enforcement Action ID     Enforcement Action EA Order Number  \\\n",
       "0             238075(+)  Admin Civil Liability    R8-2001-0108   \n",
       "1             238075(+)  Admin Civil Liability    R8-2001-0108   \n",
       "2             238075(+)  Admin Civil Liability    R8-2001-0108   \n",
       "3                240323    Notice of Violation             NOV   \n",
       "4                240323    Notice of Violation             NOV   \n",
       "\n",
       "  EA Effective Date Discovery Date  mmp_flag  enforced_flag  violation_year  \\\n",
       "0        2001-10-19     2001-05-31      True           True            2001   \n",
       "1        2001-10-19     2001-05-08      True           True            2001   \n",
       "2        2001-10-19     2001-05-08      True           True            2001   \n",
       "3        2002-01-07     2002-01-07     False           True            2001   \n",
       "4        2002-01-07     2002-01-07     False           True            2001   \n",
       "\n",
       "   enforcement_year             viol_to_enf_time enforcement_agency  \\\n",
       "0            2001.0  172 days 00:00:00.000000000                 R8   \n",
       "1            2001.0  254 days 00:00:00.000000000                 R8   \n",
       "2            2001.0  254 days 00:00:00.000000000                 R8   \n",
       "3            2002.0  190 days 00:00:00.000000000                NOV   \n",
       "4            2002.0  159 days 00:00:00.000000000                NOV   \n",
       "\n",
       "  violation_category       region_group  enforced_within_period  days_to_enf  \\\n",
       "0           Effluent           Region 8                    True        172.0   \n",
       "1           Effluent           Region 8                    True        254.0   \n",
       "2           Effluent           Region 8                    True        254.0   \n",
       "3          Reporting  Region 2, 3, 4, 5                    True        190.0   \n",
       "4          Reporting  Region 2, 3, 4, 5                    True        159.0   \n",
       "\n",
       "   npdes_flag  wwtp_flag  \n",
       "0        True       True  \n",
       "1        True       True  \n",
       "2        True       True  \n",
       "3        True      False  \n",
       "4        True      False  "
      ]
     },
     "execution_count": 3,
     "metadata": {},
     "output_type": "execute_result"
    }
   ],
   "source": [
    "violations.head()"
   ]
  },
  {
   "cell_type": "code",
   "execution_count": 4,
   "metadata": {},
   "outputs": [
    {
     "data": {
      "text/html": [
       "<div>\n",
       "<style scoped>\n",
       "    .dataframe tbody tr th:only-of-type {\n",
       "        vertical-align: middle;\n",
       "    }\n",
       "\n",
       "    .dataframe tbody tr th {\n",
       "        vertical-align: top;\n",
       "    }\n",
       "\n",
       "    .dataframe thead th {\n",
       "        text-align: right;\n",
       "    }\n",
       "</style>\n",
       "<table border=\"1\" class=\"dataframe\">\n",
       "  <thead>\n",
       "    <tr style=\"text-align: right;\">\n",
       "      <th></th>\n",
       "      <th>WDID</th>\n",
       "      <th>start_date</th>\n",
       "      <th>end_date</th>\n",
       "      <th>Region</th>\n",
       "      <th>Program</th>\n",
       "      <th>Status</th>\n",
       "      <th>active_flag</th>\n",
       "      <th>region_group</th>\n",
       "      <th>active_days</th>\n",
       "      <th>active_years</th>\n",
       "      <th>active_before_2007</th>\n",
       "      <th>active_after_2007</th>\n",
       "    </tr>\n",
       "  </thead>\n",
       "  <tbody>\n",
       "    <tr>\n",
       "      <th>0</th>\n",
       "      <td>1A84006ODN</td>\n",
       "      <td>1984-01-19</td>\n",
       "      <td>2022-03-31</td>\n",
       "      <td>1</td>\n",
       "      <td>NPDMUNILRG</td>\n",
       "      <td>Active</td>\n",
       "      <td>True</td>\n",
       "      <td>Other</td>\n",
       "      <td>13951.0</td>\n",
       "      <td>38.221918</td>\n",
       "      <td>True</td>\n",
       "      <td>True</td>\n",
       "    </tr>\n",
       "    <tr>\n",
       "      <th>1</th>\n",
       "      <td>1B80078OMEN</td>\n",
       "      <td>1985-07-25</td>\n",
       "      <td>2020-11-30</td>\n",
       "      <td>1</td>\n",
       "      <td>NPDMUNILRG</td>\n",
       "      <td>Active</td>\n",
       "      <td>False</td>\n",
       "      <td>Other</td>\n",
       "      <td>12912.0</td>\n",
       "      <td>35.375342</td>\n",
       "      <td>True</td>\n",
       "      <td>True</td>\n",
       "    </tr>\n",
       "    <tr>\n",
       "      <th>2</th>\n",
       "      <td>1B82037OSON</td>\n",
       "      <td>1982-04-22</td>\n",
       "      <td>2025-09-30</td>\n",
       "      <td>1</td>\n",
       "      <td>NPDMUNILRG</td>\n",
       "      <td>Active</td>\n",
       "      <td>True</td>\n",
       "      <td>Other</td>\n",
       "      <td>15867.0</td>\n",
       "      <td>43.471233</td>\n",
       "      <td>True</td>\n",
       "      <td>True</td>\n",
       "    </tr>\n",
       "    <tr>\n",
       "      <th>3</th>\n",
       "      <td>1B82046OSON</td>\n",
       "      <td>1982-04-22</td>\n",
       "      <td>2021-07-31</td>\n",
       "      <td>1</td>\n",
       "      <td>NPDMUNILRG</td>\n",
       "      <td>Active</td>\n",
       "      <td>True</td>\n",
       "      <td>Other</td>\n",
       "      <td>14345.0</td>\n",
       "      <td>39.301370</td>\n",
       "      <td>True</td>\n",
       "      <td>True</td>\n",
       "    </tr>\n",
       "    <tr>\n",
       "      <th>4</th>\n",
       "      <td>1B82084OHUM</td>\n",
       "      <td>1982-07-22</td>\n",
       "      <td>2023-10-31</td>\n",
       "      <td>1</td>\n",
       "      <td>NPDMUNILRG</td>\n",
       "      <td>Active</td>\n",
       "      <td>True</td>\n",
       "      <td>Other</td>\n",
       "      <td>15076.0</td>\n",
       "      <td>41.304110</td>\n",
       "      <td>True</td>\n",
       "      <td>True</td>\n",
       "    </tr>\n",
       "  </tbody>\n",
       "</table>\n",
       "</div>"
      ],
      "text/plain": [
       "          WDID  start_date    end_date Region     Program  Status  \\\n",
       "0   1A84006ODN  1984-01-19  2022-03-31      1  NPDMUNILRG  Active   \n",
       "1  1B80078OMEN  1985-07-25  2020-11-30      1  NPDMUNILRG  Active   \n",
       "2  1B82037OSON  1982-04-22  2025-09-30      1  NPDMUNILRG  Active   \n",
       "3  1B82046OSON  1982-04-22  2021-07-31      1  NPDMUNILRG  Active   \n",
       "4  1B82084OHUM  1982-07-22  2023-10-31      1  NPDMUNILRG  Active   \n",
       "\n",
       "   active_flag region_group  active_days  active_years  active_before_2007  \\\n",
       "0         True        Other      13951.0     38.221918                True   \n",
       "1        False        Other      12912.0     35.375342                True   \n",
       "2         True        Other      15867.0     43.471233                True   \n",
       "3         True        Other      14345.0     39.301370                True   \n",
       "4         True        Other      15076.0     41.304110                True   \n",
       "\n",
       "   active_after_2007  \n",
       "0               True  \n",
       "1               True  \n",
       "2               True  \n",
       "3               True  \n",
       "4               True  "
      ]
     },
     "execution_count": 4,
     "metadata": {},
     "output_type": "execute_result"
    }
   ],
   "source": [
    "wwtp_consistent.head()"
   ]
  },
  {
   "cell_type": "code",
   "execution_count": 5,
   "metadata": {},
   "outputs": [],
   "source": [
    "# conditional on WWTP \n",
    "## violations (effluent MMP)\n",
    "viol_wwtp = violations[(violations.WDID_x.isin(wwtp_consistent.WDID)) & (violations['VIOLATION TYPE'] == 'Effluent') & (violations.mmp_flag)]\n",
    "data = viol_wwtp.groupby(['WDID_x', 'region_group', 'violation_year', 'mmp_flag'])['wwtp_flag'].count().to_frame().reset_index()\n",
    "data = data.rename(columns = {'WDID_x': 'WDID', 'wwtp_flag': 'violation_count'})\n",
    "data['treatment_group'] = np.where(data.region_group == 'Region 2, 3, 4, 5', 1, 0)\n",
    "data['treatment_time'] = np.where(data.violation_year >= 2008, 1, 0)\n",
    "data['did'] = data['treatment_group'] * data['treatment_time']\n",
    "\n",
    "## facilities\n",
    "wwtp_consistent.start_date = pd.to_datetime(wwtp_consistent.start_date)\n",
    "wwtp_consistent.end_date = pd.to_datetime(wwtp_consistent.end_date)\n",
    "years = range(2000, 2022, 1)\n",
    "counts = []\n",
    "for y in years:\n",
    "    y_start = dt.datetime(y, 1, 1)\n",
    "    y_end = dt.datetime(y, 12, 30)\n",
    "    wwtp_consistent['active_flag'] = (wwtp_consistent.start_date <= y_end) & ((wwtp_consistent.end_date >= y_start) | (pd.isnull(wwtp_consistent.end_date)))\n",
    "    df = wwtp_consistent.groupby(['region_group'])['active_flag'].sum().to_frame().reset_index()\n",
    "    df = df.rename(columns = {'active_flag': 'permit_count'})\n",
    "    df['year'] = y\n",
    "    df = df[['year', 'region_group', 'permit_count']]\n",
    "    counts.append(df)\n",
    "wwtp_count = pd.concat(counts)"
   ]
  },
  {
   "cell_type": "code",
   "execution_count": 6,
   "metadata": {},
   "outputs": [
    {
     "data": {
      "image/png": "[encoded data removed]",
      "text/plain": [
       "<Figure size 432x288 with 1 Axes>"
      ]
     },
     "metadata": {
      "needs_background": "light"
     },
     "output_type": "display_data"
    }
   ],
   "source": [
    "# plot facility counts by group across time\n",
    "plt.title('Active WWTP Permit Count')\n",
    "plt.plot(wwtp_count[wwtp_count.region_group == 'Region 2, 3, 4, 5'].year, wwtp_count[wwtp_count.region_group == 'Region 2, 3, 4, 5'].permit_count)\n",
    "plt.plot(wwtp_count[wwtp_count.region_group == 'Other'].year, wwtp_count[wwtp_count.region_group == 'Other'].permit_count)\n",
    "plt.legend(['Region 2, 3, 4, 5', 'Other Regions'])\n",
    "plt.xlabel('Year')\n",
    "plt.ylabel('Count')\n",
    "plt.show()"
   ]
  },
  {
   "cell_type": "markdown",
   "metadata": {},
   "source": [
    "> Active WWTP count almost doubles in the treated regions. Implications? "
   ]
  },
  {
   "cell_type": "code",
   "execution_count": 7,
   "metadata": {},
   "outputs": [
    {
     "data": {
      "image/png": "[encoded data removed]",
      "text/plain": [
       "<Figure size 432x288 with 1 Axes>"
      ]
     },
     "metadata": {
      "needs_background": "light"
     },
     "output_type": "display_data"
    }
   ],
   "source": [
    "# plot distribution of violation counts\n",
    "plt.hist(data.violation_count, bins = 100)\n",
    "plt.show()"
   ]
  },
  {
   "cell_type": "code",
   "execution_count": 8,
   "metadata": {},
   "outputs": [
    {
     "data": {
      "text/plain": [
       "count    1166.000000\n",
       "mean       11.548885\n",
       "std        24.825273\n",
       "min         1.000000\n",
       "25%         1.000000\n",
       "50%         4.000000\n",
       "75%        12.000000\n",
       "max       388.000000\n",
       "Name: violation_count, dtype: float64"
      ]
     },
     "execution_count": 8,
     "metadata": {},
     "output_type": "execute_result"
    }
   ],
   "source": [
    "data.violation_count.describe()"
   ]
  },
  {
   "cell_type": "code",
   "execution_count": 9,
   "metadata": {},
   "outputs": [
    {
     "name": "stdout",
     "output_type": "stream",
     "text": [
      "Outlier bounds: upper = 28.5; lower = -15.5\n"
     ]
    }
   ],
   "source": [
    "q1 = np.percentile(data.violation_count, 25)\n",
    "q3 = np.percentile(data.violation_count, 75)\n",
    "iqr = q3 - q1\n",
    "upper = q3 + 1.5*iqr\n",
    "lower = q1 - 1.5*iqr\n",
    "print(f'Outlier bounds: upper = {upper}; lower = {lower}')"
   ]
  },
  {
   "cell_type": "code",
   "execution_count": 10,
   "metadata": {},
   "outputs": [
    {
     "name": "stdout",
     "output_type": "stream",
     "text": [
      "101 records removed\n"
     ]
    },
    {
     "data": {
      "text/plain": [
       "count    1065.000000\n",
       "mean        6.189671\n",
       "std         6.474189\n",
       "min         1.000000\n",
       "25%         1.000000\n",
       "50%         3.000000\n",
       "75%         9.000000\n",
       "max        28.000000\n",
       "Name: violation_count, dtype: float64"
      ]
     },
     "execution_count": 10,
     "metadata": {},
     "output_type": "execute_result"
    }
   ],
   "source": [
    "# remove outliers\n",
    "data_trim = data[(data.violation_count >= lower) & (data.violation_count <= upper)]\n",
    "print(f'{sum((data.violation_count < lower) | (data.violation_count > upper))} records removed')\n",
    "data_trim.violation_count.describe()"
   ]
  },
  {
   "cell_type": "markdown",
   "metadata": {},
   "source": [
    "\"\n",
    "In February 2008, the State Water Board’s Office of Enforcement (OE) began examining many of the violations subject to MMPs in the California Integrated Water Quality System (CIWQS) dating back to January 1, 2000 that had not received an enforcement action to assess a MMP. After discussing the ways to efficiently address these outstanding violations, the Water Boards started the Statewide Initiative for MMP Enforcement (Initiative).\n",
    "\n",
    "The Initiative’s goal was to substantially reduce the MMP enforcement backlog by December 31, 2008. Violations occurring on or before December 31, 2007 were considered backlogged violations for the purposes of the Initiative. For administrative efficiency and taking advantage of the enforcement focus offered by the Initiative, several regions used the Initiative to address MMP violations that occurred after December 31, 2007.\n",
    "\"\n",
    "- https://www.waterboards.ca.gov/water_issues/programs/enforcement/docs/mmpdraftreport.pdf"
   ]
  },
  {
   "cell_type": "code",
   "execution_count": 11,
   "metadata": {},
   "outputs": [
    {
     "data": {
      "text/plain": [
       "EA Effective Date\n",
       "2008-11-19    19\n",
       "2011-03-14     5\n",
       "2004-06-25     5\n",
       "2001-04-16     5\n",
       "2013-01-11     5\n",
       "2011-01-07     4\n",
       "2003-07-02     4\n",
       "2012-01-05     4\n",
       "2008-11-10     4\n",
       "2011-05-06     4\n",
       "Name: WDID_x, dtype: int64"
      ]
     },
     "execution_count": 11,
     "metadata": {},
     "output_type": "execute_result"
    }
   ],
   "source": [
    "# clarify treatment time (date)\n",
    "df = viol_wwtp[(viol_wwtp.enforced_flag) & (viol_wwtp['Enforcement Action'].isin(['Admin Civil Liability', 'Expedited Payment Letter']))]\n",
    "df['EA Effective Date'] = pd.to_datetime(df['EA Effective Date'])\n",
    "## treated regions by facility count\n",
    "df[df.region_group == 'Region 2, 3, 4, 5'].groupby(['EA Effective Date', 'WDID_x'])['mmp_flag'].count().to_frame().reset_index().groupby(['EA Effective Date'])['WDID_x'].count().sort_values(ascending = False)[:10]"
   ]
  },
  {
   "cell_type": "code",
   "execution_count": 12,
   "metadata": {},
   "outputs": [
    {
     "data": {
      "text/plain": [
       "EA Effective Date\n",
       "2008-05-05    405\n",
       "2005-04-15    356\n",
       "2003-08-06    293\n",
       "2012-12-04    230\n",
       "2011-02-04    209\n",
       "2014-05-15    197\n",
       "2011-02-23    195\n",
       "2006-12-15    194\n",
       "2017-01-23    165\n",
       "2015-06-10    163\n",
       "Name: mmp_flag, dtype: int64"
      ]
     },
     "execution_count": 12,
     "metadata": {},
     "output_type": "execute_result"
    }
   ],
   "source": [
    "# by violation count\n",
    "df[df.region_group == 'Region 2, 3, 4, 5'].groupby(['EA Effective Date'])['mmp_flag'].count().sort_values(ascending = False)[:10]"
   ]
  },
  {
   "cell_type": "code",
   "execution_count": 13,
   "metadata": {
    "scrolled": false
   },
   "outputs": [
    {
     "data": {
      "text/plain": [
       "SWB    72\n",
       "R5     11\n",
       "Name: enforcement_agency, dtype: int64"
      ]
     },
     "execution_count": 13,
     "metadata": {},
     "output_type": "execute_result"
    }
   ],
   "source": [
    "df[(df['EA Effective Date'] == pd.to_datetime('2008-11-19')) & (df.region_group == 'Region 2, 3, 4, 5')]['enforcement_agency'].value_counts()"
   ]
  },
  {
   "cell_type": "code",
   "execution_count": 14,
   "metadata": {},
   "outputs": [
    {
     "data": {
      "text/plain": [
       "2008.0    1863\n",
       "2005.0    1183\n",
       "2011.0    1128\n",
       "2012.0     686\n",
       "2006.0     676\n",
       "2003.0     649\n",
       "2009.0     625\n",
       "2001.0     605\n",
       "2015.0     565\n",
       "2020.0     556\n",
       "2013.0     526\n",
       "2007.0     377\n",
       "2014.0     370\n",
       "2019.0     323\n",
       "2017.0     316\n",
       "2002.0     310\n",
       "2004.0     305\n",
       "2000.0     284\n",
       "2016.0     188\n",
       "2010.0     162\n",
       "2021.0     149\n",
       "2018.0     134\n",
       "Name: enforcement_year, dtype: int64"
      ]
     },
     "execution_count": 14,
     "metadata": {},
     "output_type": "execute_result"
    }
   ],
   "source": [
    "df.enforcement_year.value_counts()"
   ]
  },
  {
   "cell_type": "code",
   "execution_count": 15,
   "metadata": {},
   "outputs": [
    {
     "data": {
      "image/png": "[encoded data removed]",
      "text/plain": [
       "<Figure size 432x288 with 1 Axes>"
      ]
     },
     "metadata": {
      "needs_background": "light"
     },
     "output_type": "display_data"
    }
   ],
   "source": [
    "n_bins = len(df.enforcement_year.unique())\n",
    "plt.title('WWTPs MMP Enforcement Counts\\n(Expedited Payment Letter or ACL)')\n",
    "plt.hist(df[df.region_group == 'Region 2, 3, 4, 5']['enforcement_year'], bins = n_bins-1, alpha = 0.8)\n",
    "plt.hist(df[df.region_group != 'Region 2, 3, 4, 5']['enforcement_year'], bins = n_bins-1, alpha = 0.8)\n",
    "plt.legend(['Region 2, 3, 4, 5', 'Other Regions'])\n",
    "plt.axvline(x = 2008,color = 'red',linestyle = '--')\n",
    "plt.annotate('2008 \\nMMP Initiative', (2001, 1000), color = 'red')\n",
    "plt.axvline(x = 2013,color = 'blue',linestyle = '--')\n",
    "plt.annotate('2013 Another Push', (2014, 900), color = 'blue')\n",
    "plt.xlabel('Enforcement Year')\n",
    "plt.ylabel('Count')\n",
    "plt.show()"
   ]
  },
  {
   "cell_type": "code",
   "execution_count": 16,
   "metadata": {},
   "outputs": [
    {
     "data": {
      "text/plain": [
       "EA Effective Date\n",
       "2000-07-31    3\n",
       "2004-03-09    3\n",
       "2011-07-12    2\n",
       "2007-05-18    2\n",
       "2004-11-16    2\n",
       "2012-04-25    2\n",
       "2005-12-30    2\n",
       "2003-12-19    2\n",
       "2016-09-20    2\n",
       "2016-10-04    2\n",
       "Name: WDID_x, dtype: int64"
      ]
     },
     "execution_count": 16,
     "metadata": {},
     "output_type": "execute_result"
    }
   ],
   "source": [
    "# control regions\n",
    "df = viol_wwtp[(viol_wwtp.enforced_flag) & (viol_wwtp.region_group != 'Region 2, 3, 4, 5')]\n",
    "df['EA Effective Date'] = pd.to_datetime(df['EA Effective Date'])\n",
    "## by facility count\n",
    "df.groupby(['EA Effective Date', 'WDID_x'])['mmp_flag'].count().to_frame().reset_index().groupby(['EA Effective Date'])['WDID_x'].count().sort_values(ascending = False)[:10]"
   ]
  },
  {
   "cell_type": "code",
   "execution_count": 17,
   "metadata": {},
   "outputs": [
    {
     "data": {
      "image/png": "[encoded data removed]",
      "text/plain": [
       "<Figure size 432x288 with 1 Axes>"
      ]
     },
     "metadata": {
      "needs_background": "light"
     },
     "output_type": "display_data"
    }
   ],
   "source": [
    "n_bins = len(df.enforcement_year.unique())\n",
    "plt.hist(df['EA Effective Date'], bins = n_bins)\n",
    "#plt.hist(df[df.region_group != 'Region 2, 3, 4, 5']['EA Effective Date'], bins = n_bins)\n",
    "plt.axvline(x = pd.to_datetime('2008-02-01'),color = 'red',linestyle = '--')\n",
    "plt.annotate('2008 \\nMMP Initiative', (pd.to_datetime('2001-01-01'), 1000), color = 'red')\n",
    "plt.xlabel('Enforcement Year')\n",
    "plt.ylabel('Count')\n",
    "plt.show()"
   ]
  },
  {
   "cell_type": "code",
   "execution_count": 18,
   "metadata": {},
   "outputs": [
    {
     "name": "stdout",
     "output_type": "stream",
     "text": [
      "5S    2908\n",
      "4     1717\n",
      "1      322\n",
      "2      173\n",
      "7      171\n",
      "8      132\n",
      "9      121\n",
      "6B      96\n",
      "5F      72\n",
      "5R      71\n",
      "3       35\n",
      "Name: VIOLATED FACILITY REGION, dtype: int64\n"
     ]
    },
    {
     "data": {
      "image/png": "[encoded data removed]",
      "text/plain": [
       "<Figure size 432x288 with 1 Axes>"
      ]
     },
     "metadata": {
      "needs_background": "light"
     },
     "output_type": "display_data"
    }
   ],
   "source": [
    "# 2008 MMP initiative\n",
    "## focusing on Regions 2, 3, 4, and 5\n",
    "\n",
    "df = violations[(violations.mmp_flag) & (violations.enforced_flag) & (violations['Enforcement Action'].isin(['Admin Civil Liability', 'Expedited Payment Letter']))]\n",
    "print(df[df.enforcement_year == 2008]['VIOLATED FACILITY REGION'].value_counts())\n",
    "\n",
    "# count of enforcement actions for mmp violations over time in region 2, 3, 4, and 5\n",
    "plt.title('Count of MMP Enforcement Actions\\n(Expedited Payment Letter or ACL)')\n",
    "plt.hist(df[df.region_group == 'Region 2, 3, 4, 5'].enforcement_year, bins = len(df.enforcement_year.unique()), alpha = 0.8)\n",
    "plt.hist(df[df.region_group != 'Region 2, 3, 4, 5'].enforcement_year, bins = len(df.enforcement_year.unique())-3, alpha = 0.8)\n",
    "plt.legend(['Region 2, 3, 4, and 5', 'Other Regions'])\n",
    "plt.axvline(x = 2008,color = 'red',linestyle = '--')\n",
    "plt.annotate('2008 \\nMMP Initiative', (2001, 3500), color = 'red')\n",
    "plt.axvline(x = 2013,color = 'blue',linestyle = '--')\n",
    "plt.annotate('2013 Another Push', (2014, 3500), color = 'blue')\n",
    "plt.xlabel('Enforcement Year')\n",
    "plt.ylabel('Count')\n",
    "plt.show()"
   ]
  },
  {
   "cell_type": "markdown",
   "metadata": {},
   "source": [
    "### Modeling"
   ]
  },
  {
   "cell_type": "code",
   "execution_count": 120,
   "metadata": {},
   "outputs": [
    {
     "data": {
      "text/html": [
       "<div>\n",
       "<style scoped>\n",
       "    .dataframe tbody tr th:only-of-type {\n",
       "        vertical-align: middle;\n",
       "    }\n",
       "\n",
       "    .dataframe tbody tr th {\n",
       "        vertical-align: top;\n",
       "    }\n",
       "\n",
       "    .dataframe thead th {\n",
       "        text-align: right;\n",
       "    }\n",
       "</style>\n",
       "<table border=\"1\" class=\"dataframe\">\n",
       "  <thead>\n",
       "    <tr style=\"text-align: right;\">\n",
       "      <th></th>\n",
       "      <th>WDID</th>\n",
       "      <th>region_group</th>\n",
       "      <th>violation_year</th>\n",
       "      <th>mmp_flag</th>\n",
       "      <th>violation_count</th>\n",
       "      <th>treatment_group</th>\n",
       "      <th>treatment_time</th>\n",
       "      <th>did</th>\n",
       "    </tr>\n",
       "  </thead>\n",
       "  <tbody>\n",
       "    <tr>\n",
       "      <th>0</th>\n",
       "      <td>1A84006ODN</td>\n",
       "      <td>Region 1, 3, 7</td>\n",
       "      <td>2003</td>\n",
       "      <td>True</td>\n",
       "      <td>6</td>\n",
       "      <td>0</td>\n",
       "      <td>0</td>\n",
       "      <td>0</td>\n",
       "    </tr>\n",
       "    <tr>\n",
       "      <th>1</th>\n",
       "      <td>1A84006ODN</td>\n",
       "      <td>Region 1, 3, 7</td>\n",
       "      <td>2005</td>\n",
       "      <td>True</td>\n",
       "      <td>5</td>\n",
       "      <td>0</td>\n",
       "      <td>0</td>\n",
       "      <td>0</td>\n",
       "    </tr>\n",
       "    <tr>\n",
       "      <th>2</th>\n",
       "      <td>1A84006ODN</td>\n",
       "      <td>Region 1, 3, 7</td>\n",
       "      <td>2006</td>\n",
       "      <td>True</td>\n",
       "      <td>9</td>\n",
       "      <td>0</td>\n",
       "      <td>0</td>\n",
       "      <td>0</td>\n",
       "    </tr>\n",
       "    <tr>\n",
       "      <th>3</th>\n",
       "      <td>1A84006ODN</td>\n",
       "      <td>Region 1, 3, 7</td>\n",
       "      <td>2007</td>\n",
       "      <td>True</td>\n",
       "      <td>12</td>\n",
       "      <td>0</td>\n",
       "      <td>1</td>\n",
       "      <td>0</td>\n",
       "    </tr>\n",
       "    <tr>\n",
       "      <th>4</th>\n",
       "      <td>1A84006ODN</td>\n",
       "      <td>Region 1, 3, 7</td>\n",
       "      <td>2008</td>\n",
       "      <td>True</td>\n",
       "      <td>31</td>\n",
       "      <td>0</td>\n",
       "      <td>1</td>\n",
       "      <td>0</td>\n",
       "    </tr>\n",
       "  </tbody>\n",
       "</table>\n",
       "</div>"
      ],
      "text/plain": [
       "         WDID    region_group  violation_year  mmp_flag  violation_count  \\\n",
       "0  1A84006ODN  Region 1, 3, 7            2003      True                6   \n",
       "1  1A84006ODN  Region 1, 3, 7            2005      True                5   \n",
       "2  1A84006ODN  Region 1, 3, 7            2006      True                9   \n",
       "3  1A84006ODN  Region 1, 3, 7            2007      True               12   \n",
       "4  1A84006ODN  Region 1, 3, 7            2008      True               31   \n",
       "\n",
       "   treatment_group  treatment_time  did  \n",
       "0                0               0    0  \n",
       "1                0               0    0  \n",
       "2                0               0    0  \n",
       "3                0               1    0  \n",
       "4                0               1    0  "
      ]
     },
     "execution_count": 120,
     "metadata": {},
     "output_type": "execute_result"
    }
   ],
   "source": [
    "data.head()"
   ]
  },
  {
   "cell_type": "code",
   "execution_count": 127,
   "metadata": {},
   "outputs": [
    {
     "data": {
      "text/html": [
       "<table class=\"simpletable\">\n",
       "<caption>OLS Regression Results</caption>\n",
       "<tr>\n",
       "  <th>Dep. Variable:</th>     <td>violation_count</td> <th>  R-squared:         </th> <td>   0.013</td> \n",
       "</tr>\n",
       "<tr>\n",
       "  <th>Model:</th>                   <td>OLS</td>       <th>  Adj. R-squared:    </th> <td>   0.010</td> \n",
       "</tr>\n",
       "<tr>\n",
       "  <th>Method:</th>             <td>Least Squares</td>  <th>  F-statistic:       </th> <td>   4.981</td> \n",
       "</tr>\n",
       "<tr>\n",
       "  <th>Date:</th>             <td>Fri, 14 Jan 2022</td> <th>  Prob (F-statistic):</th>  <td>0.00194</td> \n",
       "</tr>\n",
       "<tr>\n",
       "  <th>Time:</th>                 <td>10:46:32</td>     <th>  Log-Likelihood:    </th> <td> -5391.6</td> \n",
       "</tr>\n",
       "<tr>\n",
       "  <th>No. Observations:</th>      <td>  1166</td>      <th>  AIC:               </th> <td>1.079e+04</td>\n",
       "</tr>\n",
       "<tr>\n",
       "  <th>Df Residuals:</th>          <td>  1162</td>      <th>  BIC:               </th> <td>1.081e+04</td>\n",
       "</tr>\n",
       "<tr>\n",
       "  <th>Df Model:</th>              <td>     3</td>      <th>                     </th>     <td> </td>    \n",
       "</tr>\n",
       "<tr>\n",
       "  <th>Covariance Type:</th>      <td>nonrobust</td>    <th>                     </th>     <td> </td>    \n",
       "</tr>\n",
       "</table>\n",
       "<table class=\"simpletable\">\n",
       "<tr>\n",
       "         <td></td>            <th>coef</th>     <th>std err</th>      <th>t</th>      <th>P>|t|</th>  <th>[0.025</th>    <th>0.975]</th>  \n",
       "</tr>\n",
       "<tr>\n",
       "  <th>const</th>           <td>   19.6218</td> <td>    2.264</td> <td>    8.666</td> <td> 0.000</td> <td>   15.180</td> <td>   24.064</td>\n",
       "</tr>\n",
       "<tr>\n",
       "  <th>treatment_group</th> <td>   -8.2613</td> <td>    2.595</td> <td>   -3.184</td> <td> 0.001</td> <td>  -13.352</td> <td>   -3.171</td>\n",
       "</tr>\n",
       "<tr>\n",
       "  <th>treatment_time</th>  <td>   -8.6518</td> <td>    2.859</td> <td>   -3.026</td> <td> 0.003</td> <td>  -14.262</td> <td>   -3.042</td>\n",
       "</tr>\n",
       "<tr>\n",
       "  <th>did</th>             <td>    7.1843</td> <td>    3.330</td> <td>    2.157</td> <td> 0.031</td> <td>    0.651</td> <td>   13.718</td>\n",
       "</tr>\n",
       "</table>\n",
       "<table class=\"simpletable\">\n",
       "<tr>\n",
       "  <th>Omnibus:</th>       <td>1571.950</td> <th>  Durbin-Watson:     </th>  <td>   1.443</td> \n",
       "</tr>\n",
       "<tr>\n",
       "  <th>Prob(Omnibus):</th>  <td> 0.000</td>  <th>  Jarque-Bera (JB):  </th> <td>318798.500</td>\n",
       "</tr>\n",
       "<tr>\n",
       "  <th>Skew:</th>           <td> 7.337</td>  <th>  Prob(JB):          </th>  <td>    0.00</td> \n",
       "</tr>\n",
       "<tr>\n",
       "  <th>Kurtosis:</th>       <td>82.665</td>  <th>  Cond. No.          </th>  <td>    10.5</td> \n",
       "</tr>\n",
       "</table><br/><br/>Warnings:<br/>[1] Standard Errors assume that the covariance matrix of the errors is correctly specified."
      ],
      "text/plain": [
       "<class 'statsmodels.iolib.summary.Summary'>\n",
       "\"\"\"\n",
       "                            OLS Regression Results                            \n",
       "==============================================================================\n",
       "Dep. Variable:        violation_count   R-squared:                       0.013\n",
       "Model:                            OLS   Adj. R-squared:                  0.010\n",
       "Method:                 Least Squares   F-statistic:                     4.981\n",
       "Date:                Fri, 14 Jan 2022   Prob (F-statistic):            0.00194\n",
       "Time:                        10:46:32   Log-Likelihood:                -5391.6\n",
       "No. Observations:                1166   AIC:                         1.079e+04\n",
       "Df Residuals:                    1162   BIC:                         1.081e+04\n",
       "Df Model:                           3                                         \n",
       "Covariance Type:            nonrobust                                         \n",
       "===================================================================================\n",
       "                      coef    std err          t      P>|t|      [0.025      0.975]\n",
       "-----------------------------------------------------------------------------------\n",
       "const              19.6218      2.264      8.666      0.000      15.180      24.064\n",
       "treatment_group    -8.2613      2.595     -3.184      0.001     -13.352      -3.171\n",
       "treatment_time     -8.6518      2.859     -3.026      0.003     -14.262      -3.042\n",
       "did                 7.1843      3.330      2.157      0.031       0.651      13.718\n",
       "==============================================================================\n",
       "Omnibus:                     1571.950   Durbin-Watson:                   1.443\n",
       "Prob(Omnibus):                  0.000   Jarque-Bera (JB):           318798.500\n",
       "Skew:                           7.337   Prob(JB):                         0.00\n",
       "Kurtosis:                      82.665   Cond. No.                         10.5\n",
       "==============================================================================\n",
       "\n",
       "Warnings:\n",
       "[1] Standard Errors assume that the covariance matrix of the errors is correctly specified.\n",
       "\"\"\""
      ]
     },
     "execution_count": 127,
     "metadata": {},
     "output_type": "execute_result"
    }
   ],
   "source": [
    "# this is not clustered on facility \n",
    "X = sm.add_constant(data[['treatment_group', 'treatment_time', 'did']])\n",
    "y = data['violation_count']\n",
    "# normalize y\n",
    "model = sm.OLS(y, X).fit()\n",
    "model.summary()"
   ]
  },
  {
   "cell_type": "code",
   "execution_count": 122,
   "metadata": {},
   "outputs": [
    {
     "data": {
      "text/plain": [
       "7.184256042550009"
      ]
     },
     "execution_count": 122,
     "metadata": {},
     "output_type": "execute_result"
    }
   ],
   "source": [
    "# check effect size\n",
    "pre_treat = data[(data.treatment_group == 1) & (data.treatment_time == 0)].violation_count\n",
    "pre_con = data[(data.treatment_group == 0) & (data.treatment_time == 0)].violation_count\n",
    "post_treat = data[(data.treatment_group == 1) & (data.treatment_time == 1)].violation_count\n",
    "post_con = data[(data.treatment_group == 0) & (data.treatment_time == 1)].violation_count\n",
    "(post_treat.mean() - pre_treat.mean()) - (post_con.mean() - pre_con.mean())"
   ]
  },
  {
   "cell_type": "code",
   "execution_count": 110,
   "metadata": {},
   "outputs": [
    {
     "data": {
      "text/plain": [
       "(array([47., 38., 37.,  0., 11., 10.,  0.,  7.,  1.,  2.]),\n",
       " array([1. , 1.7, 2.4, 3.1, 3.8, 4.5, 5.2, 5.9, 6.6, 7.3, 8. ]),\n",
       " <a list of 10 Patch objects>)"
      ]
     },
     "execution_count": 110,
     "metadata": {},
     "output_type": "execute_result"
    },
    {
     "data": {
      "image/png": "[encoded data removed]",
      "text/plain": [
       "<Figure size 432x288 with 1 Axes>"
      ]
     },
     "metadata": {
      "needs_background": "light"
     },
     "output_type": "display_data"
    }
   ],
   "source": [
    "plt.hist(pre_con)"
   ]
  },
  {
   "cell_type": "code",
   "execution_count": 111,
   "metadata": {},
   "outputs": [
    {
     "data": {
      "text/plain": [
       "(array([119.,  69.,  74.,   0.,  18.,   8.,   0.,   8.,   1.,   1.]),\n",
       " array([1. , 1.7, 2.4, 3.1, 3.8, 4.5, 5.2, 5.9, 6.6, 7.3, 8. ]),\n",
       " <a list of 10 Patch objects>)"
      ]
     },
     "execution_count": 111,
     "metadata": {},
     "output_type": "execute_result"
    },
    {
     "data": {
      "image/png": "[encoded data removed]",
      "text/plain": [
       "<Figure size 432x288 with 1 Axes>"
      ]
     },
     "metadata": {
      "needs_background": "light"
     },
     "output_type": "display_data"
    }
   ],
   "source": [
    "plt.hist(post_con)"
   ]
  }
 ],
 "metadata": {
  "kernelspec": {
   "display_name": "Python 3",
   "language": "python",
   "name": "python3"
  },
  "language_info": {
   "codemirror_mode": {
    "name": "ipython",
    "version": 3
   },
   "file_extension": ".py",
   "mimetype": "text/x-python",
   "name": "python",
   "nbconvert_exporter": "python",
   "pygments_lexer": "ipython3",
   "version": "3.7.3"
  }
 },
 "nbformat": 4,
 "nbformat_minor": 4
}
