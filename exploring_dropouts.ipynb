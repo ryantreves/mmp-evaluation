{
 "cells": [
  {
   "cell_type": "markdown",
   "metadata": {},
   "source": [
    "# What can we learn about CA general permittees that terminated their NPDES permits, potentially in connection with the MMP statutory change in 2006?\n",
    "\n",
    "We're specifically interested in Region 4.\n",
    "\n",
    "<i> Ryan Treves"
   ]
  },
  {
   "cell_type": "code",
   "execution_count": 1,
   "metadata": {
    "collapsed": true
   },
   "outputs": [],
   "source": [
    "# Imports\n",
    "import pandas as pd\n",
    "import matplotlib.pyplot as plt\n",
    "import warnings\n",
    "import numpy as np\n",
    "import seaborn as sns\n",
    "import yaml\n",
    "from pathlib import Path\n",
    "from policy_eval import main\n",
    "from IPython.core.display_functions import clear_output\n",
    "from policy_eval import scrape_facility_reports as sr\n",
    "\n",
    "# display all rows & columns\n",
    "pd.set_option('display.max_columns', None)\n",
    "pd.set_option('display.max_rows', None)\n",
    "# display all columns\n",
    "pd.set_option('display.max_columns', None)\n",
    "\n",
    "# turn off warning messages\n",
    "warnings.filterwarnings('ignore')"
   ]
  },
  {
   "cell_type": "code",
   "execution_count": 2,
   "metadata": {},
   "outputs": [],
   "source": [
    "# This function takes in a comparison group, treatment group, and a column name,\n",
    "# and returns the top n values of the column in order of the absolute difference\n",
    "# in composition of the two groups. Streamlines compositional analysis.\n",
    "def compare_composition(data_a, data_b, column, top_n=3):\n",
    "    A = pd.DataFrame(data_a[column].value_counts(normalize=True)).rename(columns={column: 'Group A'})\n",
    "    B = pd.DataFrame(data_b[column].value_counts(normalize=True)).rename(columns={column: 'Group B'})\n",
    "    results = pd.concat([A, B], axis=1)\n",
    "    results['diff'] = np.abs(results['Group A'] - results['Group B'])\n",
    "    results = results.apply(lambda x: x.round(2))\n",
    "    results.sort_values(by='diff', inplace=True, ascending=False)\n",
    "    results = results.reset_index(names='Value').set_index(pd.Index([column] * len(results)))\n",
    "    return results.head(top_n)"
   ]
  },
  {
   "cell_type": "code",
   "execution_count": 3,
   "metadata": {},
   "outputs": [],
   "source": [
    "# Function to get SIC category. From reglab/third_party_dmr, see https://github.com/reglab/third_party_dmr/blob/73eb02f93caecaaf1441d98133dcfd3ac315e11d/scripts/utils.py#L23\n",
    "def get_sic_category(sic):\n",
    "    \"\"\"\n",
    "    Returns broad SIC category\n",
    "        -1: sic code is NA\n",
    "        0: agriculture, forestry and fishing\n",
    "        1: mining\n",
    "        2: construction\n",
    "        3: manufacturing\n",
    "        4: transportation, telecom\n",
    "        5: utilities, other\n",
    "        6: utilities, wastewater, sewage, water supply\n",
    "        7: trade, retail etc.\n",
    "        8: services\n",
    "        9: public admin\n",
    "    \"\"\"\n",
    "    if pd.isna(sic):\n",
    "        return -1\n",
    "\n",
    "    sic_two_digits = int(str(sic)[0:2])\n",
    "    if sic_two_digits < 10:\n",
    "        return 0\n",
    "    if sic_two_digits < 15:\n",
    "        return 1\n",
    "    if sic_two_digits < 18:\n",
    "        return 2\n",
    "    if sic_two_digits < 40:\n",
    "        return 3\n",
    "    if sic_two_digits < 49:\n",
    "        return 4\n",
    "    if sic_two_digits < 50 and (sic < 4940 or sic > 4952) and sic < 4970:\n",
    "        return 5\n",
    "    if sic_two_digits < 40 and ((sic > 4940 and sic < 4953) or sic == 4971):\n",
    "        return 6\n",
    "    if sic_two_digits < 70:\n",
    "        return 7\n",
    "    if sic_two_digits < 90:\n",
    "        return 8\n",
    "    else:\n",
    "        return 9"
   ]
  },
  {
   "cell_type": "code",
   "execution_count": 4,
   "metadata": {},
   "outputs": [],
   "source": [
    "# Return the euclidean distance between to (x,y) tuples\n",
    "def euclidean_distance(tup1, tup2):\n",
    "    return np.sqrt(((tup1[0] - tup2[0]) ** 2) + ((tup1[1] - tup2[1])**2))"
   ]
  },
  {
   "cell_type": "code",
   "execution_count": 5,
   "metadata": {},
   "outputs": [],
   "source": [
    "# Return the npdes_permit_id of the closest POTW to a given set of lat/long coordinates\n",
    "def get_closest_potw(discharger_latlong, wwtp_table):\n",
    "    closest_wwtp = ''\n",
    "    closest_distance = 0\n",
    "    for i in range(0, len(wwtp_table)):\n",
    "        current_distance = euclidean_distance([wwtp_table['geocode_latitude'].iloc[i], wwtp_table['geocode_longitude'].iloc[i]], discharger_latlong)\n",
    "        if closest_distance == 0 or current_distance < closest_distance:\n",
    "            closest_distance = current_distance\n",
    "            closest_wwtp = wwtp_table['npdes_permit_id'].iloc[i]\n",
    "    return closest_wwtp"
   ]
  },
  {
   "cell_type": "code",
   "execution_count": 6,
   "metadata": {},
   "outputs": [],
   "source": [
    "# Function to pick out facilities that may not be categorized as WWTPs by ICIS-NPDES\n",
    "# but likely are WWTPs\n",
    "def detect_wwtp_name(facility_name):\n",
    "    \"\"\"\n",
    "    :param facility_name: str, name of facility\n",
    "    :return: bool, 'True' if facility is likely a WWTP\n",
    "    based on the facility name, 'False' if not\n",
    "    \"\"\"\n",
    "    if pd.isna(facility_name):\n",
    "        return np.nan\n",
    "    facility_name = facility_name.lower()\n",
    "    if ('wwtp' in facility_name or\n",
    "        'wastewater' in facility_name or\n",
    "        'treatment' in facility_name or\n",
    "        'waste water' in facility_name\n",
    "        # This last condition was in the original function from DMR integrity,\n",
    "            # but I removed it because it was leading to false positives\n",
    "        # or 'tp' in facility_name\n",
    "        ):\n",
    "        return True\n",
    "    else:\n",
    "        return False"
   ]
  },
  {
   "cell_type": "code",
   "execution_count": 7,
   "metadata": {},
   "outputs": [],
   "source": [
    "# read in configuration file\n",
    "with open(Path().resolve().parent / 'config.yml', 'r') as file:\n",
    "    configs = yaml.safe_load(file)\n",
    "CIWQS_data_path = Path(configs['CIWQS_data_path'])\n",
    "ICIS_NPDES_data_path = Path(configs['ICIS_NPDES_data_path'])"
   ]
  },
  {
   "cell_type": "code",
   "execution_count": 8,
   "metadata": {},
   "outputs": [],
   "source": [
    "# read in data\n",
    "violations = pd.read_excel(CIWQS_data_path / 'violations_export_2021-10-26.xlsx', dtype={'FACILITY_ID': str},\n",
    "                           parse_dates=['OCCURRED ON', 'EFFECTIVE DATE', 'TERMINATION DATE'], date_parser=lambda x: pd.to_datetime(x, errors='coerce'))\n",
    "enforcements = pd.read_csv(CIWQS_data_path / 'enf_actions_export.csv',\n",
    "                           dtype={'FACILITY ID': object},\n",
    "                           parse_dates=['DATE OF OLDEST VIOLATION LINKED TO ENFORCEMENT ACTION', 'EFFECTIVE DATE.1', 'ACL ISSUANCE DATE', 'EPL ISSUANCE DATE'],\n",
    "                           date_parser=lambda x: pd.to_datetime(x, errors='coerce'))\n",
    "enforcements.rename(columns={'FACILITY ID': 'FACILITY_ID'}, inplace=True)"
   ]
  },
  {
   "cell_type": "code",
   "execution_count": 9,
   "metadata": {},
   "outputs": [],
   "source": [
    "# Load permit data\n",
    "permit_data = pd.read_csv(ICIS_NPDES_data_path / 'CA_permits.csv',\n",
    "                          parse_dates=['effective_date', 'issue_date', 'original_effective_date', 'original_issue_date',\n",
    "                                       'expiration_date', 'retirement_date', 'termination_date'],\n",
    "                          date_parser=lambda t: pd.to_datetime(t, errors='coerce'))\n",
    "# We are only looking for fixed covariates about each facility - thus we can drop information on different permit versions\n",
    "permit_data.drop_duplicates('npdes_permit_id', inplace=True)\n",
    "# Load facility data\n",
    "facilities = pd.read_csv(ICIS_NPDES_data_path / 'CA_facilities.csv')\n",
    "# Load SIC code data\n",
    "sic_codes = pd.read_csv(ICIS_NPDES_data_path / 'CA_sic_codes.csv')"
   ]
  },
  {
   "cell_type": "code",
   "execution_count": 10,
   "metadata": {},
   "outputs": [],
   "source": [
    "# Remove all enforcements with no MMP violations\n",
    "enforcements = main.clean_enforcements(enforcements)\n",
    "enforcements['EFFECTIVE DATE'] = pd.to_datetime(enforcements['EFFECTIVE DATE'], errors='coerce')\n",
    "\n",
    "# Remove all dismissed and exempt violations\n",
    "violations = main.clean_violations(violations, mmp_only=False)\n",
    "# Separate out region 4 violations\n",
    "region_4_violations = violations[violations['VIOLATED FACILITY REGION']==4]\n",
    "del violations"
   ]
  },
  {
   "cell_type": "code",
   "execution_count": 11,
   "metadata": {},
   "outputs": [],
   "source": [
    "# Option 1: load facility reports from saved file\n",
    "region_4_facility_reports = pd.read_csv('region_4_facility_reports.csv', dtype={'FACILITY_ID': object}, parse_dates=['Effective Date', 'Expiration Date'], date_parser=lambda x: pd.to_datetime(x, errors='coerce'))\n",
    "# Option 2: Load facility reports for these facilities\n",
    "# region_4_facility_reports = sr.scrape_facility_reports(list(region_4_violations['FACILITY_ID'].unique()), verbose=True)\n",
    "# region_4_facility_reports.to_csv('region_4_facility_reports.csv')"
   ]
  },
  {
   "cell_type": "code",
   "execution_count": 12,
   "metadata": {},
   "outputs": [],
   "source": [
    "# Calculate estimate entrance and exit dates\n",
    "region_4_violations = main.get_facility_entrance_exit(region_4_facility_reports, region_4_violations)"
   ]
  },
  {
   "cell_type": "markdown",
   "metadata": {},
   "source": [
    "Are facilities that terminated their permits around 2006 those with greater numbers of violations pre-2006?"
   ]
  },
  {
   "cell_type": "code",
   "execution_count": 13,
   "metadata": {},
   "outputs": [
    {
     "name": "stdout",
     "output_type": "stream",
     "text": [
      "183\n",
      "92\n"
     ]
    }
   ],
   "source": [
    "# Group A: permittees that entered the population before 2006 and did not exit the population before 2012\n",
    "group_a = region_4_violations[(region_4_violations['estimated_entrance_date']<pd.to_datetime('2006-01-01')) &\n",
    "                              (region_4_violations['estimated_exit_date']>pd.to_datetime('2012-01-01'))]\n",
    "print(len(group_a.drop_duplicates('FACILITY_ID')))\n",
    "\n",
    "# Group B: permittees that entered the population before 2006, terminated their permits between 2006 and 2011,\n",
    "# and actually exited the population at that point\n",
    "group_b = region_4_violations[(region_4_violations['estimated_entrance_date']<pd.to_datetime('2006-01-01')) &\n",
    "                              (region_4_violations['TERMINATION DATE']>pd.to_datetime('2006-01-01')) &\n",
    "                              (region_4_violations['TERMINATION DATE']<pd.to_datetime('2011-01-01')) &\n",
    "                              ((region_4_violations['TERMINATION DATE']) == (region_4_violations['estimated_exit_date']))]\n",
    "\n",
    "dropout_facilities = group_b['FACILITY_ID'].unique()\n",
    "print(len(dropout_facilities))"
   ]
  },
  {
   "cell_type": "code",
   "execution_count": 14,
   "metadata": {},
   "outputs": [
    {
     "data": {
      "text/plain": "                        VIOLATION ID (VID)\nmedian_violation_count              6.0000\nviolation_count_sem                19.9517",
      "text/html": "<div>\n<style scoped>\n    .dataframe tbody tr th:only-of-type {\n        vertical-align: middle;\n    }\n\n    .dataframe tbody tr th {\n        vertical-align: top;\n    }\n\n    .dataframe thead th {\n        text-align: right;\n    }\n</style>\n<table border=\"1\" class=\"dataframe\">\n  <thead>\n    <tr style=\"text-align: right;\">\n      <th></th>\n      <th>VIOLATION ID (VID)</th>\n    </tr>\n  </thead>\n  <tbody>\n    <tr>\n      <th>median_violation_count</th>\n      <td>6.0000</td>\n    </tr>\n    <tr>\n      <th>violation_count_sem</th>\n      <td>19.9517</td>\n    </tr>\n  </tbody>\n</table>\n</div>"
     },
     "execution_count": 14,
     "metadata": {},
     "output_type": "execute_result"
    }
   ],
   "source": [
    "group_a[group_a['OCCURRED ON'] < pd.to_datetime('2006-01-01')].groupby('FACILITY_ID', as_index=False).nunique().agg(median_violation_count=pd.NamedAgg(column='VIOLATION ID (VID)', aggfunc=lambda x: x.median()), violation_count_sem=pd.NamedAgg(column='VIOLATION ID (VID)', aggfunc=lambda x: x.sem()))"
   ]
  },
  {
   "cell_type": "code",
   "execution_count": 15,
   "metadata": {},
   "outputs": [
    {
     "data": {
      "text/plain": "                        VIOLATION ID (VID)\nmedian_violation_count            5.000000\nviolation_count_sem               1.743128",
      "text/html": "<div>\n<style scoped>\n    .dataframe tbody tr th:only-of-type {\n        vertical-align: middle;\n    }\n\n    .dataframe tbody tr th {\n        vertical-align: top;\n    }\n\n    .dataframe thead th {\n        text-align: right;\n    }\n</style>\n<table border=\"1\" class=\"dataframe\">\n  <thead>\n    <tr style=\"text-align: right;\">\n      <th></th>\n      <th>VIOLATION ID (VID)</th>\n    </tr>\n  </thead>\n  <tbody>\n    <tr>\n      <th>median_violation_count</th>\n      <td>5.000000</td>\n    </tr>\n    <tr>\n      <th>violation_count_sem</th>\n      <td>1.743128</td>\n    </tr>\n  </tbody>\n</table>\n</div>"
     },
     "execution_count": 15,
     "metadata": {},
     "output_type": "execute_result"
    }
   ],
   "source": [
    "group_b[group_b['OCCURRED ON'] < pd.to_datetime('2006-01-01')].groupby('FACILITY_ID', as_index=False).nunique().agg(median_violation_count=pd.NamedAgg(column='VIOLATION ID (VID)', aggfunc=lambda x: x.median()), violation_count_sem=pd.NamedAgg(column='VIOLATION ID (VID)', aggfunc=lambda x: x.sem()))"
   ]
  },
  {
   "cell_type": "code",
   "execution_count": 16,
   "metadata": {},
   "outputs": [
    {
     "data": {
      "text/plain": "<Figure size 640x480 with 1 Axes>",
      "image/png": "[encoded data removed]"
     },
     "metadata": {},
     "output_type": "display_data"
    }
   ],
   "source": [
    "plt.style.use('default')\n",
    "sns.kdeplot(data=group_b[(group_b['OCCURRED ON'] < pd.to_datetime('2006-01-01'))].groupby('FACILITY_ID', as_index=False).nunique(),\n",
    "            x='VIOLATION ID (VID)', label='Dropout facilities (n=82)', bw=0.2);\n",
    "sns.kdeplot(data=group_a[(group_a['OCCURRED ON'] < pd.to_datetime('2006-01-01')) &\n",
    "                         (group_a['FACILITY_ID'] != '260420')].groupby('FACILITY_ID', as_index=False).nunique(),\n",
    "            x='VIOLATION ID (VID)', color='orange', label='Non-dropout facilities (n=182)', bw=0.2);\n",
    "plt.xlabel('Number of violations pre-2006')\n",
    "plt.yticks([])\n",
    "plt.legend();"
   ]
  },
  {
   "cell_type": "markdown",
   "metadata": {},
   "source": [
    "Do their violation records pre-2006 differ in any other respects?"
   ]
  },
  {
   "cell_type": "code",
   "execution_count": 17,
   "metadata": {},
   "outputs": [
    {
     "data": {
      "text/plain": "                      Value  Group A  Group B  diff\nVIOLATION SUBTYPE       OEV     0.47     0.21  0.27\nMMP TYPE            Chronic     0.72     0.46  0.26\nMMP TYPE            Serious     0.28     0.54  0.26\nVIOLATION SUBTYPE      CAT1     0.35     0.55  0.19\nVIOLATION SUBTYPE      CAT2     0.15     0.22  0.07\nVIOLATION TYPE     Effluent     1.00     1.00  0.00",
      "text/html": "<div>\n<style scoped>\n    .dataframe tbody tr th:only-of-type {\n        vertical-align: middle;\n    }\n\n    .dataframe tbody tr th {\n        vertical-align: top;\n    }\n\n    .dataframe thead th {\n        text-align: right;\n    }\n</style>\n<table border=\"1\" class=\"dataframe\">\n  <thead>\n    <tr style=\"text-align: right;\">\n      <th></th>\n      <th>Value</th>\n      <th>Group A</th>\n      <th>Group B</th>\n      <th>diff</th>\n    </tr>\n  </thead>\n  <tbody>\n    <tr>\n      <th>VIOLATION SUBTYPE</th>\n      <td>OEV</td>\n      <td>0.47</td>\n      <td>0.21</td>\n      <td>0.27</td>\n    </tr>\n    <tr>\n      <th>MMP TYPE</th>\n      <td>Chronic</td>\n      <td>0.72</td>\n      <td>0.46</td>\n      <td>0.26</td>\n    </tr>\n    <tr>\n      <th>MMP TYPE</th>\n      <td>Serious</td>\n      <td>0.28</td>\n      <td>0.54</td>\n      <td>0.26</td>\n    </tr>\n    <tr>\n      <th>VIOLATION SUBTYPE</th>\n      <td>CAT1</td>\n      <td>0.35</td>\n      <td>0.55</td>\n      <td>0.19</td>\n    </tr>\n    <tr>\n      <th>VIOLATION SUBTYPE</th>\n      <td>CAT2</td>\n      <td>0.15</td>\n      <td>0.22</td>\n      <td>0.07</td>\n    </tr>\n    <tr>\n      <th>VIOLATION TYPE</th>\n      <td>Effluent</td>\n      <td>1.00</td>\n      <td>1.00</td>\n      <td>0.00</td>\n    </tr>\n  </tbody>\n</table>\n</div>"
     },
     "execution_count": 17,
     "metadata": {},
     "output_type": "execute_result"
    }
   ],
   "source": [
    "facility_results = pd.DataFrame()\n",
    "for column in ['VIOLATION TYPE', 'MMP TYPE', 'VIOLATION SUBTYPE']:\n",
    "    facility_results = pd.concat(\n",
    "        [facility_results, compare_composition(group_a[group_a['OCCURRED ON'] < pd.to_datetime('2006-01-01')],\n",
    "                                               group_b[group_b['OCCURRED ON'] < pd.to_datetime('2006-01-01')], column)])\n",
    "facility_results.sort_values(by='diff', ascending=False, inplace=True)\n",
    "facility_results"
   ]
  },
  {
   "cell_type": "markdown",
   "metadata": {},
   "source": [
    "What about their enforcement histories?"
   ]
  },
  {
   "cell_type": "code",
   "execution_count": 18,
   "metadata": {},
   "outputs": [
    {
     "data": {
      "text/plain": "   dropout_facility  MEDIAN TOTAL ASSESSMENT AMOUNT  \\\n0             False                         27000.0   \n1              True                         21000.0   \n\n   MEDIAN INITIAL ASSESSED AMOUNT  MEDIAN LIABILITY $ AMOUNT  \\\n0                         12000.0                    18000.0   \n1                         18000.0                    18000.0   \n\n   MEDIAN # ENFORCEMENTS  \n0                    2.0  \n1                    1.0  ",
      "text/html": "<div>\n<style scoped>\n    .dataframe tbody tr th:only-of-type {\n        vertical-align: middle;\n    }\n\n    .dataframe tbody tr th {\n        vertical-align: top;\n    }\n\n    .dataframe thead th {\n        text-align: right;\n    }\n</style>\n<table border=\"1\" class=\"dataframe\">\n  <thead>\n    <tr style=\"text-align: right;\">\n      <th></th>\n      <th>dropout_facility</th>\n      <th>MEDIAN TOTAL ASSESSMENT AMOUNT</th>\n      <th>MEDIAN INITIAL ASSESSED AMOUNT</th>\n      <th>MEDIAN LIABILITY $ AMOUNT</th>\n      <th>MEDIAN # ENFORCEMENTS</th>\n    </tr>\n  </thead>\n  <tbody>\n    <tr>\n      <th>0</th>\n      <td>False</td>\n      <td>27000.0</td>\n      <td>12000.0</td>\n      <td>18000.0</td>\n      <td>2.0</td>\n    </tr>\n    <tr>\n      <th>1</th>\n      <td>True</td>\n      <td>21000.0</td>\n      <td>18000.0</td>\n      <td>18000.0</td>\n      <td>1.0</td>\n    </tr>\n  </tbody>\n</table>\n</div>"
     },
     "execution_count": 18,
     "metadata": {},
     "output_type": "execute_result"
    }
   ],
   "source": [
    "enf_results = enforcements[enforcements['EFFECTIVE DATE']<pd.to_datetime('2006-01-01')].groupby('FACILITY_ID', as_index=False).sum()[['FACILITY_ID', 'TOTAL ASSESSMENT AMOUNT', 'INITIAL ASSESSED AMOUNT', 'LIABILITY $ AMOUNT']].merge(enforcements[enforcements['EFFECTIVE DATE']<pd.to_datetime('2006-01-01')].groupby('FACILITY_ID', as_index=False).nunique()[['FACILITY_ID', 'ENFORCEMENT ID (EID)']], on='FACILITY_ID')\n",
    "\n",
    "enf_results['dropout_facility'] = enf_results['FACILITY_ID'].apply(lambda x: x in dropout_facilities)\n",
    "enf_results.groupby('dropout_facility', as_index=False).median().rename(columns={'TOTAL ASSESSMENT AMOUNT': 'MEDIAN TOTAL ASSESSMENT AMOUNT', 'INITIAL ASSESSED AMOUNT': 'MEDIAN INITIAL ASSESSED AMOUNT', 'LIABILITY $ AMOUNT': 'MEDIAN LIABILITY $ AMOUNT', 'ENFORCEMENT ID (EID)': 'MEDIAN # ENFORCEMENTS'})"
   ]
  },
  {
   "cell_type": "markdown",
   "metadata": {},
   "source": [
    "Is it possible that individual facilities were prompted to drop out in response to receiving an enforcement action?"
   ]
  },
  {
   "cell_type": "code",
   "execution_count": 19,
   "metadata": {},
   "outputs": [
    {
     "data": {
      "text/plain": "     FACILITY_ID estimated_exit_date ACL ISSUANCE DATE\n0         231978          2008-02-29        2008-12-09\n16        253495          2009-10-20        2010-10-18\n40        269697          2007-11-09        2010-08-12\n106       226543          2008-05-29        2010-06-30\n173       271445          2008-01-17        2010-08-11\n195       266920          2006-06-07        2001-09-26\n223       261149          2008-11-06        2008-11-14\n261       226291          2008-08-29        2008-12-02\n273       238149          2010-03-11        2008-12-02\n280       208078          2007-09-28        2008-12-09\n297       253472          2009-09-20        2008-12-09\n325       273407          2009-05-27        2010-07-23\n332       229012          2009-06-23        2008-12-02\n393       261483          2007-05-02        2010-03-01\n405       270822          2006-03-09        2002-09-23\n413       229285          2010-12-16        2008-12-02\n453       231758          2007-08-15        2002-04-16\n461       231825          2008-02-29        2008-12-02\n489       629227          2007-06-26        2010-09-20\n490       226298          2007-10-16        2008-12-02\n570       254054          2010-04-26        2008-11-21\n707       225881          2009-12-09        2001-05-21\n1103      225881          2009-12-09        2004-06-03\n1301      273372          2007-03-27        2008-12-09\n1358      266922          2006-06-07        2001-09-26\n1380      256069          2010-04-13        2008-12-19\n1649      269780          2007-03-01        2002-09-30\n1832      243558          2009-07-07        2010-10-18\n1988      216599          2009-10-22        2011-01-18\n2009      242194          2010-01-14        2010-02-16",
      "text/html": "<div>\n<style scoped>\n    .dataframe tbody tr th:only-of-type {\n        vertical-align: middle;\n    }\n\n    .dataframe tbody tr th {\n        vertical-align: top;\n    }\n\n    .dataframe thead th {\n        text-align: right;\n    }\n</style>\n<table border=\"1\" class=\"dataframe\">\n  <thead>\n    <tr style=\"text-align: right;\">\n      <th></th>\n      <th>FACILITY_ID</th>\n      <th>estimated_exit_date</th>\n      <th>ACL ISSUANCE DATE</th>\n    </tr>\n  </thead>\n  <tbody>\n    <tr>\n      <th>0</th>\n      <td>231978</td>\n      <td>2008-02-29</td>\n      <td>2008-12-09</td>\n    </tr>\n    <tr>\n      <th>16</th>\n      <td>253495</td>\n      <td>2009-10-20</td>\n      <td>2010-10-18</td>\n    </tr>\n    <tr>\n      <th>40</th>\n      <td>269697</td>\n      <td>2007-11-09</td>\n      <td>2010-08-12</td>\n    </tr>\n    <tr>\n      <th>106</th>\n      <td>226543</td>\n      <td>2008-05-29</td>\n      <td>2010-06-30</td>\n    </tr>\n    <tr>\n      <th>173</th>\n      <td>271445</td>\n      <td>2008-01-17</td>\n      <td>2010-08-11</td>\n    </tr>\n    <tr>\n      <th>195</th>\n      <td>266920</td>\n      <td>2006-06-07</td>\n      <td>2001-09-26</td>\n    </tr>\n    <tr>\n      <th>223</th>\n      <td>261149</td>\n      <td>2008-11-06</td>\n      <td>2008-11-14</td>\n    </tr>\n    <tr>\n      <th>261</th>\n      <td>226291</td>\n      <td>2008-08-29</td>\n      <td>2008-12-02</td>\n    </tr>\n    <tr>\n      <th>273</th>\n      <td>238149</td>\n      <td>2010-03-11</td>\n      <td>2008-12-02</td>\n    </tr>\n    <tr>\n      <th>280</th>\n      <td>208078</td>\n      <td>2007-09-28</td>\n      <td>2008-12-09</td>\n    </tr>\n    <tr>\n      <th>297</th>\n      <td>253472</td>\n      <td>2009-09-20</td>\n      <td>2008-12-09</td>\n    </tr>\n    <tr>\n      <th>325</th>\n      <td>273407</td>\n      <td>2009-05-27</td>\n      <td>2010-07-23</td>\n    </tr>\n    <tr>\n      <th>332</th>\n      <td>229012</td>\n      <td>2009-06-23</td>\n      <td>2008-12-02</td>\n    </tr>\n    <tr>\n      <th>393</th>\n      <td>261483</td>\n      <td>2007-05-02</td>\n      <td>2010-03-01</td>\n    </tr>\n    <tr>\n      <th>405</th>\n      <td>270822</td>\n      <td>2006-03-09</td>\n      <td>2002-09-23</td>\n    </tr>\n    <tr>\n      <th>413</th>\n      <td>229285</td>\n      <td>2010-12-16</td>\n      <td>2008-12-02</td>\n    </tr>\n    <tr>\n      <th>453</th>\n      <td>231758</td>\n      <td>2007-08-15</td>\n      <td>2002-04-16</td>\n    </tr>\n    <tr>\n      <th>461</th>\n      <td>231825</td>\n      <td>2008-02-29</td>\n      <td>2008-12-02</td>\n    </tr>\n    <tr>\n      <th>489</th>\n      <td>629227</td>\n      <td>2007-06-26</td>\n      <td>2010-09-20</td>\n    </tr>\n    <tr>\n      <th>490</th>\n      <td>226298</td>\n      <td>2007-10-16</td>\n      <td>2008-12-02</td>\n    </tr>\n    <tr>\n      <th>570</th>\n      <td>254054</td>\n      <td>2010-04-26</td>\n      <td>2008-11-21</td>\n    </tr>\n    <tr>\n      <th>707</th>\n      <td>225881</td>\n      <td>2009-12-09</td>\n      <td>2001-05-21</td>\n    </tr>\n    <tr>\n      <th>1103</th>\n      <td>225881</td>\n      <td>2009-12-09</td>\n      <td>2004-06-03</td>\n    </tr>\n    <tr>\n      <th>1301</th>\n      <td>273372</td>\n      <td>2007-03-27</td>\n      <td>2008-12-09</td>\n    </tr>\n    <tr>\n      <th>1358</th>\n      <td>266922</td>\n      <td>2006-06-07</td>\n      <td>2001-09-26</td>\n    </tr>\n    <tr>\n      <th>1380</th>\n      <td>256069</td>\n      <td>2010-04-13</td>\n      <td>2008-12-19</td>\n    </tr>\n    <tr>\n      <th>1649</th>\n      <td>269780</td>\n      <td>2007-03-01</td>\n      <td>2002-09-30</td>\n    </tr>\n    <tr>\n      <th>1832</th>\n      <td>243558</td>\n      <td>2009-07-07</td>\n      <td>2010-10-18</td>\n    </tr>\n    <tr>\n      <th>1988</th>\n      <td>216599</td>\n      <td>2009-10-22</td>\n      <td>2011-01-18</td>\n    </tr>\n    <tr>\n      <th>2009</th>\n      <td>242194</td>\n      <td>2010-01-14</td>\n      <td>2010-02-16</td>\n    </tr>\n  </tbody>\n</table>\n</div>"
     },
     "execution_count": 19,
     "metadata": {},
     "output_type": "execute_result"
    }
   ],
   "source": [
    "enforcements.merge(group_b[['FACILITY_ID', 'estimated_exit_date']], on='FACILITY_ID',)[['FACILITY_ID', 'estimated_exit_date', 'ACL ISSUANCE DATE']].drop_duplicates().dropna()"
   ]
  },
  {
   "cell_type": "code",
   "execution_count": 20,
   "outputs": [
    {
     "data": {
      "text/plain": "Empty DataFrame\nColumns: [FACILITY_ID, estimated_exit_date, EFFECTIVE DATE]\nIndex: []",
      "text/html": "<div>\n<style scoped>\n    .dataframe tbody tr th:only-of-type {\n        vertical-align: middle;\n    }\n\n    .dataframe tbody tr th {\n        vertical-align: top;\n    }\n\n    .dataframe thead th {\n        text-align: right;\n    }\n</style>\n<table border=\"1\" class=\"dataframe\">\n  <thead>\n    <tr style=\"text-align: right;\">\n      <th></th>\n      <th>FACILITY_ID</th>\n      <th>estimated_exit_date</th>\n      <th>EFFECTIVE DATE</th>\n    </tr>\n  </thead>\n  <tbody>\n  </tbody>\n</table>\n</div>"
     },
     "execution_count": 20,
     "metadata": {},
     "output_type": "execute_result"
    }
   ],
   "source": [
    "enforcements[enforcements['ENFORCEMENT ACTION TYPE']=='Oral Communication'].merge(group_b[['FACILITY_ID', 'estimated_exit_date']], on='FACILITY_ID',)[['FACILITY_ID', 'estimated_exit_date', 'EFFECTIVE DATE']].drop_duplicates().dropna()"
   ],
   "metadata": {
    "collapsed": false
   }
  },
  {
   "cell_type": "markdown",
   "metadata": {},
   "source": [
    "How do the facilities compare?"
   ]
  },
  {
   "cell_type": "code",
   "execution_count": 21,
   "metadata": {},
   "outputs": [
    {
     "data": {
      "text/plain": "                                     Value  Group A  Group B  diff\nPROGRAM                     NPDNONMUNIPRCS     0.64     0.89  0.25\nMAJOR-MINOR                          Minor     0.79     0.99  0.20\nMAJOR-MINOR                          Major     0.21     0.01  0.20\nPROGRAM                         NPDMUNILRG     0.13     0.01  0.11\nAGENCY TYPE                  County Agency     0.02     0.10  0.08\nAGENCY TYPE               Special District     0.12     0.05  0.07\nPROGRAM                            NPDESWW     0.13     0.09  0.04\nAGENCY TYPE                    City Agency     0.16     0.13  0.03\nVIOLATED FACILITY REGION                 4     1.00     1.00  0.00",
      "text/html": "<div>\n<style scoped>\n    .dataframe tbody tr th:only-of-type {\n        vertical-align: middle;\n    }\n\n    .dataframe tbody tr th {\n        vertical-align: top;\n    }\n\n    .dataframe thead th {\n        text-align: right;\n    }\n</style>\n<table border=\"1\" class=\"dataframe\">\n  <thead>\n    <tr style=\"text-align: right;\">\n      <th></th>\n      <th>Value</th>\n      <th>Group A</th>\n      <th>Group B</th>\n      <th>diff</th>\n    </tr>\n  </thead>\n  <tbody>\n    <tr>\n      <th>PROGRAM</th>\n      <td>NPDNONMUNIPRCS</td>\n      <td>0.64</td>\n      <td>0.89</td>\n      <td>0.25</td>\n    </tr>\n    <tr>\n      <th>MAJOR-MINOR</th>\n      <td>Minor</td>\n      <td>0.79</td>\n      <td>0.99</td>\n      <td>0.20</td>\n    </tr>\n    <tr>\n      <th>MAJOR-MINOR</th>\n      <td>Major</td>\n      <td>0.21</td>\n      <td>0.01</td>\n      <td>0.20</td>\n    </tr>\n    <tr>\n      <th>PROGRAM</th>\n      <td>NPDMUNILRG</td>\n      <td>0.13</td>\n      <td>0.01</td>\n      <td>0.11</td>\n    </tr>\n    <tr>\n      <th>AGENCY TYPE</th>\n      <td>County Agency</td>\n      <td>0.02</td>\n      <td>0.10</td>\n      <td>0.08</td>\n    </tr>\n    <tr>\n      <th>AGENCY TYPE</th>\n      <td>Special District</td>\n      <td>0.12</td>\n      <td>0.05</td>\n      <td>0.07</td>\n    </tr>\n    <tr>\n      <th>PROGRAM</th>\n      <td>NPDESWW</td>\n      <td>0.13</td>\n      <td>0.09</td>\n      <td>0.04</td>\n    </tr>\n    <tr>\n      <th>AGENCY TYPE</th>\n      <td>City Agency</td>\n      <td>0.16</td>\n      <td>0.13</td>\n      <td>0.03</td>\n    </tr>\n    <tr>\n      <th>VIOLATED FACILITY REGION</th>\n      <td>4</td>\n      <td>1.00</td>\n      <td>1.00</td>\n      <td>0.00</td>\n    </tr>\n  </tbody>\n</table>\n</div>"
     },
     "execution_count": 21,
     "metadata": {},
     "output_type": "execute_result"
    }
   ],
   "source": [
    "facility_results = pd.DataFrame()\n",
    "for column in ['AGENCY TYPE', 'PROGRAM', 'MAJOR-MINOR', 'VIOLATED FACILITY REGION']:\n",
    "    facility_results = pd.concat(\n",
    "        [facility_results, compare_composition(group_a.drop_duplicates('FACILITY_ID'),\n",
    "                                               group_b.drop_duplicates('FACILITY_ID'), column)])\n",
    "facility_results.sort_values(by='diff', ascending=False, inplace=True)\n",
    "facility_results"
   ]
  },
  {
   "cell_type": "markdown",
   "metadata": {},
   "source": [
    "Group B is 99% minor facilities, and 89% NPDNONMUNIPRCS participants - much larger proportions than group A."
   ]
  },
  {
   "cell_type": "markdown",
   "source": [
    "So what kind of facilities do we have in our dropout set?"
   ],
   "metadata": {
    "collapsed": false
   }
  },
  {
   "cell_type": "code",
   "execution_count": 41,
   "outputs": [
    {
     "data": {
      "text/plain": "All other facilities    83\nIndustrial               6\nMunicipal/Domestic       1\nName: FACILITY TYPE, dtype: int64"
     },
     "execution_count": 41,
     "metadata": {},
     "output_type": "execute_result"
    }
   ],
   "source": [
    "group_b.drop_duplicates('FACILITY_ID')['FACILITY TYPE'].value_counts()"
   ],
   "metadata": {
    "collapsed": false
   }
  },
  {
   "cell_type": "code",
   "execution_count": 45,
   "outputs": [
    {
     "data": {
      "text/plain": "Facility                              71\nService/Commercial                     8\nUtility                                5\nResidence/Education                    5\nRecreational                           1\nManufacturing                          1\nIndustrial and Commercial Services     1\nName: PLACE TYPE, dtype: int64"
     },
     "execution_count": 45,
     "metadata": {},
     "output_type": "execute_result"
    }
   ],
   "source": [
    "group_b.drop_duplicates('FACILITY_ID')['PLACE TYPE'].value_counts()"
   ],
   "metadata": {
    "collapsed": false
   }
  },
  {
   "cell_type": "code",
   "execution_count": 46,
   "outputs": [
    {
     "data": {
      "text/plain": "Groundwater Cleanup Site         19\nService/Commercial Site, NEC      6\nWastewater Treatment Facility     2\nResidence, NEC                    2\nUtility Structure                 2\nGasoline Service Station          2\nEducational Facilities            2\nPrison                            1\nSwimming Pools                    1\nPower Plant                       1\nManufacturing NEC                 1\nMilitary Facility                 1\nName: PLACE SUBTYPE, dtype: int64"
     },
     "execution_count": 46,
     "metadata": {},
     "output_type": "execute_result"
    }
   ],
   "source": [
    "group_b.drop_duplicates('FACILITY_ID')['PLACE SUBTYPE'].value_counts()"
   ],
   "metadata": {
    "collapsed": false
   }
  },
  {
   "cell_type": "code",
   "execution_count": 47,
   "outputs": [
    {
     "data": {
      "text/plain": "Privately-Owned Business         61\nCity Agency                      12\nCounty Agency                     9\nSpecial District                  5\nFederal Agency                    2\nState Agency                      2\nGovernment Agency Combination     1\nName: AGENCY TYPE, dtype: int64"
     },
     "execution_count": 47,
     "metadata": {},
     "output_type": "execute_result"
    }
   ],
   "source": [
    "group_b.drop_duplicates('FACILITY_ID')['AGENCY TYPE'].value_counts()"
   ],
   "metadata": {
    "collapsed": false
   }
  },
  {
   "cell_type": "code",
   "execution_count": 48,
   "outputs": [
    {
     "data": {
      "text/plain": "Water Supply                                                                        12\nGasoline Service Stations                                                            9\nNonclassifiable Establishments                                                       6\nGeneral Government, NEC                                                              4\nProducts of Petroleum and Coal, NEC                                                  4\nOperators of Apartment Buildings                                                     4\nPetroleum Bulk Stations and Terminals                                                3\nTanks and Tank Components                                                            3\nHeavy Construction, NEC                                                              2\nGeneral Contractors-Residential Buildings, Other Than Single-Family                  2\nFacilities Support Management Services                                               2\nAmusement and Recreation Services, NEC                                               2\nHighway and Street Construction, Except Elevated Highways                            2\nAircraft                                                                             1\nAir and Water Resource and Solid Waste Management                                    1\nSewerage Systems                                                                     1\nWater Well Drilling                                                                  1\nLiquefied Petroleum Gas (Bottled Gas) Dealers                                        1\nAdministration of Urban Planning and Community and Rural Development                 1\nOperators of Nonresidential Buildings                                                1\nBands, Orchestras, Actors, and Other Entertainers and Entertainment Groups           1\nMalleable Iron Foundries                                                             1\nGeneral building contractors-non residential build                                   1\nMotion Picture and Video Tape Production                                             1\nPetroleum and Petroleum Products Wholesalers, Except Bulk Stations and Terminals     1\nBridge, Tunnel, and Elevated Highway Construction                                    1\nAircraft Parts and Auxiliary Equipment, NEC                                          1\nTextile Automotive Trimmings                                                         1\nPhotographic Equipment and Supplies                                                  1\nLocal and Suburban Transit                                                           1\nColleges, Universities, and Professional Schools                                     1\nCorrectional Institutions                                                            1\nPlastics Products, NEC                                                               1\nVariety Stores                                                                       1\nSocial Services, NEC                                                                 1\nNational Security                                                                    1\nName: SIC DESC 1, dtype: int64"
     },
     "execution_count": 48,
     "metadata": {},
     "output_type": "execute_result"
    }
   ],
   "source": [
    "group_b.drop_duplicates('FACILITY_ID')['SIC DESC 1'].value_counts()"
   ],
   "metadata": {
    "collapsed": false
   }
  },
  {
   "cell_type": "code",
   "execution_count": 49,
   "outputs": [
    {
     "data": {
      "text/plain": "Miscellaneous                   37\nContaminated ground water       33\nFilter backwash brine waters     4\nStormwater runoff                3\nDomestic wastewater              1\nUncontaminated ground water      1\nCooling water: Noncontact        1\nCooling water: Contact           1\nDrilling muds                    1\nProcess waste, NEC               1\nName: FACILITY WASTE TYPE, dtype: int64"
     },
     "execution_count": 49,
     "metadata": {},
     "output_type": "execute_result"
    }
   ],
   "source": [
    "group_b.drop_duplicates('FACILITY_ID')['FACILITY WASTE TYPE'].value_counts()"
   ],
   "metadata": {
    "collapsed": false
   }
  },
  {
   "cell_type": "code",
   "execution_count": 55,
   "outputs": [
    {
     "data": {
      "text/plain": "CAG994004    43\nCAG834001    14\nCAG994003    11\nCAG914001     8\nCAG994001     3\nCAG994005     2\nCA0059021     1\nCA0060631     1\nCAG674001     1\nCA0002739     1\nCA0057673     1\nCA0001911     1\nCA0002658     1\nCA0057665     1\nCA0056995     1\nCA0062561     1\nCA0059935     1\nName: NPDES# CA#, dtype: int64"
     },
     "execution_count": 55,
     "metadata": {},
     "output_type": "execute_result"
    }
   ],
   "source": [
    "group_b.drop_duplicates('FACILITY_ID')['NPDES# CA#'].value_counts()"
   ],
   "metadata": {
    "collapsed": false
   }
  },
  {
   "cell_type": "code",
   "execution_count": 58,
   "outputs": [
    {
     "data": {
      "text/plain": "      VIOLATED FACILITY REGION REGULATED FACILITY REGION FACILITY_ID  \\\n1205                         4                         4      234441   \n1208                         4                         4      217323   \n7213                         4                         4      229012   \n10649                        4                         4      256068   \n11165                        4                         4      273405   \n11711                        4                         4      261149   \n14358                        4                         4      229285   \n14365                        4                         4      212325   \n15701                        4                         4      212131   \n16332                        4                         4      256069   \n16512                        4                         4      268714   \n\n                               FACILITY NAME  \\\n1205                         Juan Plant Site   \n1208                           Century Plant   \n7213                         Goldmedal Plant   \n10649                         Hawaiian Plant   \n11165      Warner Brothers Studio Facilities   \n11711                 Sierracin/Sylmar Corp.   \n14358  Greg Avenue Hydroelectric Power Plant   \n14365               C1 (Long Beach) Facility   \n15701                     Burbank Trunk Line   \n16332                        Massinger Plant   \n16512         Truro Fe & Mn Filtration Plant   \n\n                                             AGENCY NAME PLACE TYPE  \\\n1205              Golden State Water Company - San Dimas   Facility   \n1208              Golden State Water Company - San Dimas    Utility   \n7213              Golden State Water Company - San Dimas   Facility   \n10649             Golden State Water Company - San Dimas   Facility   \n11165                      Warner Bros Entertainment Inc   Facility   \n11711                     Sierracin - Sylmar Corporation   Facility   \n14358  Metropolitan Water District of Southern Califo...    Utility   \n14365                                 The Boeing Company   Facility   \n15701                               Los Angeles City DWP   Facility   \n16332             Golden State Water Company - San Dimas   Facility   \n16512             Golden State Water Company - San Dimas   Facility   \n\n           PLACE SUBTYPE         FACILITY TYPE               AGENCY TYPE  \\\n1205                 NaN  All other facilities  Privately-Owned Business   \n1208   Utility Structure  All other facilities  Privately-Owned Business   \n7213                 NaN  All other facilities  Privately-Owned Business   \n10649                NaN  All other facilities  Privately-Owned Business   \n11165                NaN  All other facilities  Privately-Owned Business   \n11711                NaN  All other facilities  Privately-Owned Business   \n14358        Power Plant  All other facilities          Special District   \n14365                NaN            Industrial  Privately-Owned Business   \n15701                NaN  All other facilities               City Agency   \n16332                NaN  All other facilities  Privately-Owned Business   \n16512                NaN            Industrial  Privately-Owned Business   \n\n       NUMBER OF AGENCIES             PLACE ADDRESS        PLACE CITY  \\\n1205                  1.0               22317  Juan  Hawaiian Gardens   \n1208                  1.0   7128  Century Boulevard         Paramount   \n7213                  1.0  13030 South Yukon Avenue         Hawthorne   \n10649                 1.0    20702  Hawaiian Avenue          Lakewood   \n11165                 1.0    4000  Warner Boulevard           Burbank   \n11711                 1.0  12780  San Fernando Road            Sylmar   \n14358                 1.0         7554  Greg Avenue        Sun Valley   \n14365                 1.0  3855  Lakewood Boulevard        Long Beach   \n15701                 1.0        Magnolia & Burbank           Burbank   \n16332                 1.0   11502  Massinger Street          Lakewood   \n16512                 1.0              11305  Truro         Inglewood   \n\n      PLACE ZIP PLACE COUNTY  PLACE LATITUDE  PLACE LONGITUDE  SIC CODE 1  \\\n1205      90716  Los Angeles       33.825766      -118.075198      4941.0   \n1208      90723  Los Angeles       33.917389      -118.175422      4941.0   \n7213      90250  Los Angeles       33.914267      -118.335116      4941.0   \n10649     90715  Los Angeles       33.842237      -118.065976      4941.0   \n11165     91522  Los Angeles       34.135280      -118.351110      7812.0   \n11711     91342  Los Angeles       34.301867      -118.461874      3728.0   \n14358     91352  Los Angeles       34.208825      -118.351928      4941.0   \n14365     90846  Los Angeles       33.833330      -118.141670      3721.0   \n15701     91316  Los Angeles       34.165000      -118.487220      4941.0   \n16332     90715  Los Angeles       33.838202      -118.086287         NaN   \n16512     90304  Los Angeles       33.931604      -118.357991      4941.0   \n\n                                        SIC DESC 1  SIC CODE 2 SIC DESC 2  \\\n1205                                  Water Supply         NaN        NaN   \n1208                                  Water Supply         NaN        NaN   \n7213                                  Water Supply         NaN        NaN   \n10649                                 Water Supply         NaN        NaN   \n11165     Motion Picture and Video Tape Production         NaN        NaN   \n11711  Aircraft Parts and Auxiliary Equipment, NEC         NaN        NaN   \n14358                                 Water Supply         NaN        NaN   \n14365                                     Aircraft         NaN        NaN   \n15701                                 Water Supply         NaN        NaN   \n16332                                          NaN         NaN        NaN   \n16512                                 Water Supply         NaN        NaN   \n\n       SIC CODE 3 SIC DESC 3  NAICS CODE 1 NAICS DESC 1  NAICS CODE 2  \\\n1205          NaN        NaN           NaN          NaN           NaN   \n1208          NaN        NaN           NaN          NaN           NaN   \n7213          NaN        NaN           NaN          NaN           NaN   \n10649         NaN        NaN           NaN          NaN           NaN   \n11165         NaN        NaN           NaN          NaN           NaN   \n11711         NaN        NaN           NaN          NaN           NaN   \n14358         NaN        NaN           NaN          NaN           NaN   \n14365         NaN        NaN           NaN          NaN           NaN   \n15701         NaN        NaN           NaN          NaN           NaN   \n16332         NaN        NaN           NaN          NaN           NaN   \n16512         NaN        NaN           NaN          NaN           NaN   \n\n      NAICS DESC 2  NAICS CODE 3 NAICS DESC 3  NUMBER OF PLACES  DESIGN FLOW  \\\n1205           NaN           NaN          NaN               1.0        0.050   \n1208           NaN           NaN          NaN               1.0        0.030   \n7213           NaN           NaN          NaN               1.0        0.100   \n10649          NaN           NaN          NaN               1.0        0.015   \n11165          NaN           NaN          NaN               1.0        1.512   \n11711          NaN           NaN          NaN               1.0        0.025   \n14358          NaN           NaN          NaN               1.0        0.100   \n14365          NaN           NaN          NaN               1.0        0.455   \n15701          NaN           NaN          NaN               1.0        0.276   \n16332          NaN           NaN          NaN               1.0        0.022   \n16512          NaN           NaN          NaN               1.0        0.060   \n\n       THREAT TO WATER QUALITY COMPLEXITY  \\\n1205                       3.0          C   \n1208                       3.0          C   \n7213                       3.0          C   \n10649                      3.0          C   \n11165                      3.0          C   \n11711                      3.0          C   \n14358                      3.0          C   \n14365                      3.0          C   \n15701                      3.0          C   \n16332                      NaN        NaN   \n16512                      3.0          C   \n\n                                            PRETREATMENT  \\\n1205                          X - Facility is not a POTW   \n1208                          X - Facility is not a POTW   \n7213                          X - Facility is not a POTW   \n10649                         X - Facility is not a POTW   \n11165                         X - Facility is not a POTW   \n11711                         X - Facility is not a POTW   \n14358                         X - Facility is not a POTW   \n14365                         X - Facility is not a POTW   \n15701  N - POTW does not have EPA approved pretreatme...   \n16332                         X - Facility is not a POTW   \n16512                         X - Facility is not a POTW   \n\n                FACILITY WASTE TYPE FACILITY WASTE TYPE 2  \\\n1205   Filter backwash brine waters                   NaN   \n1208                  Miscellaneous                   NaN   \n7213                  Miscellaneous                   NaN   \n10649                 Miscellaneous                   NaN   \n11165                 Miscellaneous                   NaN   \n11711     Cooling water: Noncontact                   NaN   \n14358                 Miscellaneous                   NaN   \n14365        Cooling water: Contact     Stormwater runoff   \n15701     Contaminated ground water                   NaN   \n16332                           NaN                   NaN   \n16512  Filter backwash brine waters                   NaN   \n\n      FACILITY WASTE TYPE 3 FACILITY WASTE TYPE 4         PROGRAM  \\\n1205                    NaN                   NaN  NPDNONMUNIPRCS   \n1208                    NaN                   NaN  NPDNONMUNIPRCS   \n7213                    NaN                   NaN  NPDNONMUNIPRCS   \n10649                   NaN                   NaN  NPDNONMUNIPRCS   \n11165                   NaN                   NaN  NPDNONMUNIPRCS   \n11711                   NaN                   NaN  NPDNONMUNIPRCS   \n14358                   NaN                   NaN  NPDNONMUNIPRCS   \n14365                   NaN                   NaN  NPDNONMUNIPRCS   \n15701                   NaN                   NaN  NPDNONMUNIPRCS   \n16332                   NaN                   NaN  NPDNONMUNIPRCS   \n16512                   NaN                   NaN  NPDNONMUNIPRCS   \n\n      PROGRAM CATEGORY  NUMBER OF PROGRAMS         WDID  REG MEASURE ID  \\\n1205           NPDESWW                 1.0  4B196400069        193935.0   \n1208           NPDESWW                 1.0  4B196400070        193936.0   \n7213           NPDESWW                 1.0  4B196400037        193906.0   \n10649          NPDESWW                 1.0  4B198100003        192884.0   \n11165          NPDESWW                 1.0  4B196400053        193919.0   \n11711          NPDESWW                 1.0  4B196400009        193879.0   \n14358          NPDESWW                 1.0  4B196400029        193898.0   \n14365          NPDESWW                 1.0  4B196400063        193929.0   \n15701          NPDESWW                 1.0  4B196300131        193842.0   \n16332          NPDESWW                 1.0  4B198100004        152434.0   \n16512          NPDESWW                 1.0  4B196400045        193911.0   \n\n      REG MEASURE TYPE                                              TITLE  \\\n1205          Enrollee  Enrollee - Golden State Water Company, Juan Pl...   \n1208          Enrollee      Enrollee (CI 8240)-Golden State Water Company   \n7213          Enrollee                Enrollee-Golden State Water Company   \n10649         Enrollee     Enrollee- (CI 8898) Golden State Water Company   \n11165         Enrollee           Enrollee-Warner Bros. Entertainment Inc.   \n11711         Enrollee  Enrollee- Non Process WW to Surface Waters for...   \n14358         Enrollee  Enrollee (CI 7588)-Nonprocess WW to Surface Wa...   \n14365         Enrollee  Enrollee - The Boeing Company, C1 (Long Beach)...   \n15701         Enrollee         Enrollee City of LADWP, Burbank Trunk Line   \n16332         Enrollee      Enrollee-(CI 8900) Golden State Water Company   \n16512         Enrollee                                        4B196400045   \n\n                                             DESCRIPTION  ORDER NUMBER  \\\n1205                                                 NaN  R4-2004-0058   \n1208   Century Plant Backwash  Termination requested ...  R4-2004-0058   \n7213   Goldmedal Plant  Termination requested dated J...  R4-2004-0058   \n10649                            Hawaiian Plant Backwash  R4-2004-0058   \n11165                     Warner Bros. Studio Facilities  R4-2004-0058   \n11711                                                NaN  R4-2004-0058   \n14358  Greg Avenue Hydroelectric Power Plant  Termina...  R4-2009-0047   \n14365                                                NaN  R4-2004-0058   \n15701                                                NaN  R4-2004-0058   \n16332  Massinger Plant Backwash  Termination requeste...  R4-2009-0047   \n16512                                                NaN           NaN   \n\n      NPDES# CA# MAJOR-MINOR NPDES TYPE RECLAMATION  DREDGE FILL FEE 301H  \\\n1205   CAG994003       Minor        OTH      N - No              NaN  NaN   \n1208   CAG994003       Minor        OTH      N - No              NaN  NaN   \n7213   CAG994003       Minor        OTH      N - No              NaN  NaN   \n10649  CAG994003       Minor        OTH      N - No              NaN  NaN   \n11165  CAG994003       Minor        OTH      N - No              NaN  NaN   \n11711  CAG994003       Minor        OTH      N - No              NaN  NaN   \n14358  CAG994003       Minor        OTH      N - No              NaN  NaN   \n14365  CAG994003       Minor        OTH      N - No              NaN  NaN   \n15701  CAG994003         NaN        NaN      N - No              NaN  NaN   \n16332  CAG994003       Minor        OTH      N - No              NaN  NaN   \n16512  CAG994003       Minor        OTH      N - No              NaN  NaN   \n\n       APPLICATION FEE AMT RECEIVED      STATUS STATUS DATE EFFECTIVE DATE  \\\n1205                          400.0  Historical  2010-02-22     2001-04-04   \n1208                          400.0  Historical  2010-02-11     2001-04-02   \n7213                          400.0  Historical  2010-11-04     1998-07-24   \n10649                        4800.0  Historical  2010-04-13     2005-06-01   \n11165                         400.0  Historical  2010-05-26     1999-07-21   \n11711                           NaN  Historical  2010-04-27     1997-03-25   \n14358                           NaN  Historical  2011-01-05     1998-06-05   \n14365                           NaN  Historical  2016-06-08     1999-10-27   \n15701                           NaN  Historical  2013-09-10     2001-04-02   \n16332                        4800.0  Historical  2010-04-19     2005-06-06   \n16512                         400.0  Historical  2007-12-18     1999-06-04   \n\n      EXPIRATION/REVIEW DATE TERMINATION DATE ADOPTION DATE  \\\n1205              2011-12-31       2009-07-15           NaT   \n1208              2009-11-25       2009-11-25           NaT   \n7213              2010-01-01       2009-06-23           NaT   \n10649             2011-01-01       2010-04-13           NaT   \n11165             2011-01-01       2010-05-19           NaT   \n11711             2004-08-31       2008-11-06           NaT   \n14358             2014-04-30       2010-12-16           NaT   \n14365             2005-01-23       2006-08-09           NaT   \n15701             2009-04-01       2007-10-02           NaT   \n16332             2014-04-30       2010-04-13           NaT   \n16512             2009-06-03       2007-11-01           NaT   \n\n      WDR REVIEW - AMEND WDR REVIEW - REVISE/RENEW WDR REVIEW - RESCIND  \\\n1205                 NaT                       NaT                  NaT   \n1208                 NaT                       NaT                  NaT   \n7213                 NaT                       NaT                  NaT   \n10649                NaT                       NaT                  NaT   \n11165                NaT                       NaT                  NaT   \n11711                NaT                       NaT                  NaT   \n14358                NaT                       NaT                  NaT   \n14365                NaT                       NaT                  NaT   \n15701                NaT                       NaT                  NaT   \n16332                NaT                       NaT                  NaT   \n16512                NaT                       NaT                  NaT   \n\n      WDR REVIEW - NO ACTION REQUIRED WDR REVIEW - PENDING  \\\n1205                              NaT                  NaT   \n1208                              NaT                  NaT   \n7213                              NaT                  NaT   \n10649                             NaT                  NaT   \n11165                             NaT                  NaT   \n11711                             NaT                  NaT   \n14358                             NaT                  NaT   \n14365                             NaT                  NaT   \n15701                             NaT                  NaT   \n16332                             NaT                  NaT   \n16512                             NaT                  NaT   \n\n       WDR REVIEW - PLANNED STATUS ENROLLEE INDIVIDUAL/GENERAL  \\\n1205                    NaN               Y                  I   \n1208                    NaN               Y                  I   \n7213                    NaN               Y                  I   \n10649                   NaN               Y                  I   \n11165                   NaN               Y                  I   \n11711                   NaN               Y                  I   \n14358                   NaN               Y                  I   \n14365                   NaN               Y                  I   \n15701                   NaN               Y                  I   \n16332                   NaN               Y                  I   \n16512                   NaN               Y                  I   \n\n                                                FEE CODE STAFF ASSIGNED  \\\n1205                        15 - WDRs pending rescission            NaN   \n1208                        15 - WDRs pending rescission     Russ Colby   \n7213                        15 - WDRs pending rescission            NaN   \n10649  62 - Treatment system to meet priority polluta...     Russ Colby   \n11165  61 - Require treatment to meet non priority li...     Russ Colby   \n11711                       15 - WDRs pending rescission            NaN   \n14358  60 - Minimal or no treatment to meet limits Ca...   Kristie  Kao   \n14365                                                NaN            NaN   \n15701  61 - Require treatment to meet non priority li...            NaN   \n16332  62 - Treatment system to meet priority polluta...     Russ Colby   \n16512                       15 - WDRs pending rescission  Namiraj  Jain   \n\n       NUMBER OF STAFF ASSIGNED SUPERVISOR  NUMBER OF SUPERVISORS  \\\n1205                        NaN        NaN                    NaN   \n1208                        1.0        NaN                    NaN   \n7213                        NaN        NaN                    NaN   \n10649                       1.0        NaN                    NaN   \n11165                       1.0        NaN                    NaN   \n11711                       NaN        NaN                    NaN   \n14358                       1.0        NaN                    NaN   \n14365                       NaN        NaN                    NaN   \n15701                       NaN        NaN                    NaN   \n16332                       1.0        NaN                    NaN   \n16512                       1.0        NaN                    NaN   \n\n       VIOLATION ID (VID) VIOLATION TYPE VIOLATION SUBTYPE  \\\n1205               200647       Effluent               OEV   \n1208               235118       Effluent               OEV   \n7213               240931       Effluent              CAT1   \n10649              700750       Effluent              CAT2   \n11165              207444       Effluent              CAT2   \n11711              241189       Effluent               OEV   \n14358              409688       Effluent              CAT1   \n14365              204190       Effluent              CAT1   \n15701              265867       Effluent              CAT2   \n16332              592418       Effluent              CAT1   \n16512              239869       Effluent               OEV   \n\n                                   VIOLATION DESCRIPTION  \\\n1205   2Q01 effluent violation:  Turbidity monthly av...   \n1208   2Q01 effluent violation (5/25/01): Turbidity M...   \n7213   4Q02 effluent violation 11/26/02:  Settleable ...   \n10649  2Q07 effluent violation (6/30/07):  Arsenic mo...   \n11165  September 2001 effluent violation:  Residual c...   \n11711  1Q05 effluent violation Cooling Tower #3 (01/1...   \n14358  1Q06 effluent violation (02/02/06) sulfate DM ...   \n14365       1Q00 effluent violation:  BOD daily maximum.   \n15701  1Q04 effluent violation (2/27/04):  Carbon tet...   \n16332  3Q06 effluent violation (8/31/06): BOD monthly...   \n16512  1Q03 effluent violation: (3/31/03):  Settleabl...   \n\n                                      VIOLATION COMMENTS CORRECTIVE ACTION  \\\n1205                                                 NaN               NaN   \n1208                                                 NaN               NaN   \n7213   This is a preliminary determination & has not ...               NaN   \n10649                                                NaN               NaN   \n11165                                                NaN               NaN   \n11711                                                NaN               NaN   \n14358                                                NaN               NaN   \n14365                                                NaN               NaN   \n15701  Discharger believes the high concentration of ...               NaN   \n16332                                                NaN               NaN   \n16512  This is a preliminary determination & has not ...               NaN   \n\n        STATUS.1 OCCURRED ON       DISCOVERY DATE       PROGRAM.1  \\\n1205   Violation  2001-06-06  2002-01-14 00:00:00  NPDNONMUNIPRCS   \n1208   Violation  2001-05-25  2002-02-07 00:00:00  NPDNONMUNIPRCS   \n7213   Violation  2002-11-26  2003-02-03 00:00:00  NPDNONMUNIPRCS   \n10649  Violation  2007-06-30  2007-09-14 00:00:00  NPDNONMUNIPRCS   \n11165  Violation  2001-09-20  2002-12-06 00:00:00  NPDNONMUNIPRCS   \n11711  Violation  2005-01-19  2005-04-28 00:00:00  NPDNONMUNIPRCS   \n14358  Violation  2006-02-02  2006-06-28 00:00:00  NPDNONMUNIPRCS   \n14365  Violation  2000-02-15  2002-04-24 00:00:00  NPDNONMUNIPRCS   \n15701  Violation  2004-02-27  2004-05-20 00:00:00  NPDNONMUNIPRCS   \n16332  Violation  2006-08-31  2006-12-27 00:00:00  NPDNONMUNIPRCS   \n16512  Violation  2003-03-31  2003-06-19 00:00:00  NPDNONMUNIPRCS   \n\n      PROGRAM CATEGORY.1 PRIORITY (Y/N) NPDES Serious (Y/N)  \\\n1205             NPDESWW              N                   N   \n1208             NPDESWW              N                   N   \n7213             NPDESWW              N                   N   \n10649            NPDESWW              N                   N   \n11165            NPDESWW              N                   N   \n11711            NPDESWW              N                   N   \n14358            NPDESWW              Y                   Y   \n14365            NPDESWW              Y                   Y   \n15701            NPDESWW              Y                   Y   \n16332            NPDESWW              Y                   Y   \n16512            NPDESWW              N                   N   \n\n      Otherwise MMP (Y/N) EXEMPT (Y/N) Reason Exempt from MMPs MMP TYPE  \\\n1205                    N            N                     NaN      NaN   \n1208                    N            N                     NaN      NaN   \n7213                    N            N                     NaN      NaN   \n10649                   N            N                     NaN      NaN   \n11165                   N            N                     NaN      NaN   \n11711                   N            N                     NaN      NaN   \n14358                   N            N                     NaN  Serious   \n14365                   N            N                     NaN      NaN   \n15701                   N            N                     NaN      NaN   \n16332                   N            N                     NaN  Serious   \n16512                   N            N                     NaN      NaN   \n\n      QNCR Reportable Violation Source  Violation Source ID Violation Rank  \\\n1205                N           Report                  NaN              2   \n1208                N           Report                  NaN              2   \n7213                N           Report                  NaN              2   \n10649             NaN           Report                  NaN              2   \n11165               N           Report                  NaN              2   \n11711               N           Report                  NaN              2   \n14358             NaN           Report                  NaN              2   \n14365               N           Report                  NaN              2   \n15701               N           Report                  NaN              2   \n16332             NaN           Report                  NaN              2   \n16512               N           Report                  NaN              2   \n\n      Parameter  Limit  Result Units Period Monitoring Location  \\\n1205        NaN    NaN     NaN   NaN    NaN                 NaN   \n1208        NaN    NaN     NaN   NaN    NaN                 NaN   \n7213        NaN    NaN     NaN   NaN    NaN                 NaN   \n10649       NaN    NaN     NaN   NaN    NaN                 NaN   \n11165       NaN    NaN     NaN   NaN    NaN                 NaN   \n11711       NaN    NaN     NaN   NaN    NaN                 NaN   \n14358       NaN    NaN     NaN   NaN    NaN                 NaN   \n14365       NaN    NaN     NaN   NaN    NaN                 NaN   \n15701       NaN    NaN     NaN   NaN    NaN                 NaN   \n16332       NaN    NaN     NaN   NaN    NaN                 NaN   \n16512       NaN    NaN     NaN   NaN    NaN                 NaN   \n\n       Number of Final (A+H) 13267  Number of Final (A+H) 13308  \\\n1205                             0                            0   \n1208                             0                            0   \n7213                             0                            0   \n10649                            0                            0   \n11165                            0                            0   \n11711                            0                            0   \n14358                            0                            0   \n14365                            0                            0   \n15701                            0                            0   \n16332                            0                            0   \n16512                            0                            0   \n\n       Number of Final (A+H) ACL  Number of Final (A+H) CDO  \\\n1205                           0                          0   \n1208                           1                          0   \n7213                           0                          0   \n10649                          0                          0   \n11165                          0                          0   \n11711                          0                          0   \n14358                          1                          0   \n14365                          1                          0   \n15701                          0                          0   \n16332                          1                          0   \n16512                          0                          0   \n\n       Number of Final (A+H) CAO  \\\n1205                           0   \n1208                           0   \n7213                           0   \n10649                          0   \n11165                          0   \n11711                          0   \n14358                          0   \n14365                          0   \n15701                          0   \n16332                          0   \n16512                          0   \n\n       Number of Final (A+H) Expedited Payment Letters  \\\n1205                                                 0   \n1208                                                 0   \n7213                                                 0   \n10649                                                0   \n11165                                                0   \n11711                                                0   \n14358                                                0   \n14365                                                0   \n15701                                                0   \n16332                                                0   \n16512                                                0   \n\n       Number of Final (A+H) Referrals to Attorney General  \\\n1205                                                   0     \n1208                                                   0     \n7213                                                   0     \n10649                                                  0     \n11165                                                  0     \n11711                                                  0     \n14358                                                  0     \n14365                                                  0     \n15701                                                  0     \n16332                                                  0     \n16512                                                  0     \n\n       Number of Final (A+H) Notices of Stormwater Noncompliance  \\\n1205                                                   0           \n1208                                                   0           \n7213                                                   0           \n10649                                                  0           \n11165                                                  0           \n11711                                                  0           \n14358                                                  0           \n14365                                                  0           \n15701                                                  0           \n16332                                                  0           \n16512                                                  0           \n\n       Number of Final (A+H) Notices of Violation  \\\n1205                                            1   \n1208                                            0   \n7213                                            0   \n10649                                           0   \n11165                                           1   \n11711                                           0   \n14358                                           0   \n14365                                           1   \n15701                                           0   \n16332                                           0   \n16512                                           0   \n\n       Number of Final (A+H) Notices to Comply  \\\n1205                                         0   \n1208                                         0   \n7213                                         0   \n10649                                        0   \n11165                                        0   \n11711                                        0   \n14358                                        0   \n14365                                        0   \n15701                                        0   \n16332                                        0   \n16512                                        0   \n\n       Number of Final (A+H) Oral Communications  \\\n1205                                           0   \n1208                                           0   \n7213                                           0   \n10649                                          0   \n11165                                          0   \n11711                                          0   \n14358                                          0   \n14365                                          0   \n15701                                          0   \n16332                                          0   \n16512                                          0   \n\n       Number of Final (A+H) Referrals to District Attorney  \\\n1205                                                   0      \n1208                                                   0      \n7213                                                   0      \n10649                                                  0      \n11165                                                  0      \n11711                                                  0      \n14358                                                  0      \n14365                                                  0      \n15701                                                  0      \n16332                                                  0      \n16512                                                  0      \n\n       Number of Final (A+H) Referrals to Other Agency  \\\n1205                                                 0   \n1208                                                 0   \n7213                                                 0   \n10649                                                0   \n11165                                                0   \n11711                                                0   \n14358                                                0   \n14365                                                0   \n15701                                                0   \n16332                                                0   \n16512                                                0   \n\n       Number of Final (A+H) Referrals to Task Force  \\\n1205                                               0   \n1208                                               0   \n7213                                               0   \n10649                                              0   \n11165                                              0   \n11711                                              0   \n14358                                              0   \n14365                                              0   \n15701                                              0   \n16332                                              0   \n16512                                              0   \n\n       Number of Final (A+H) Referrals to USEPA  \\\n1205                                          0   \n1208                                          0   \n7213                                          0   \n10649                                         0   \n11165                                         0   \n11711                                         0   \n14358                                         0   \n14365                                         0   \n15701                                         0   \n16332                                         0   \n16512                                         0   \n\n       Number of Final (A+H) Settlement Court Orders  \\\n1205                                               0   \n1208                                               0   \n7213                                               0   \n10649                                              0   \n11165                                              0   \n11711                                              0   \n14358                                              0   \n14365                                              0   \n15701                                              0   \n16332                                              0   \n16512                                              0   \n\n       Number of Final (A+H) Staff Enforcement Letter  \\\n1205                                                0   \n1208                                                0   \n7213                                                0   \n10649                                               0   \n11165                                               0   \n11711                                               0   \n14358                                               0   \n14365                                               0   \n15701                                               0   \n16332                                               0   \n16512                                               0   \n\n       Number of Final (A+H) Stipulated Penalties  \\\n1205                                            0   \n1208                                            0   \n7213                                            0   \n10649                                           0   \n11165                                           0   \n11711                                           0   \n14358                                           0   \n14365                                           0   \n15701                                           0   \n16332                                           0   \n16512                                           0   \n\n       Number of Final (A+H) Third Party Actions  \\\n1205                                           0   \n1208                                           0   \n7213                                           0   \n10649                                          0   \n11165                                          0   \n11711                                          0   \n14358                                          0   \n14365                                          0   \n15701                                          0   \n16332                                          0   \n16512                                          0   \n\n       Number of Final (A+H) Time Schedule Orders  \\\n1205                                            0   \n1208                                            0   \n7213                                            0   \n10649                                           0   \n11165                                           0   \n11711                                           0   \n14358                                           0   \n14365                                           0   \n15701                                           0   \n16332                                           0   \n16512                                           0   \n\n       Number of Final (A+H) Unknown  \\\n1205                               0   \n1208                               0   \n7213                               0   \n10649                              0   \n11165                              0   \n11711                              0   \n14358                              0   \n14365                              0   \n15701                              0   \n16332                              0   \n16512                              0   \n\n       Number of Final (A+H) Waste Discharge Requirements enroll_date  \\\n1205                                                   0          NaT   \n1208                                                   0          NaT   \n7213                                                   0          NaT   \n10649                                                  0          NaT   \n11165                                                  0          NaT   \n11711                                                  0          NaT   \n14358                                                  0   1995-09-18   \n14365                                                  0   1978-01-23   \n15701                                                  0          NaT   \n16332                                                  0          NaT   \n16512                                                  0          NaT   \n\n      final_expiration_date last_termination_date estimated_entrance_date  \\\n1205                    NaT            2009-07-15              2001-04-04   \n1208                    NaT            2009-11-25              2001-04-02   \n7213                    NaT            2009-06-23              1998-07-24   \n10649                   NaT            2010-04-13              2005-06-01   \n11165                   NaT            2010-05-19              1999-07-21   \n11711                   NaT            2008-11-06              1997-03-25   \n14358            2000-08-10            2010-12-16              1995-09-18   \n14365            2000-10-10            2006-08-09              1978-01-23   \n15701                   NaT            2007-10-02              2001-04-02   \n16332                   NaT            2010-04-13              2005-06-06   \n16512                   NaT            2007-11-01              1999-06-04   \n\n       estimated_entrance_quarter estimated_exit_date  estimated_exit_quarter  \\\n1205                          125          2009-07-15                   158.0   \n1208                          125          2009-11-25                   159.0   \n7213                          114          2009-06-23                   157.0   \n10649                         141          2010-04-13                   161.0   \n11165                         118          2010-05-19                   161.0   \n11711                         108          2008-11-06                   155.0   \n14358                         102          2010-12-16                   163.0   \n14365                          32          2006-08-09                   146.0   \n15701                         125          2007-10-02                   151.0   \n16332                         141          2010-04-13                   161.0   \n16512                         117          2007-11-01                   151.0   \n\n                  PLACE LATLONG closest_POTW  TERMINATION YEAR  \n1205   (33.825766, -118.075198)    CA0054119              2009  \n1208   (33.917389, -118.175422)    CA0054011              2009  \n7213   (33.914267, -118.335116)    CA0109991              2009  \n10649  (33.842237, -118.065976)    CA0054119              2010  \n11165    (34.13528, -118.35111)    CA0055531              2010  \n11711  (34.301867, -118.461874)    CA0056227              2008  \n14358  (34.208825, -118.351928)    CA0055531              2010  \n14365    (33.83333, -118.14167)    CA0054011              2006  \n15701      (34.165, -118.48722)    CA0056227              2007  \n16332  (33.838202, -118.086287)    CA0054119              2010  \n16512  (33.931604, -118.357991)    CA0109991              2007  ",
      "text/html": "<div>\n<style scoped>\n    .dataframe tbody tr th:only-of-type {\n        vertical-align: middle;\n    }\n\n    .dataframe tbody tr th {\n        vertical-align: top;\n    }\n\n    .dataframe thead th {\n        text-align: right;\n    }\n</style>\n<table border=\"1\" class=\"dataframe\">\n  <thead>\n    <tr style=\"text-align: right;\">\n      <th></th>\n      <th>VIOLATED FACILITY REGION</th>\n      <th>REGULATED FACILITY REGION</th>\n      <th>FACILITY_ID</th>\n      <th>FACILITY NAME</th>\n      <th>AGENCY NAME</th>\n      <th>PLACE TYPE</th>\n      <th>PLACE SUBTYPE</th>\n      <th>FACILITY TYPE</th>\n      <th>AGENCY TYPE</th>\n      <th>NUMBER OF AGENCIES</th>\n      <th>PLACE ADDRESS</th>\n      <th>PLACE CITY</th>\n      <th>PLACE ZIP</th>\n      <th>PLACE COUNTY</th>\n      <th>PLACE LATITUDE</th>\n      <th>PLACE LONGITUDE</th>\n      <th>SIC CODE 1</th>\n      <th>SIC DESC 1</th>\n      <th>SIC CODE 2</th>\n      <th>SIC DESC 2</th>\n      <th>SIC CODE 3</th>\n      <th>SIC DESC 3</th>\n      <th>NAICS CODE 1</th>\n      <th>NAICS DESC 1</th>\n      <th>NAICS CODE 2</th>\n      <th>NAICS DESC 2</th>\n      <th>NAICS CODE 3</th>\n      <th>NAICS DESC 3</th>\n      <th>NUMBER OF PLACES</th>\n      <th>DESIGN FLOW</th>\n      <th>THREAT TO WATER QUALITY</th>\n      <th>COMPLEXITY</th>\n      <th>PRETREATMENT</th>\n      <th>FACILITY WASTE TYPE</th>\n      <th>FACILITY WASTE TYPE 2</th>\n      <th>FACILITY WASTE TYPE 3</th>\n      <th>FACILITY WASTE TYPE 4</th>\n      <th>PROGRAM</th>\n      <th>PROGRAM CATEGORY</th>\n      <th>NUMBER OF PROGRAMS</th>\n      <th>WDID</th>\n      <th>REG MEASURE ID</th>\n      <th>REG MEASURE TYPE</th>\n      <th>TITLE</th>\n      <th>DESCRIPTION</th>\n      <th>ORDER NUMBER</th>\n      <th>NPDES# CA#</th>\n      <th>MAJOR-MINOR</th>\n      <th>NPDES TYPE</th>\n      <th>RECLAMATION</th>\n      <th>DREDGE FILL FEE</th>\n      <th>301H</th>\n      <th>APPLICATION FEE AMT RECEIVED</th>\n      <th>STATUS</th>\n      <th>STATUS DATE</th>\n      <th>EFFECTIVE DATE</th>\n      <th>EXPIRATION/REVIEW DATE</th>\n      <th>TERMINATION DATE</th>\n      <th>ADOPTION DATE</th>\n      <th>WDR REVIEW - AMEND</th>\n      <th>WDR REVIEW - REVISE/RENEW</th>\n      <th>WDR REVIEW - RESCIND</th>\n      <th>WDR REVIEW - NO ACTION REQUIRED</th>\n      <th>WDR REVIEW - PENDING</th>\n      <th>WDR REVIEW - PLANNED</th>\n      <th>STATUS ENROLLEE</th>\n      <th>INDIVIDUAL/GENERAL</th>\n      <th>FEE CODE</th>\n      <th>STAFF ASSIGNED</th>\n      <th>NUMBER OF STAFF ASSIGNED</th>\n      <th>SUPERVISOR</th>\n      <th>NUMBER OF SUPERVISORS</th>\n      <th>VIOLATION ID (VID)</th>\n      <th>VIOLATION TYPE</th>\n      <th>VIOLATION SUBTYPE</th>\n      <th>VIOLATION DESCRIPTION</th>\n      <th>VIOLATION COMMENTS</th>\n      <th>CORRECTIVE ACTION</th>\n      <th>STATUS.1</th>\n      <th>OCCURRED ON</th>\n      <th>DISCOVERY DATE</th>\n      <th>PROGRAM.1</th>\n      <th>PROGRAM CATEGORY.1</th>\n      <th>PRIORITY (Y/N)</th>\n      <th>NPDES Serious (Y/N)</th>\n      <th>Otherwise MMP (Y/N)</th>\n      <th>EXEMPT (Y/N)</th>\n      <th>Reason Exempt from MMPs</th>\n      <th>MMP TYPE</th>\n      <th>QNCR Reportable</th>\n      <th>Violation Source</th>\n      <th>Violation Source ID</th>\n      <th>Violation Rank</th>\n      <th>Parameter</th>\n      <th>Limit</th>\n      <th>Result</th>\n      <th>Units</th>\n      <th>Period</th>\n      <th>Monitoring Location</th>\n      <th>Number of Final (A+H) 13267</th>\n      <th>Number of Final (A+H) 13308</th>\n      <th>Number of Final (A+H) ACL</th>\n      <th>Number of Final (A+H) CDO</th>\n      <th>Number of Final (A+H) CAO</th>\n      <th>Number of Final (A+H) Expedited Payment Letters</th>\n      <th>Number of Final (A+H) Referrals to Attorney General</th>\n      <th>Number of Final (A+H) Notices of Stormwater Noncompliance</th>\n      <th>Number of Final (A+H) Notices of Violation</th>\n      <th>Number of Final (A+H) Notices to Comply</th>\n      <th>Number of Final (A+H) Oral Communications</th>\n      <th>Number of Final (A+H) Referrals to District Attorney</th>\n      <th>Number of Final (A+H) Referrals to Other Agency</th>\n      <th>Number of Final (A+H) Referrals to Task Force</th>\n      <th>Number of Final (A+H) Referrals to USEPA</th>\n      <th>Number of Final (A+H) Settlement Court Orders</th>\n      <th>Number of Final (A+H) Staff Enforcement Letter</th>\n      <th>Number of Final (A+H) Stipulated Penalties</th>\n      <th>Number of Final (A+H) Third Party Actions</th>\n      <th>Number of Final (A+H) Time Schedule Orders</th>\n      <th>Number of Final (A+H) Unknown</th>\n      <th>Number of Final (A+H) Waste Discharge Requirements</th>\n      <th>enroll_date</th>\n      <th>final_expiration_date</th>\n      <th>last_termination_date</th>\n      <th>estimated_entrance_date</th>\n      <th>estimated_entrance_quarter</th>\n      <th>estimated_exit_date</th>\n      <th>estimated_exit_quarter</th>\n      <th>PLACE LATLONG</th>\n      <th>closest_POTW</th>\n      <th>TERMINATION YEAR</th>\n    </tr>\n  </thead>\n  <tbody>\n    <tr>\n      <th>1205</th>\n      <td>4</td>\n      <td>4</td>\n      <td>234441</td>\n      <td>Juan Plant Site</td>\n      <td>Golden State Water Company - San Dimas</td>\n      <td>Facility</td>\n      <td>NaN</td>\n      <td>All other facilities</td>\n      <td>Privately-Owned Business</td>\n      <td>1.0</td>\n      <td>22317  Juan</td>\n      <td>Hawaiian Gardens</td>\n      <td>90716</td>\n      <td>Los Angeles</td>\n      <td>33.825766</td>\n      <td>-118.075198</td>\n      <td>4941.0</td>\n      <td>Water Supply</td>\n      <td>NaN</td>\n      <td>NaN</td>\n      <td>NaN</td>\n      <td>NaN</td>\n      <td>NaN</td>\n      <td>NaN</td>\n      <td>NaN</td>\n      <td>NaN</td>\n      <td>NaN</td>\n      <td>NaN</td>\n      <td>1.0</td>\n      <td>0.050</td>\n      <td>3.0</td>\n      <td>C</td>\n      <td>X - Facility is not a POTW</td>\n      <td>Filter backwash brine waters</td>\n      <td>NaN</td>\n      <td>NaN</td>\n      <td>NaN</td>\n      <td>NPDNONMUNIPRCS</td>\n      <td>NPDESWW</td>\n      <td>1.0</td>\n      <td>4B196400069</td>\n      <td>193935.0</td>\n      <td>Enrollee</td>\n      <td>Enrollee - Golden State Water Company, Juan Pl...</td>\n      <td>NaN</td>\n      <td>R4-2004-0058</td>\n      <td>CAG994003</td>\n      <td>Minor</td>\n      <td>OTH</td>\n      <td>N - No</td>\n      <td>NaN</td>\n      <td>NaN</td>\n      <td>400.0</td>\n      <td>Historical</td>\n      <td>2010-02-22</td>\n      <td>2001-04-04</td>\n      <td>2011-12-31</td>\n      <td>2009-07-15</td>\n      <td>NaT</td>\n      <td>NaT</td>\n      <td>NaT</td>\n      <td>NaT</td>\n      <td>NaT</td>\n      <td>NaT</td>\n      <td>NaN</td>\n      <td>Y</td>\n      <td>I</td>\n      <td>15 - WDRs pending rescission</td>\n      <td>NaN</td>\n      <td>NaN</td>\n      <td>NaN</td>\n      <td>NaN</td>\n      <td>200647</td>\n      <td>Effluent</td>\n      <td>OEV</td>\n      <td>2Q01 effluent violation:  Turbidity monthly av...</td>\n      <td>NaN</td>\n      <td>NaN</td>\n      <td>Violation</td>\n      <td>2001-06-06</td>\n      <td>2002-01-14 00:00:00</td>\n      <td>NPDNONMUNIPRCS</td>\n      <td>NPDESWW</td>\n      <td>N</td>\n      <td>N</td>\n      <td>N</td>\n      <td>N</td>\n      <td>NaN</td>\n      <td>NaN</td>\n      <td>N</td>\n      <td>Report</td>\n      <td>NaN</td>\n      <td>2</td>\n      <td>NaN</td>\n      <td>NaN</td>\n      <td>NaN</td>\n      <td>NaN</td>\n      <td>NaN</td>\n      <td>NaN</td>\n      <td>0</td>\n      <td>0</td>\n      <td>0</td>\n      <td>0</td>\n      <td>0</td>\n      <td>0</td>\n      <td>0</td>\n      <td>0</td>\n      <td>1</td>\n      <td>0</td>\n      <td>0</td>\n      <td>0</td>\n      <td>0</td>\n      <td>0</td>\n      <td>0</td>\n      <td>0</td>\n      <td>0</td>\n      <td>0</td>\n      <td>0</td>\n      <td>0</td>\n      <td>0</td>\n      <td>0</td>\n      <td>NaT</td>\n      <td>NaT</td>\n      <td>2009-07-15</td>\n      <td>2001-04-04</td>\n      <td>125</td>\n      <td>2009-07-15</td>\n      <td>158.0</td>\n      <td>(33.825766, -118.075198)</td>\n      <td>CA0054119</td>\n      <td>2009</td>\n    </tr>\n    <tr>\n      <th>1208</th>\n      <td>4</td>\n      <td>4</td>\n      <td>217323</td>\n      <td>Century Plant</td>\n      <td>Golden State Water Company - San Dimas</td>\n      <td>Utility</td>\n      <td>Utility Structure</td>\n      <td>All other facilities</td>\n      <td>Privately-Owned Business</td>\n      <td>1.0</td>\n      <td>7128  Century Boulevard</td>\n      <td>Paramount</td>\n      <td>90723</td>\n      <td>Los Angeles</td>\n      <td>33.917389</td>\n      <td>-118.175422</td>\n      <td>4941.0</td>\n      <td>Water Supply</td>\n      <td>NaN</td>\n      <td>NaN</td>\n      <td>NaN</td>\n      <td>NaN</td>\n      <td>NaN</td>\n      <td>NaN</td>\n      <td>NaN</td>\n      <td>NaN</td>\n      <td>NaN</td>\n      <td>NaN</td>\n      <td>1.0</td>\n      <td>0.030</td>\n      <td>3.0</td>\n      <td>C</td>\n      <td>X - Facility is not a POTW</td>\n      <td>Miscellaneous</td>\n      <td>NaN</td>\n      <td>NaN</td>\n      <td>NaN</td>\n      <td>NPDNONMUNIPRCS</td>\n      <td>NPDESWW</td>\n      <td>1.0</td>\n      <td>4B196400070</td>\n      <td>193936.0</td>\n      <td>Enrollee</td>\n      <td>Enrollee (CI 8240)-Golden State Water Company</td>\n      <td>Century Plant Backwash  Termination requested ...</td>\n      <td>R4-2004-0058</td>\n      <td>CAG994003</td>\n      <td>Minor</td>\n      <td>OTH</td>\n      <td>N - No</td>\n      <td>NaN</td>\n      <td>NaN</td>\n      <td>400.0</td>\n      <td>Historical</td>\n      <td>2010-02-11</td>\n      <td>2001-04-02</td>\n      <td>2009-11-25</td>\n      <td>2009-11-25</td>\n      <td>NaT</td>\n      <td>NaT</td>\n      <td>NaT</td>\n      <td>NaT</td>\n      <td>NaT</td>\n      <td>NaT</td>\n      <td>NaN</td>\n      <td>Y</td>\n      <td>I</td>\n      <td>15 - WDRs pending rescission</td>\n      <td>Russ Colby</td>\n      <td>1.0</td>\n      <td>NaN</td>\n      <td>NaN</td>\n      <td>235118</td>\n      <td>Effluent</td>\n      <td>OEV</td>\n      <td>2Q01 effluent violation (5/25/01): Turbidity M...</td>\n      <td>NaN</td>\n      <td>NaN</td>\n      <td>Violation</td>\n      <td>2001-05-25</td>\n      <td>2002-02-07 00:00:00</td>\n      <td>NPDNONMUNIPRCS</td>\n      <td>NPDESWW</td>\n      <td>N</td>\n      <td>N</td>\n      <td>N</td>\n      <td>N</td>\n      <td>NaN</td>\n      <td>NaN</td>\n      <td>N</td>\n      <td>Report</td>\n      <td>NaN</td>\n      <td>2</td>\n      <td>NaN</td>\n      <td>NaN</td>\n      <td>NaN</td>\n      <td>NaN</td>\n      <td>NaN</td>\n      <td>NaN</td>\n      <td>0</td>\n      <td>0</td>\n      <td>1</td>\n      <td>0</td>\n      <td>0</td>\n      <td>0</td>\n      <td>0</td>\n      <td>0</td>\n      <td>0</td>\n      <td>0</td>\n      <td>0</td>\n      <td>0</td>\n      <td>0</td>\n      <td>0</td>\n      <td>0</td>\n      <td>0</td>\n      <td>0</td>\n      <td>0</td>\n      <td>0</td>\n      <td>0</td>\n      <td>0</td>\n      <td>0</td>\n      <td>NaT</td>\n      <td>NaT</td>\n      <td>2009-11-25</td>\n      <td>2001-04-02</td>\n      <td>125</td>\n      <td>2009-11-25</td>\n      <td>159.0</td>\n      <td>(33.917389, -118.175422)</td>\n      <td>CA0054011</td>\n      <td>2009</td>\n    </tr>\n    <tr>\n      <th>7213</th>\n      <td>4</td>\n      <td>4</td>\n      <td>229012</td>\n      <td>Goldmedal Plant</td>\n      <td>Golden State Water Company - San Dimas</td>\n      <td>Facility</td>\n      <td>NaN</td>\n      <td>All other facilities</td>\n      <td>Privately-Owned Business</td>\n      <td>1.0</td>\n      <td>13030 South Yukon Avenue</td>\n      <td>Hawthorne</td>\n      <td>90250</td>\n      <td>Los Angeles</td>\n      <td>33.914267</td>\n      <td>-118.335116</td>\n      <td>4941.0</td>\n      <td>Water Supply</td>\n      <td>NaN</td>\n      <td>NaN</td>\n      <td>NaN</td>\n      <td>NaN</td>\n      <td>NaN</td>\n      <td>NaN</td>\n      <td>NaN</td>\n      <td>NaN</td>\n      <td>NaN</td>\n      <td>NaN</td>\n      <td>1.0</td>\n      <td>0.100</td>\n      <td>3.0</td>\n      <td>C</td>\n      <td>X - Facility is not a POTW</td>\n      <td>Miscellaneous</td>\n      <td>NaN</td>\n      <td>NaN</td>\n      <td>NaN</td>\n      <td>NPDNONMUNIPRCS</td>\n      <td>NPDESWW</td>\n      <td>1.0</td>\n      <td>4B196400037</td>\n      <td>193906.0</td>\n      <td>Enrollee</td>\n      <td>Enrollee-Golden State Water Company</td>\n      <td>Goldmedal Plant  Termination requested dated J...</td>\n      <td>R4-2004-0058</td>\n      <td>CAG994003</td>\n      <td>Minor</td>\n      <td>OTH</td>\n      <td>N - No</td>\n      <td>NaN</td>\n      <td>NaN</td>\n      <td>400.0</td>\n      <td>Historical</td>\n      <td>2010-11-04</td>\n      <td>1998-07-24</td>\n      <td>2010-01-01</td>\n      <td>2009-06-23</td>\n      <td>NaT</td>\n      <td>NaT</td>\n      <td>NaT</td>\n      <td>NaT</td>\n      <td>NaT</td>\n      <td>NaT</td>\n      <td>NaN</td>\n      <td>Y</td>\n      <td>I</td>\n      <td>15 - WDRs pending rescission</td>\n      <td>NaN</td>\n      <td>NaN</td>\n      <td>NaN</td>\n      <td>NaN</td>\n      <td>240931</td>\n      <td>Effluent</td>\n      <td>CAT1</td>\n      <td>4Q02 effluent violation 11/26/02:  Settleable ...</td>\n      <td>This is a preliminary determination &amp; has not ...</td>\n      <td>NaN</td>\n      <td>Violation</td>\n      <td>2002-11-26</td>\n      <td>2003-02-03 00:00:00</td>\n      <td>NPDNONMUNIPRCS</td>\n      <td>NPDESWW</td>\n      <td>N</td>\n      <td>N</td>\n      <td>N</td>\n      <td>N</td>\n      <td>NaN</td>\n      <td>NaN</td>\n      <td>N</td>\n      <td>Report</td>\n      <td>NaN</td>\n      <td>2</td>\n      <td>NaN</td>\n      <td>NaN</td>\n      <td>NaN</td>\n      <td>NaN</td>\n      <td>NaN</td>\n      <td>NaN</td>\n      <td>0</td>\n      <td>0</td>\n      <td>0</td>\n      <td>0</td>\n      <td>0</td>\n      <td>0</td>\n      <td>0</td>\n      <td>0</td>\n      <td>0</td>\n      <td>0</td>\n      <td>0</td>\n      <td>0</td>\n      <td>0</td>\n      <td>0</td>\n      <td>0</td>\n      <td>0</td>\n      <td>0</td>\n      <td>0</td>\n      <td>0</td>\n      <td>0</td>\n      <td>0</td>\n      <td>0</td>\n      <td>NaT</td>\n      <td>NaT</td>\n      <td>2009-06-23</td>\n      <td>1998-07-24</td>\n      <td>114</td>\n      <td>2009-06-23</td>\n      <td>157.0</td>\n      <td>(33.914267, -118.335116)</td>\n      <td>CA0109991</td>\n      <td>2009</td>\n    </tr>\n    <tr>\n      <th>10649</th>\n      <td>4</td>\n      <td>4</td>\n      <td>256068</td>\n      <td>Hawaiian Plant</td>\n      <td>Golden State Water Company - San Dimas</td>\n      <td>Facility</td>\n      <td>NaN</td>\n      <td>All other facilities</td>\n      <td>Privately-Owned Business</td>\n      <td>1.0</td>\n      <td>20702  Hawaiian Avenue</td>\n      <td>Lakewood</td>\n      <td>90715</td>\n      <td>Los Angeles</td>\n      <td>33.842237</td>\n      <td>-118.065976</td>\n      <td>4941.0</td>\n      <td>Water Supply</td>\n      <td>NaN</td>\n      <td>NaN</td>\n      <td>NaN</td>\n      <td>NaN</td>\n      <td>NaN</td>\n      <td>NaN</td>\n      <td>NaN</td>\n      <td>NaN</td>\n      <td>NaN</td>\n      <td>NaN</td>\n      <td>1.0</td>\n      <td>0.015</td>\n      <td>3.0</td>\n      <td>C</td>\n      <td>X - Facility is not a POTW</td>\n      <td>Miscellaneous</td>\n      <td>NaN</td>\n      <td>NaN</td>\n      <td>NaN</td>\n      <td>NPDNONMUNIPRCS</td>\n      <td>NPDESWW</td>\n      <td>1.0</td>\n      <td>4B198100003</td>\n      <td>192884.0</td>\n      <td>Enrollee</td>\n      <td>Enrollee- (CI 8898) Golden State Water Company</td>\n      <td>Hawaiian Plant Backwash</td>\n      <td>R4-2004-0058</td>\n      <td>CAG994003</td>\n      <td>Minor</td>\n      <td>OTH</td>\n      <td>N - No</td>\n      <td>NaN</td>\n      <td>NaN</td>\n      <td>4800.0</td>\n      <td>Historical</td>\n      <td>2010-04-13</td>\n      <td>2005-06-01</td>\n      <td>2011-01-01</td>\n      <td>2010-04-13</td>\n      <td>NaT</td>\n      <td>NaT</td>\n      <td>NaT</td>\n      <td>NaT</td>\n      <td>NaT</td>\n      <td>NaT</td>\n      <td>NaN</td>\n      <td>Y</td>\n      <td>I</td>\n      <td>62 - Treatment system to meet priority polluta...</td>\n      <td>Russ Colby</td>\n      <td>1.0</td>\n      <td>NaN</td>\n      <td>NaN</td>\n      <td>700750</td>\n      <td>Effluent</td>\n      <td>CAT2</td>\n      <td>2Q07 effluent violation (6/30/07):  Arsenic mo...</td>\n      <td>NaN</td>\n      <td>NaN</td>\n      <td>Violation</td>\n      <td>2007-06-30</td>\n      <td>2007-09-14 00:00:00</td>\n      <td>NPDNONMUNIPRCS</td>\n      <td>NPDESWW</td>\n      <td>N</td>\n      <td>N</td>\n      <td>N</td>\n      <td>N</td>\n      <td>NaN</td>\n      <td>NaN</td>\n      <td>NaN</td>\n      <td>Report</td>\n      <td>NaN</td>\n      <td>2</td>\n      <td>NaN</td>\n      <td>NaN</td>\n      <td>NaN</td>\n      <td>NaN</td>\n      <td>NaN</td>\n      <td>NaN</td>\n      <td>0</td>\n      <td>0</td>\n      <td>0</td>\n      <td>0</td>\n      <td>0</td>\n      <td>0</td>\n      <td>0</td>\n      <td>0</td>\n      <td>0</td>\n      <td>0</td>\n      <td>0</td>\n      <td>0</td>\n      <td>0</td>\n      <td>0</td>\n      <td>0</td>\n      <td>0</td>\n      <td>0</td>\n      <td>0</td>\n      <td>0</td>\n      <td>0</td>\n      <td>0</td>\n      <td>0</td>\n      <td>NaT</td>\n      <td>NaT</td>\n      <td>2010-04-13</td>\n      <td>2005-06-01</td>\n      <td>141</td>\n      <td>2010-04-13</td>\n      <td>161.0</td>\n      <td>(33.842237, -118.065976)</td>\n      <td>CA0054119</td>\n      <td>2010</td>\n    </tr>\n    <tr>\n      <th>11165</th>\n      <td>4</td>\n      <td>4</td>\n      <td>273405</td>\n      <td>Warner Brothers Studio Facilities</td>\n      <td>Warner Bros Entertainment Inc</td>\n      <td>Facility</td>\n      <td>NaN</td>\n      <td>All other facilities</td>\n      <td>Privately-Owned Business</td>\n      <td>1.0</td>\n      <td>4000  Warner Boulevard</td>\n      <td>Burbank</td>\n      <td>91522</td>\n      <td>Los Angeles</td>\n      <td>34.135280</td>\n      <td>-118.351110</td>\n      <td>7812.0</td>\n      <td>Motion Picture and Video Tape Production</td>\n      <td>NaN</td>\n      <td>NaN</td>\n      <td>NaN</td>\n      <td>NaN</td>\n      <td>NaN</td>\n      <td>NaN</td>\n      <td>NaN</td>\n      <td>NaN</td>\n      <td>NaN</td>\n      <td>NaN</td>\n      <td>1.0</td>\n      <td>1.512</td>\n      <td>3.0</td>\n      <td>C</td>\n      <td>X - Facility is not a POTW</td>\n      <td>Miscellaneous</td>\n      <td>NaN</td>\n      <td>NaN</td>\n      <td>NaN</td>\n      <td>NPDNONMUNIPRCS</td>\n      <td>NPDESWW</td>\n      <td>1.0</td>\n      <td>4B196400053</td>\n      <td>193919.0</td>\n      <td>Enrollee</td>\n      <td>Enrollee-Warner Bros. Entertainment Inc.</td>\n      <td>Warner Bros. Studio Facilities</td>\n      <td>R4-2004-0058</td>\n      <td>CAG994003</td>\n      <td>Minor</td>\n      <td>OTH</td>\n      <td>N - No</td>\n      <td>NaN</td>\n      <td>NaN</td>\n      <td>400.0</td>\n      <td>Historical</td>\n      <td>2010-05-26</td>\n      <td>1999-07-21</td>\n      <td>2011-01-01</td>\n      <td>2010-05-19</td>\n      <td>NaT</td>\n      <td>NaT</td>\n      <td>NaT</td>\n      <td>NaT</td>\n      <td>NaT</td>\n      <td>NaT</td>\n      <td>NaN</td>\n      <td>Y</td>\n      <td>I</td>\n      <td>61 - Require treatment to meet non priority li...</td>\n      <td>Russ Colby</td>\n      <td>1.0</td>\n      <td>NaN</td>\n      <td>NaN</td>\n      <td>207444</td>\n      <td>Effluent</td>\n      <td>CAT2</td>\n      <td>September 2001 effluent violation:  Residual c...</td>\n      <td>NaN</td>\n      <td>NaN</td>\n      <td>Violation</td>\n      <td>2001-09-20</td>\n      <td>2002-12-06 00:00:00</td>\n      <td>NPDNONMUNIPRCS</td>\n      <td>NPDESWW</td>\n      <td>N</td>\n      <td>N</td>\n      <td>N</td>\n      <td>N</td>\n      <td>NaN</td>\n      <td>NaN</td>\n      <td>N</td>\n      <td>Report</td>\n      <td>NaN</td>\n      <td>2</td>\n      <td>NaN</td>\n      <td>NaN</td>\n      <td>NaN</td>\n      <td>NaN</td>\n      <td>NaN</td>\n      <td>NaN</td>\n      <td>0</td>\n      <td>0</td>\n      <td>0</td>\n      <td>0</td>\n      <td>0</td>\n      <td>0</td>\n      <td>0</td>\n      <td>0</td>\n      <td>1</td>\n      <td>0</td>\n      <td>0</td>\n      <td>0</td>\n      <td>0</td>\n      <td>0</td>\n      <td>0</td>\n      <td>0</td>\n      <td>0</td>\n      <td>0</td>\n      <td>0</td>\n      <td>0</td>\n      <td>0</td>\n      <td>0</td>\n      <td>NaT</td>\n      <td>NaT</td>\n      <td>2010-05-19</td>\n      <td>1999-07-21</td>\n      <td>118</td>\n      <td>2010-05-19</td>\n      <td>161.0</td>\n      <td>(34.13528, -118.35111)</td>\n      <td>CA0055531</td>\n      <td>2010</td>\n    </tr>\n    <tr>\n      <th>11711</th>\n      <td>4</td>\n      <td>4</td>\n      <td>261149</td>\n      <td>Sierracin/Sylmar Corp.</td>\n      <td>Sierracin - Sylmar Corporation</td>\n      <td>Facility</td>\n      <td>NaN</td>\n      <td>All other facilities</td>\n      <td>Privately-Owned Business</td>\n      <td>1.0</td>\n      <td>12780  San Fernando Road</td>\n      <td>Sylmar</td>\n      <td>91342</td>\n      <td>Los Angeles</td>\n      <td>34.301867</td>\n      <td>-118.461874</td>\n      <td>3728.0</td>\n      <td>Aircraft Parts and Auxiliary Equipment, NEC</td>\n      <td>NaN</td>\n      <td>NaN</td>\n      <td>NaN</td>\n      <td>NaN</td>\n      <td>NaN</td>\n      <td>NaN</td>\n      <td>NaN</td>\n      <td>NaN</td>\n      <td>NaN</td>\n      <td>NaN</td>\n      <td>1.0</td>\n      <td>0.025</td>\n      <td>3.0</td>\n      <td>C</td>\n      <td>X - Facility is not a POTW</td>\n      <td>Cooling water: Noncontact</td>\n      <td>NaN</td>\n      <td>NaN</td>\n      <td>NaN</td>\n      <td>NPDNONMUNIPRCS</td>\n      <td>NPDESWW</td>\n      <td>1.0</td>\n      <td>4B196400009</td>\n      <td>193879.0</td>\n      <td>Enrollee</td>\n      <td>Enrollee- Non Process WW to Surface Waters for...</td>\n      <td>NaN</td>\n      <td>R4-2004-0058</td>\n      <td>CAG994003</td>\n      <td>Minor</td>\n      <td>OTH</td>\n      <td>N - No</td>\n      <td>NaN</td>\n      <td>NaN</td>\n      <td>NaN</td>\n      <td>Historical</td>\n      <td>2010-04-27</td>\n      <td>1997-03-25</td>\n      <td>2004-08-31</td>\n      <td>2008-11-06</td>\n      <td>NaT</td>\n      <td>NaT</td>\n      <td>NaT</td>\n      <td>NaT</td>\n      <td>NaT</td>\n      <td>NaT</td>\n      <td>NaN</td>\n      <td>Y</td>\n      <td>I</td>\n      <td>15 - WDRs pending rescission</td>\n      <td>NaN</td>\n      <td>NaN</td>\n      <td>NaN</td>\n      <td>NaN</td>\n      <td>241189</td>\n      <td>Effluent</td>\n      <td>OEV</td>\n      <td>1Q05 effluent violation Cooling Tower #3 (01/1...</td>\n      <td>NaN</td>\n      <td>NaN</td>\n      <td>Violation</td>\n      <td>2005-01-19</td>\n      <td>2005-04-28 00:00:00</td>\n      <td>NPDNONMUNIPRCS</td>\n      <td>NPDESWW</td>\n      <td>N</td>\n      <td>N</td>\n      <td>N</td>\n      <td>N</td>\n      <td>NaN</td>\n      <td>NaN</td>\n      <td>N</td>\n      <td>Report</td>\n      <td>NaN</td>\n      <td>2</td>\n      <td>NaN</td>\n      <td>NaN</td>\n      <td>NaN</td>\n      <td>NaN</td>\n      <td>NaN</td>\n      <td>NaN</td>\n      <td>0</td>\n      <td>0</td>\n      <td>0</td>\n      <td>0</td>\n      <td>0</td>\n      <td>0</td>\n      <td>0</td>\n      <td>0</td>\n      <td>0</td>\n      <td>0</td>\n      <td>0</td>\n      <td>0</td>\n      <td>0</td>\n      <td>0</td>\n      <td>0</td>\n      <td>0</td>\n      <td>0</td>\n      <td>0</td>\n      <td>0</td>\n      <td>0</td>\n      <td>0</td>\n      <td>0</td>\n      <td>NaT</td>\n      <td>NaT</td>\n      <td>2008-11-06</td>\n      <td>1997-03-25</td>\n      <td>108</td>\n      <td>2008-11-06</td>\n      <td>155.0</td>\n      <td>(34.301867, -118.461874)</td>\n      <td>CA0056227</td>\n      <td>2008</td>\n    </tr>\n    <tr>\n      <th>14358</th>\n      <td>4</td>\n      <td>4</td>\n      <td>229285</td>\n      <td>Greg Avenue Hydroelectric Power Plant</td>\n      <td>Metropolitan Water District of Southern Califo...</td>\n      <td>Utility</td>\n      <td>Power Plant</td>\n      <td>All other facilities</td>\n      <td>Special District</td>\n      <td>1.0</td>\n      <td>7554  Greg Avenue</td>\n      <td>Sun Valley</td>\n      <td>91352</td>\n      <td>Los Angeles</td>\n      <td>34.208825</td>\n      <td>-118.351928</td>\n      <td>4941.0</td>\n      <td>Water Supply</td>\n      <td>NaN</td>\n      <td>NaN</td>\n      <td>NaN</td>\n      <td>NaN</td>\n      <td>NaN</td>\n      <td>NaN</td>\n      <td>NaN</td>\n      <td>NaN</td>\n      <td>NaN</td>\n      <td>NaN</td>\n      <td>1.0</td>\n      <td>0.100</td>\n      <td>3.0</td>\n      <td>C</td>\n      <td>X - Facility is not a POTW</td>\n      <td>Miscellaneous</td>\n      <td>NaN</td>\n      <td>NaN</td>\n      <td>NaN</td>\n      <td>NPDNONMUNIPRCS</td>\n      <td>NPDESWW</td>\n      <td>1.0</td>\n      <td>4B196400029</td>\n      <td>193898.0</td>\n      <td>Enrollee</td>\n      <td>Enrollee (CI 7588)-Nonprocess WW to Surface Wa...</td>\n      <td>Greg Avenue Hydroelectric Power Plant  Termina...</td>\n      <td>R4-2009-0047</td>\n      <td>CAG994003</td>\n      <td>Minor</td>\n      <td>OTH</td>\n      <td>N - No</td>\n      <td>NaN</td>\n      <td>NaN</td>\n      <td>NaN</td>\n      <td>Historical</td>\n      <td>2011-01-05</td>\n      <td>1998-06-05</td>\n      <td>2014-04-30</td>\n      <td>2010-12-16</td>\n      <td>NaT</td>\n      <td>NaT</td>\n      <td>NaT</td>\n      <td>NaT</td>\n      <td>NaT</td>\n      <td>NaT</td>\n      <td>NaN</td>\n      <td>Y</td>\n      <td>I</td>\n      <td>60 - Minimal or no treatment to meet limits Ca...</td>\n      <td>Kristie  Kao</td>\n      <td>1.0</td>\n      <td>NaN</td>\n      <td>NaN</td>\n      <td>409688</td>\n      <td>Effluent</td>\n      <td>CAT1</td>\n      <td>1Q06 effluent violation (02/02/06) sulfate DM ...</td>\n      <td>NaN</td>\n      <td>NaN</td>\n      <td>Violation</td>\n      <td>2006-02-02</td>\n      <td>2006-06-28 00:00:00</td>\n      <td>NPDNONMUNIPRCS</td>\n      <td>NPDESWW</td>\n      <td>Y</td>\n      <td>Y</td>\n      <td>N</td>\n      <td>N</td>\n      <td>NaN</td>\n      <td>Serious</td>\n      <td>NaN</td>\n      <td>Report</td>\n      <td>NaN</td>\n      <td>2</td>\n      <td>NaN</td>\n      <td>NaN</td>\n      <td>NaN</td>\n      <td>NaN</td>\n      <td>NaN</td>\n      <td>NaN</td>\n      <td>0</td>\n      <td>0</td>\n      <td>1</td>\n      <td>0</td>\n      <td>0</td>\n      <td>0</td>\n      <td>0</td>\n      <td>0</td>\n      <td>0</td>\n      <td>0</td>\n      <td>0</td>\n      <td>0</td>\n      <td>0</td>\n      <td>0</td>\n      <td>0</td>\n      <td>0</td>\n      <td>0</td>\n      <td>0</td>\n      <td>0</td>\n      <td>0</td>\n      <td>0</td>\n      <td>0</td>\n      <td>1995-09-18</td>\n      <td>2000-08-10</td>\n      <td>2010-12-16</td>\n      <td>1995-09-18</td>\n      <td>102</td>\n      <td>2010-12-16</td>\n      <td>163.0</td>\n      <td>(34.208825, -118.351928)</td>\n      <td>CA0055531</td>\n      <td>2010</td>\n    </tr>\n    <tr>\n      <th>14365</th>\n      <td>4</td>\n      <td>4</td>\n      <td>212325</td>\n      <td>C1 (Long Beach) Facility</td>\n      <td>The Boeing Company</td>\n      <td>Facility</td>\n      <td>NaN</td>\n      <td>Industrial</td>\n      <td>Privately-Owned Business</td>\n      <td>1.0</td>\n      <td>3855  Lakewood Boulevard</td>\n      <td>Long Beach</td>\n      <td>90846</td>\n      <td>Los Angeles</td>\n      <td>33.833330</td>\n      <td>-118.141670</td>\n      <td>3721.0</td>\n      <td>Aircraft</td>\n      <td>NaN</td>\n      <td>NaN</td>\n      <td>NaN</td>\n      <td>NaN</td>\n      <td>NaN</td>\n      <td>NaN</td>\n      <td>NaN</td>\n      <td>NaN</td>\n      <td>NaN</td>\n      <td>NaN</td>\n      <td>1.0</td>\n      <td>0.455</td>\n      <td>3.0</td>\n      <td>C</td>\n      <td>X - Facility is not a POTW</td>\n      <td>Cooling water: Contact</td>\n      <td>Stormwater runoff</td>\n      <td>NaN</td>\n      <td>NaN</td>\n      <td>NPDNONMUNIPRCS</td>\n      <td>NPDESWW</td>\n      <td>1.0</td>\n      <td>4B196400063</td>\n      <td>193929.0</td>\n      <td>Enrollee</td>\n      <td>Enrollee - The Boeing Company, C1 (Long Beach)...</td>\n      <td>NaN</td>\n      <td>R4-2004-0058</td>\n      <td>CAG994003</td>\n      <td>Minor</td>\n      <td>OTH</td>\n      <td>N - No</td>\n      <td>NaN</td>\n      <td>NaN</td>\n      <td>NaN</td>\n      <td>Historical</td>\n      <td>2016-06-08</td>\n      <td>1999-10-27</td>\n      <td>2005-01-23</td>\n      <td>2006-08-09</td>\n      <td>NaT</td>\n      <td>NaT</td>\n      <td>NaT</td>\n      <td>NaT</td>\n      <td>NaT</td>\n      <td>NaT</td>\n      <td>NaN</td>\n      <td>Y</td>\n      <td>I</td>\n      <td>NaN</td>\n      <td>NaN</td>\n      <td>NaN</td>\n      <td>NaN</td>\n      <td>NaN</td>\n      <td>204190</td>\n      <td>Effluent</td>\n      <td>CAT1</td>\n      <td>1Q00 effluent violation:  BOD daily maximum.</td>\n      <td>NaN</td>\n      <td>NaN</td>\n      <td>Violation</td>\n      <td>2000-02-15</td>\n      <td>2002-04-24 00:00:00</td>\n      <td>NPDNONMUNIPRCS</td>\n      <td>NPDESWW</td>\n      <td>Y</td>\n      <td>Y</td>\n      <td>N</td>\n      <td>N</td>\n      <td>NaN</td>\n      <td>NaN</td>\n      <td>N</td>\n      <td>Report</td>\n      <td>NaN</td>\n      <td>2</td>\n      <td>NaN</td>\n      <td>NaN</td>\n      <td>NaN</td>\n      <td>NaN</td>\n      <td>NaN</td>\n      <td>NaN</td>\n      <td>0</td>\n      <td>0</td>\n      <td>1</td>\n      <td>0</td>\n      <td>0</td>\n      <td>0</td>\n      <td>0</td>\n      <td>0</td>\n      <td>1</td>\n      <td>0</td>\n      <td>0</td>\n      <td>0</td>\n      <td>0</td>\n      <td>0</td>\n      <td>0</td>\n      <td>0</td>\n      <td>0</td>\n      <td>0</td>\n      <td>0</td>\n      <td>0</td>\n      <td>0</td>\n      <td>0</td>\n      <td>1978-01-23</td>\n      <td>2000-10-10</td>\n      <td>2006-08-09</td>\n      <td>1978-01-23</td>\n      <td>32</td>\n      <td>2006-08-09</td>\n      <td>146.0</td>\n      <td>(33.83333, -118.14167)</td>\n      <td>CA0054011</td>\n      <td>2006</td>\n    </tr>\n    <tr>\n      <th>15701</th>\n      <td>4</td>\n      <td>4</td>\n      <td>212131</td>\n      <td>Burbank Trunk Line</td>\n      <td>Los Angeles City DWP</td>\n      <td>Facility</td>\n      <td>NaN</td>\n      <td>All other facilities</td>\n      <td>City Agency</td>\n      <td>1.0</td>\n      <td>Magnolia &amp; Burbank</td>\n      <td>Burbank</td>\n      <td>91316</td>\n      <td>Los Angeles</td>\n      <td>34.165000</td>\n      <td>-118.487220</td>\n      <td>4941.0</td>\n      <td>Water Supply</td>\n      <td>NaN</td>\n      <td>NaN</td>\n      <td>NaN</td>\n      <td>NaN</td>\n      <td>NaN</td>\n      <td>NaN</td>\n      <td>NaN</td>\n      <td>NaN</td>\n      <td>NaN</td>\n      <td>NaN</td>\n      <td>1.0</td>\n      <td>0.276</td>\n      <td>3.0</td>\n      <td>C</td>\n      <td>N - POTW does not have EPA approved pretreatme...</td>\n      <td>Contaminated ground water</td>\n      <td>NaN</td>\n      <td>NaN</td>\n      <td>NaN</td>\n      <td>NPDNONMUNIPRCS</td>\n      <td>NPDESWW</td>\n      <td>1.0</td>\n      <td>4B196300131</td>\n      <td>193842.0</td>\n      <td>Enrollee</td>\n      <td>Enrollee City of LADWP, Burbank Trunk Line</td>\n      <td>NaN</td>\n      <td>R4-2004-0058</td>\n      <td>CAG994003</td>\n      <td>NaN</td>\n      <td>NaN</td>\n      <td>N - No</td>\n      <td>NaN</td>\n      <td>NaN</td>\n      <td>NaN</td>\n      <td>Historical</td>\n      <td>2013-09-10</td>\n      <td>2001-04-02</td>\n      <td>2009-04-01</td>\n      <td>2007-10-02</td>\n      <td>NaT</td>\n      <td>NaT</td>\n      <td>NaT</td>\n      <td>NaT</td>\n      <td>NaT</td>\n      <td>NaT</td>\n      <td>NaN</td>\n      <td>Y</td>\n      <td>I</td>\n      <td>61 - Require treatment to meet non priority li...</td>\n      <td>NaN</td>\n      <td>NaN</td>\n      <td>NaN</td>\n      <td>NaN</td>\n      <td>265867</td>\n      <td>Effluent</td>\n      <td>CAT2</td>\n      <td>1Q04 effluent violation (2/27/04):  Carbon tet...</td>\n      <td>Discharger believes the high concentration of ...</td>\n      <td>NaN</td>\n      <td>Violation</td>\n      <td>2004-02-27</td>\n      <td>2004-05-20 00:00:00</td>\n      <td>NPDNONMUNIPRCS</td>\n      <td>NPDESWW</td>\n      <td>Y</td>\n      <td>Y</td>\n      <td>N</td>\n      <td>N</td>\n      <td>NaN</td>\n      <td>NaN</td>\n      <td>N</td>\n      <td>Report</td>\n      <td>NaN</td>\n      <td>2</td>\n      <td>NaN</td>\n      <td>NaN</td>\n      <td>NaN</td>\n      <td>NaN</td>\n      <td>NaN</td>\n      <td>NaN</td>\n      <td>0</td>\n      <td>0</td>\n      <td>0</td>\n      <td>0</td>\n      <td>0</td>\n      <td>0</td>\n      <td>0</td>\n      <td>0</td>\n      <td>0</td>\n      <td>0</td>\n      <td>0</td>\n      <td>0</td>\n      <td>0</td>\n      <td>0</td>\n      <td>0</td>\n      <td>0</td>\n      <td>0</td>\n      <td>0</td>\n      <td>0</td>\n      <td>0</td>\n      <td>0</td>\n      <td>0</td>\n      <td>NaT</td>\n      <td>NaT</td>\n      <td>2007-10-02</td>\n      <td>2001-04-02</td>\n      <td>125</td>\n      <td>2007-10-02</td>\n      <td>151.0</td>\n      <td>(34.165, -118.48722)</td>\n      <td>CA0056227</td>\n      <td>2007</td>\n    </tr>\n    <tr>\n      <th>16332</th>\n      <td>4</td>\n      <td>4</td>\n      <td>256069</td>\n      <td>Massinger Plant</td>\n      <td>Golden State Water Company - San Dimas</td>\n      <td>Facility</td>\n      <td>NaN</td>\n      <td>All other facilities</td>\n      <td>Privately-Owned Business</td>\n      <td>1.0</td>\n      <td>11502  Massinger Street</td>\n      <td>Lakewood</td>\n      <td>90715</td>\n      <td>Los Angeles</td>\n      <td>33.838202</td>\n      <td>-118.086287</td>\n      <td>NaN</td>\n      <td>NaN</td>\n      <td>NaN</td>\n      <td>NaN</td>\n      <td>NaN</td>\n      <td>NaN</td>\n      <td>NaN</td>\n      <td>NaN</td>\n      <td>NaN</td>\n      <td>NaN</td>\n      <td>NaN</td>\n      <td>NaN</td>\n      <td>1.0</td>\n      <td>0.022</td>\n      <td>NaN</td>\n      <td>NaN</td>\n      <td>X - Facility is not a POTW</td>\n      <td>NaN</td>\n      <td>NaN</td>\n      <td>NaN</td>\n      <td>NaN</td>\n      <td>NPDNONMUNIPRCS</td>\n      <td>NPDESWW</td>\n      <td>1.0</td>\n      <td>4B198100004</td>\n      <td>152434.0</td>\n      <td>Enrollee</td>\n      <td>Enrollee-(CI 8900) Golden State Water Company</td>\n      <td>Massinger Plant Backwash  Termination requeste...</td>\n      <td>R4-2009-0047</td>\n      <td>CAG994003</td>\n      <td>Minor</td>\n      <td>OTH</td>\n      <td>N - No</td>\n      <td>NaN</td>\n      <td>NaN</td>\n      <td>4800.0</td>\n      <td>Historical</td>\n      <td>2010-04-19</td>\n      <td>2005-06-06</td>\n      <td>2014-04-30</td>\n      <td>2010-04-13</td>\n      <td>NaT</td>\n      <td>NaT</td>\n      <td>NaT</td>\n      <td>NaT</td>\n      <td>NaT</td>\n      <td>NaT</td>\n      <td>NaN</td>\n      <td>Y</td>\n      <td>I</td>\n      <td>62 - Treatment system to meet priority polluta...</td>\n      <td>Russ Colby</td>\n      <td>1.0</td>\n      <td>NaN</td>\n      <td>NaN</td>\n      <td>592418</td>\n      <td>Effluent</td>\n      <td>CAT1</td>\n      <td>3Q06 effluent violation (8/31/06): BOD monthly...</td>\n      <td>NaN</td>\n      <td>NaN</td>\n      <td>Violation</td>\n      <td>2006-08-31</td>\n      <td>2006-12-27 00:00:00</td>\n      <td>NPDNONMUNIPRCS</td>\n      <td>NPDESWW</td>\n      <td>Y</td>\n      <td>Y</td>\n      <td>N</td>\n      <td>N</td>\n      <td>NaN</td>\n      <td>Serious</td>\n      <td>NaN</td>\n      <td>Report</td>\n      <td>NaN</td>\n      <td>2</td>\n      <td>NaN</td>\n      <td>NaN</td>\n      <td>NaN</td>\n      <td>NaN</td>\n      <td>NaN</td>\n      <td>NaN</td>\n      <td>0</td>\n      <td>0</td>\n      <td>1</td>\n      <td>0</td>\n      <td>0</td>\n      <td>0</td>\n      <td>0</td>\n      <td>0</td>\n      <td>0</td>\n      <td>0</td>\n      <td>0</td>\n      <td>0</td>\n      <td>0</td>\n      <td>0</td>\n      <td>0</td>\n      <td>0</td>\n      <td>0</td>\n      <td>0</td>\n      <td>0</td>\n      <td>0</td>\n      <td>0</td>\n      <td>0</td>\n      <td>NaT</td>\n      <td>NaT</td>\n      <td>2010-04-13</td>\n      <td>2005-06-06</td>\n      <td>141</td>\n      <td>2010-04-13</td>\n      <td>161.0</td>\n      <td>(33.838202, -118.086287)</td>\n      <td>CA0054119</td>\n      <td>2010</td>\n    </tr>\n    <tr>\n      <th>16512</th>\n      <td>4</td>\n      <td>4</td>\n      <td>268714</td>\n      <td>Truro Fe &amp; Mn Filtration Plant</td>\n      <td>Golden State Water Company - San Dimas</td>\n      <td>Facility</td>\n      <td>NaN</td>\n      <td>Industrial</td>\n      <td>Privately-Owned Business</td>\n      <td>1.0</td>\n      <td>11305  Truro</td>\n      <td>Inglewood</td>\n      <td>90304</td>\n      <td>Los Angeles</td>\n      <td>33.931604</td>\n      <td>-118.357991</td>\n      <td>4941.0</td>\n      <td>Water Supply</td>\n      <td>NaN</td>\n      <td>NaN</td>\n      <td>NaN</td>\n      <td>NaN</td>\n      <td>NaN</td>\n      <td>NaN</td>\n      <td>NaN</td>\n      <td>NaN</td>\n      <td>NaN</td>\n      <td>NaN</td>\n      <td>1.0</td>\n      <td>0.060</td>\n      <td>3.0</td>\n      <td>C</td>\n      <td>X - Facility is not a POTW</td>\n      <td>Filter backwash brine waters</td>\n      <td>NaN</td>\n      <td>NaN</td>\n      <td>NaN</td>\n      <td>NPDNONMUNIPRCS</td>\n      <td>NPDESWW</td>\n      <td>1.0</td>\n      <td>4B196400045</td>\n      <td>193911.0</td>\n      <td>Enrollee</td>\n      <td>4B196400045</td>\n      <td>NaN</td>\n      <td>NaN</td>\n      <td>CAG994003</td>\n      <td>Minor</td>\n      <td>OTH</td>\n      <td>N - No</td>\n      <td>NaN</td>\n      <td>NaN</td>\n      <td>400.0</td>\n      <td>Historical</td>\n      <td>2007-12-18</td>\n      <td>1999-06-04</td>\n      <td>2009-06-03</td>\n      <td>2007-11-01</td>\n      <td>NaT</td>\n      <td>NaT</td>\n      <td>NaT</td>\n      <td>NaT</td>\n      <td>NaT</td>\n      <td>NaT</td>\n      <td>NaN</td>\n      <td>Y</td>\n      <td>I</td>\n      <td>15 - WDRs pending rescission</td>\n      <td>Namiraj  Jain</td>\n      <td>1.0</td>\n      <td>NaN</td>\n      <td>NaN</td>\n      <td>239869</td>\n      <td>Effluent</td>\n      <td>OEV</td>\n      <td>1Q03 effluent violation: (3/31/03):  Settleabl...</td>\n      <td>This is a preliminary determination &amp; has not ...</td>\n      <td>NaN</td>\n      <td>Violation</td>\n      <td>2003-03-31</td>\n      <td>2003-06-19 00:00:00</td>\n      <td>NPDNONMUNIPRCS</td>\n      <td>NPDESWW</td>\n      <td>N</td>\n      <td>N</td>\n      <td>N</td>\n      <td>N</td>\n      <td>NaN</td>\n      <td>NaN</td>\n      <td>N</td>\n      <td>Report</td>\n      <td>NaN</td>\n      <td>2</td>\n      <td>NaN</td>\n      <td>NaN</td>\n      <td>NaN</td>\n      <td>NaN</td>\n      <td>NaN</td>\n      <td>NaN</td>\n      <td>0</td>\n      <td>0</td>\n      <td>0</td>\n      <td>0</td>\n      <td>0</td>\n      <td>0</td>\n      <td>0</td>\n      <td>0</td>\n      <td>0</td>\n      <td>0</td>\n      <td>0</td>\n      <td>0</td>\n      <td>0</td>\n      <td>0</td>\n      <td>0</td>\n      <td>0</td>\n      <td>0</td>\n      <td>0</td>\n      <td>0</td>\n      <td>0</td>\n      <td>0</td>\n      <td>0</td>\n      <td>NaT</td>\n      <td>NaT</td>\n      <td>2007-11-01</td>\n      <td>1999-06-04</td>\n      <td>117</td>\n      <td>2007-11-01</td>\n      <td>151.0</td>\n      <td>(33.931604, -118.357991)</td>\n      <td>CA0109991</td>\n      <td>2007</td>\n    </tr>\n  </tbody>\n</table>\n</div>"
     },
     "execution_count": 58,
     "metadata": {},
     "output_type": "execute_result"
    }
   ],
   "source": [
    "group_b[group_b['NPDES# CA#']=='CAG994003'].drop_duplicates('FACILITY_ID')"
   ],
   "metadata": {
    "collapsed": false
   }
  },
  {
   "cell_type": "markdown",
   "source": [
    "Let's map facilities that terminated their permits:"
   ],
   "metadata": {
    "collapsed": false
   }
  },
  {
   "cell_type": "code",
   "execution_count": 22,
   "metadata": {},
   "outputs": [
    {
     "data": {
      "text/plain": "Map(center=[34.0566005, -118.286771], controls=(ZoomControl(options=['position', 'zoom_in_text', 'zoom_in_titl…",
      "application/vnd.jupyter.widget-view+json": {
       "version_major": 2,
       "version_minor": 0,
       "model_id": "4d7ff01e8f6a4b77b1eaf50d8621f106"
      }
     },
     "execution_count": 22,
     "metadata": {},
     "output_type": "execute_result"
    }
   ],
   "source": [
    "import ipyleaflet as ip\n",
    "m = ip.Map(\n",
    "    basemap=ip.basemaps.Esri.WorldImagery,\n",
    "    center=[group_b.drop_duplicates('FACILITY_ID')['PLACE LATITUDE'].median(),\n",
    "            group_b.drop_duplicates('FACILITY_ID')['PLACE LONGITUDE'].median()],\n",
    "    zoom=10\n",
    "    )\n",
    "for i in range(0, len(group_b.drop_duplicates('FACILITY_ID'))):\n",
    "    marker = ip.Marker(location=([group_b.drop_duplicates('FACILITY_ID')['PLACE LATITUDE'].iloc[i], group_b.drop_duplicates('FACILITY_ID')['PLACE LONGITUDE'].iloc[i]]), draggable=False)\n",
    "    termination_year = group_b.drop_duplicates('FACILITY_ID')['TERMINATION DATE'].dt.year.iloc[i]\n",
    "    marker.icon = ip.AwesomeIcon(name='circle', marker_color=['red', 'green', 'blue', 'purple'][termination_year % 4])\n",
    "    marker.title = group_b.drop_duplicates('FACILITY_ID')['FACILITY NAME'].iloc[i]\n",
    "    m.add_layer(marker);\n",
    "m"
   ]
  },
  {
   "cell_type": "markdown",
   "metadata": {},
   "source": [
    "What does the map of non-droupout facilities look like in comparison?"
   ]
  },
  {
   "cell_type": "code",
   "execution_count": 23,
   "metadata": {},
   "outputs": [
    {
     "data": {
      "text/plain": "Map(center=[34.046462, -118.32694], controls=(ZoomControl(options=['position', 'zoom_in_text', 'zoom_in_title'…",
      "application/vnd.jupyter.widget-view+json": {
       "version_major": 2,
       "version_minor": 0,
       "model_id": "39c41b32dc5f46a0b311ca6215cbb117"
      }
     },
     "execution_count": 23,
     "metadata": {},
     "output_type": "execute_result"
    }
   ],
   "source": [
    "m2 = ip.Map(\n",
    "    basemap=ip.basemaps.Esri.WorldImagery,\n",
    "    center=[group_a.drop_duplicates('FACILITY_ID')['PLACE LATITUDE'].median(),\n",
    "            group_a.drop_duplicates('FACILITY_ID')['PLACE LONGITUDE'].median()],\n",
    "    zoom=10\n",
    "    )\n",
    "for i in range(0, len(group_b.drop_duplicates('FACILITY_ID'))):\n",
    "    marker = ip.Marker(location=([group_a.drop_duplicates('FACILITY_ID')['PLACE LATITUDE'].iloc[i], group_a.drop_duplicates('FACILITY_ID')['PLACE LONGITUDE'].iloc[i]]), draggable=False)\n",
    "    marker.title = group_a.drop_duplicates('FACILITY_ID')['FACILITY NAME'].iloc[i]\n",
    "    m2.add_layer(marker);\n",
    "m2"
   ]
  },
  {
   "cell_type": "markdown",
   "metadata": {},
   "source": [
    "Let's find the nearest POTW to each facility that terminated its permit:"
   ]
  },
  {
   "cell_type": "code",
   "execution_count": 24,
   "metadata": {},
   "outputs": [],
   "source": [
    "facilities_merged = facilities.merge(permit_data, on=['npdes_permit_id', 'permit_state'], how='outer').merge(sic_codes, on='npdes_permit_id', how='outer')\n",
    "del facilities\n",
    "\n",
    "facilities_merged['sic_category'] = facilities_merged['sic_code'].apply(get_sic_category)\n",
    "\n",
    "# Detect facilities which may not be categorized as WWTPs by ICIS-NPDES but likely are in reality\n",
    "facilities_merged['likely_wwtp'] = facilities_merged['facility_name'].apply(lambda x: detect_wwtp_name(x))"
   ]
  },
  {
   "cell_type": "code",
   "execution_count": 25,
   "metadata": {},
   "outputs": [],
   "source": [
    "# Retain only POTWs\n",
    "POTWs = facilities_merged[(facilities_merged['facility_type_indicator'] == 'POTW')]\n",
    "# # Optional: retain only POTWs in Ventura/LA county\n",
    "# POTWs = POTWs[POTWs['county_code'].apply(lambda x: x in ['CA111', 'CA037'])]"
   ]
  },
  {
   "cell_type": "code",
   "execution_count": 26,
   "metadata": {},
   "outputs": [
    {
     "data": {
      "text/plain": "335"
     },
     "execution_count": 26,
     "metadata": {},
     "output_type": "execute_result"
    }
   ],
   "source": [
    "len(POTWs)"
   ]
  },
  {
   "cell_type": "markdown",
   "metadata": {},
   "source": [
    "How does this list of likely WWTPs map to our list of WWTPs in region 4 from the SWRCB's WWTP contact sheet (https://www.waterboards.ca.gov/water_issues/programs/npdes/docs/wwtpcontactinfo.xlsx) ?"
   ]
  },
  {
   "cell_type": "code",
   "execution_count": 27,
   "metadata": {},
   "outputs": [],
   "source": [
    "POTWs['in_ICIS_list'] = True\n",
    "SWRCB_wwtp_contact_list = pd.DataFrame(data = {'npdes_permit_id':['CA0056014','CA0060577','CA0109991','CA0061191','CA0055531','CA0053953','CA0056227','CA0064556','CA0063401','CA0054011','CA0054119','CA0110175','CA0054372','CA0053619','CA0054216','CA0064068','CA0054313','CA0053716','CA0053856','CA0053911','CA0059099','CA0064246','CA0063274','CA0061794','CA0053597','CA0053961','CA0054097','CA0059501','CA0055221','CA0056294','CA0053651']})\n",
    "SWRCB_wwtp_contact_list['in_contact_list'] = True"
   ]
  },
  {
   "cell_type": "code",
   "execution_count": 28,
   "metadata": {},
   "outputs": [],
   "source": [
    "POTWs = POTWs.merge(SWRCB_wwtp_contact_list, on='npdes_permit_id', how='outer')"
   ]
  },
  {
   "cell_type": "markdown",
   "metadata": {},
   "source": [
    "How do these lists map to the list of Wastewater Treatment Facilities in Region 4 from CIWQS's Regulated Facility Report (https://ciwqs.waterboards.ca.gov/ciwqs/readOnly/CiwqsReportServlet?reportID=6148270&inCommand=drilldown&reportName=RegulatedFacilityDetail&place=4)?"
   ]
  },
  {
   "cell_type": "code",
   "execution_count": 29,
   "metadata": {},
   "outputs": [],
   "source": [
    "POTW_from_regulated_facility_report = pd.read_csv('/Users/rtreves/Documents/RegLab/python_projects/ca_mmp/policy_eval/wwtps_from_regulated_facility_report.csv').rename(columns={'NPDES No.': 'npdes_permit_id'})\n",
    "POTW_from_regulated_facility_report['in_RFR_list'] = True\n",
    "POTWs = POTWs.merge(POTW_from_regulated_facility_report[['npdes_permit_id', 'Facility Name', 'Latitude', 'Longitude', 'in_RFR_list']], on='npdes_permit_id', how='outer')"
   ]
  },
  {
   "cell_type": "code",
   "execution_count": 30,
   "metadata": {},
   "outputs": [],
   "source": [
    "POTWs['in_contact_list'].fillna(False, inplace=True)\n",
    "POTWs['in_RFR_list'].fillna(False, inplace=True)\n",
    "POTWs['in_ICIS_list'].fillna(False, inplace=True)"
   ]
  },
  {
   "cell_type": "code",
   "execution_count": 31,
   "metadata": {},
   "outputs": [
    {
     "data": {
      "text/plain": "                                           0\nin_ICIS_list in_contact_list in_RFR_list    \nTrue         True            False        13\n                             True         11\n             False           False         5\n                             True          1",
      "text/html": "<div>\n<style scoped>\n    .dataframe tbody tr th:only-of-type {\n        vertical-align: middle;\n    }\n\n    .dataframe tbody tr th {\n        vertical-align: top;\n    }\n\n    .dataframe thead th {\n        text-align: right;\n    }\n</style>\n<table border=\"1\" class=\"dataframe\">\n  <thead>\n    <tr style=\"text-align: right;\">\n      <th></th>\n      <th></th>\n      <th></th>\n      <th>0</th>\n    </tr>\n    <tr>\n      <th>in_ICIS_list</th>\n      <th>in_contact_list</th>\n      <th>in_RFR_list</th>\n      <th></th>\n    </tr>\n  </thead>\n  <tbody>\n    <tr>\n      <th rowspan=\"4\" valign=\"top\">True</th>\n      <th rowspan=\"2\" valign=\"top\">True</th>\n      <th>False</th>\n      <td>13</td>\n    </tr>\n    <tr>\n      <th>True</th>\n      <td>11</td>\n    </tr>\n    <tr>\n      <th rowspan=\"2\" valign=\"top\">False</th>\n      <th>False</th>\n      <td>5</td>\n    </tr>\n    <tr>\n      <th>True</th>\n      <td>1</td>\n    </tr>\n  </tbody>\n</table>\n</div>"
     },
     "execution_count": 31,
     "metadata": {},
     "output_type": "execute_result"
    }
   ],
   "source": [
    "pd.DataFrame(POTWs[POTWs['county_code'].apply(lambda x: x in ['CA111', 'CA037'])][['in_ICIS_list', 'in_contact_list', 'in_RFR_list']].value_counts())"
   ]
  },
  {
   "cell_type": "markdown",
   "metadata": {},
   "source": [
    "Let's find the closest POTW to each facility, based on the ICIS-NPDES POTW list only:"
   ]
  },
  {
   "cell_type": "code",
   "execution_count": 32,
   "metadata": {},
   "outputs": [],
   "source": [
    "# Combine latitude and longitude into one tuple\n",
    "group_a['PLACE LATLONG'] = list(zip(group_a['PLACE LATITUDE'], group_a['PLACE LONGITUDE']))\n",
    "group_b['PLACE LATLONG'] = list(zip(group_b['PLACE LATITUDE'], group_b['PLACE LONGITUDE']))"
   ]
  },
  {
   "cell_type": "code",
   "execution_count": 33,
   "metadata": {},
   "outputs": [],
   "source": [
    "# Manual cleaning data entry errors:\n",
    "group_b['PLACE LATLONG'][17307] = (34.175286, -118.168962)\n",
    "group_b['PLACE LATLONG'][5756] = (34.425000, -118.538333)\n",
    "group_b['PLACE LATLONG'][14541] = (34.425000, -118.538333)\n",
    "group_b['PLACE LATLONG'][15171] = (34.078056, -118.335556)"
   ]
  },
  {
   "cell_type": "code",
   "execution_count": 34,
   "metadata": {},
   "outputs": [],
   "source": [
    "# group_a['closest_POTW'] = group_a['PLACE LATLONG'].apply(lambda x: get_closest_wwtp(x, facilities_merged))\n",
    "group_b['closest_POTW'] = group_b['PLACE LATLONG'].apply(lambda x: get_closest_potw(x, POTWs[POTWs['in_ICIS_list']]))"
   ]
  },
  {
   "cell_type": "markdown",
   "metadata": {},
   "source": [
    "Do facilities with the same closest WWTP terminate their permits around the same time?"
   ]
  },
  {
   "cell_type": "code",
   "execution_count": 35,
   "metadata": {},
   "outputs": [
    {
     "data": {
      "text/plain": "   closest_POTW  TERMINATION YEAR  FACILITY NAME\n0     CA0053619                 3              3\n1     CA0053651                 2              4\n2     CA0053716                 3              3\n3     CA0053813                 3              5\n4     CA0053856                 3              5\n5     CA0053911                 1              2\n6     CA0053953                 5             15\n7     CA0054011                 4              9\n8     CA0054097                 3              5\n9     CA0054119                 4              9\n10    CA0054224                 1              1\n11    CA0054313                 1              2\n12    CA0055531                 5              9\n13    CA0056227                 5              7\n14    CA0059021                 1              1\n15    CA0059501                 2              2\n16    CA0064670                 1              1\n17    CA0079987                 1              2\n18    CA0109991                 4              7",
      "text/html": "<div>\n<style scoped>\n    .dataframe tbody tr th:only-of-type {\n        vertical-align: middle;\n    }\n\n    .dataframe tbody tr th {\n        vertical-align: top;\n    }\n\n    .dataframe thead th {\n        text-align: right;\n    }\n</style>\n<table border=\"1\" class=\"dataframe\">\n  <thead>\n    <tr style=\"text-align: right;\">\n      <th></th>\n      <th>closest_POTW</th>\n      <th>TERMINATION YEAR</th>\n      <th>FACILITY NAME</th>\n    </tr>\n  </thead>\n  <tbody>\n    <tr>\n      <th>0</th>\n      <td>CA0053619</td>\n      <td>3</td>\n      <td>3</td>\n    </tr>\n    <tr>\n      <th>1</th>\n      <td>CA0053651</td>\n      <td>2</td>\n      <td>4</td>\n    </tr>\n    <tr>\n      <th>2</th>\n      <td>CA0053716</td>\n      <td>3</td>\n      <td>3</td>\n    </tr>\n    <tr>\n      <th>3</th>\n      <td>CA0053813</td>\n      <td>3</td>\n      <td>5</td>\n    </tr>\n    <tr>\n      <th>4</th>\n      <td>CA0053856</td>\n      <td>3</td>\n      <td>5</td>\n    </tr>\n    <tr>\n      <th>5</th>\n      <td>CA0053911</td>\n      <td>1</td>\n      <td>2</td>\n    </tr>\n    <tr>\n      <th>6</th>\n      <td>CA0053953</td>\n      <td>5</td>\n      <td>15</td>\n    </tr>\n    <tr>\n      <th>7</th>\n      <td>CA0054011</td>\n      <td>4</td>\n      <td>9</td>\n    </tr>\n    <tr>\n      <th>8</th>\n      <td>CA0054097</td>\n      <td>3</td>\n      <td>5</td>\n    </tr>\n    <tr>\n      <th>9</th>\n      <td>CA0054119</td>\n      <td>4</td>\n      <td>9</td>\n    </tr>\n    <tr>\n      <th>10</th>\n      <td>CA0054224</td>\n      <td>1</td>\n      <td>1</td>\n    </tr>\n    <tr>\n      <th>11</th>\n      <td>CA0054313</td>\n      <td>1</td>\n      <td>2</td>\n    </tr>\n    <tr>\n      <th>12</th>\n      <td>CA0055531</td>\n      <td>5</td>\n      <td>9</td>\n    </tr>\n    <tr>\n      <th>13</th>\n      <td>CA0056227</td>\n      <td>5</td>\n      <td>7</td>\n    </tr>\n    <tr>\n      <th>14</th>\n      <td>CA0059021</td>\n      <td>1</td>\n      <td>1</td>\n    </tr>\n    <tr>\n      <th>15</th>\n      <td>CA0059501</td>\n      <td>2</td>\n      <td>2</td>\n    </tr>\n    <tr>\n      <th>16</th>\n      <td>CA0064670</td>\n      <td>1</td>\n      <td>1</td>\n    </tr>\n    <tr>\n      <th>17</th>\n      <td>CA0079987</td>\n      <td>1</td>\n      <td>2</td>\n    </tr>\n    <tr>\n      <th>18</th>\n      <td>CA0109991</td>\n      <td>4</td>\n      <td>7</td>\n    </tr>\n  </tbody>\n</table>\n</div>"
     },
     "execution_count": 35,
     "metadata": {},
     "output_type": "execute_result"
    }
   ],
   "source": [
    "group_b['TERMINATION YEAR'] = group_b['TERMINATION DATE'].dt.year\n",
    "wwtp_grouped = group_b.groupby('closest_POTW', as_index=False).nunique()[['closest_POTW', 'TERMINATION YEAR', 'FACILITY NAME']]\n",
    "wwtp_grouped"
   ]
  },
  {
   "cell_type": "code",
   "execution_count": 36,
   "metadata": {},
   "outputs": [
    {
     "ename": "KeyError",
     "evalue": "\"['closest_POTW_latitude', 'closest_POTW_longitude', 'closest_POTW_latlong'] not in index\"",
     "output_type": "error",
     "traceback": [
      "\u001B[0;31m---------------------------------------------------------------------------\u001B[0m",
      "\u001B[0;31mKeyError\u001B[0m                                  Traceback (most recent call last)",
      "Cell \u001B[0;32mIn [36], line 2\u001B[0m\n\u001B[1;32m      1\u001B[0m \u001B[38;5;66;03m# Save group_b geodata\u001B[39;00m\n\u001B[0;32m----> 2\u001B[0m \u001B[43mgroup_b\u001B[49m\u001B[43m[\u001B[49m\u001B[43m[\u001B[49m\u001B[38;5;124;43m'\u001B[39;49m\u001B[38;5;124;43mFACILITY_ID\u001B[39;49m\u001B[38;5;124;43m'\u001B[39;49m\u001B[43m,\u001B[49m\u001B[43m \u001B[49m\u001B[38;5;124;43m'\u001B[39;49m\u001B[38;5;124;43mPLACE LATITUDE\u001B[39;49m\u001B[38;5;124;43m'\u001B[39;49m\u001B[43m,\u001B[49m\u001B[43m \u001B[49m\u001B[38;5;124;43m'\u001B[39;49m\u001B[38;5;124;43mPLACE LONGITUDE\u001B[39;49m\u001B[38;5;124;43m'\u001B[39;49m\u001B[43m,\u001B[49m\u001B[43m \u001B[49m\u001B[38;5;124;43m'\u001B[39;49m\u001B[38;5;124;43mPLACE LATLONG\u001B[39;49m\u001B[38;5;124;43m'\u001B[39;49m\u001B[43m,\u001B[49m\u001B[43m \u001B[49m\u001B[38;5;124;43m'\u001B[39;49m\u001B[38;5;124;43mclosest_POTW_latitude\u001B[39;49m\u001B[38;5;124;43m'\u001B[39;49m\u001B[43m,\u001B[49m\u001B[43m \u001B[49m\u001B[38;5;124;43m'\u001B[39;49m\u001B[38;5;124;43mclosest_POTW_longitude\u001B[39;49m\u001B[38;5;124;43m'\u001B[39;49m\u001B[43m,\u001B[49m\u001B[43m \u001B[49m\u001B[38;5;124;43m'\u001B[39;49m\u001B[38;5;124;43mclosest_POTW_latlong\u001B[39;49m\u001B[38;5;124;43m'\u001B[39;49m\u001B[43m]\u001B[49m\u001B[43m]\u001B[49m\u001B[38;5;241m.\u001B[39mto_csv(\u001B[38;5;124m'\u001B[39m\u001B[38;5;124mgroup_b.csv\u001B[39m\u001B[38;5;124m'\u001B[39m)\n",
      "File \u001B[0;32m~/miniforge3/envs/py311/lib/python3.11/site-packages/pandas/core/frame.py:3810\u001B[0m, in \u001B[0;36mDataFrame.__getitem__\u001B[0;34m(self, key)\u001B[0m\n\u001B[1;32m   3808\u001B[0m     \u001B[38;5;28;01mif\u001B[39;00m is_iterator(key):\n\u001B[1;32m   3809\u001B[0m         key \u001B[38;5;241m=\u001B[39m \u001B[38;5;28mlist\u001B[39m(key)\n\u001B[0;32m-> 3810\u001B[0m     indexer \u001B[38;5;241m=\u001B[39m \u001B[38;5;28;43mself\u001B[39;49m\u001B[38;5;241;43m.\u001B[39;49m\u001B[43mcolumns\u001B[49m\u001B[38;5;241;43m.\u001B[39;49m\u001B[43m_get_indexer_strict\u001B[49m\u001B[43m(\u001B[49m\u001B[43mkey\u001B[49m\u001B[43m,\u001B[49m\u001B[43m \u001B[49m\u001B[38;5;124;43m\"\u001B[39;49m\u001B[38;5;124;43mcolumns\u001B[39;49m\u001B[38;5;124;43m\"\u001B[39;49m\u001B[43m)\u001B[49m[\u001B[38;5;241m1\u001B[39m]\n\u001B[1;32m   3812\u001B[0m \u001B[38;5;66;03m# take() does not accept boolean indexers\u001B[39;00m\n\u001B[1;32m   3813\u001B[0m \u001B[38;5;28;01mif\u001B[39;00m \u001B[38;5;28mgetattr\u001B[39m(indexer, \u001B[38;5;124m\"\u001B[39m\u001B[38;5;124mdtype\u001B[39m\u001B[38;5;124m\"\u001B[39m, \u001B[38;5;28;01mNone\u001B[39;00m) \u001B[38;5;241m==\u001B[39m \u001B[38;5;28mbool\u001B[39m:\n",
      "File \u001B[0;32m~/miniforge3/envs/py311/lib/python3.11/site-packages/pandas/core/indexes/base.py:6111\u001B[0m, in \u001B[0;36mIndex._get_indexer_strict\u001B[0;34m(self, key, axis_name)\u001B[0m\n\u001B[1;32m   6108\u001B[0m \u001B[38;5;28;01melse\u001B[39;00m:\n\u001B[1;32m   6109\u001B[0m     keyarr, indexer, new_indexer \u001B[38;5;241m=\u001B[39m \u001B[38;5;28mself\u001B[39m\u001B[38;5;241m.\u001B[39m_reindex_non_unique(keyarr)\n\u001B[0;32m-> 6111\u001B[0m \u001B[38;5;28;43mself\u001B[39;49m\u001B[38;5;241;43m.\u001B[39;49m\u001B[43m_raise_if_missing\u001B[49m\u001B[43m(\u001B[49m\u001B[43mkeyarr\u001B[49m\u001B[43m,\u001B[49m\u001B[43m \u001B[49m\u001B[43mindexer\u001B[49m\u001B[43m,\u001B[49m\u001B[43m \u001B[49m\u001B[43maxis_name\u001B[49m\u001B[43m)\u001B[49m\n\u001B[1;32m   6113\u001B[0m keyarr \u001B[38;5;241m=\u001B[39m \u001B[38;5;28mself\u001B[39m\u001B[38;5;241m.\u001B[39mtake(indexer)\n\u001B[1;32m   6114\u001B[0m \u001B[38;5;28;01mif\u001B[39;00m \u001B[38;5;28misinstance\u001B[39m(key, Index):\n\u001B[1;32m   6115\u001B[0m     \u001B[38;5;66;03m# GH 42790 - Preserve name from an Index\u001B[39;00m\n",
      "File \u001B[0;32m~/miniforge3/envs/py311/lib/python3.11/site-packages/pandas/core/indexes/base.py:6174\u001B[0m, in \u001B[0;36mIndex._raise_if_missing\u001B[0;34m(self, key, indexer, axis_name)\u001B[0m\n\u001B[1;32m   6171\u001B[0m     \u001B[38;5;28;01mraise\u001B[39;00m \u001B[38;5;167;01mKeyError\u001B[39;00m(\u001B[38;5;124mf\u001B[39m\u001B[38;5;124m\"\u001B[39m\u001B[38;5;124mNone of [\u001B[39m\u001B[38;5;132;01m{\u001B[39;00mkey\u001B[38;5;132;01m}\u001B[39;00m\u001B[38;5;124m] are in the [\u001B[39m\u001B[38;5;132;01m{\u001B[39;00maxis_name\u001B[38;5;132;01m}\u001B[39;00m\u001B[38;5;124m]\u001B[39m\u001B[38;5;124m\"\u001B[39m)\n\u001B[1;32m   6173\u001B[0m not_found \u001B[38;5;241m=\u001B[39m \u001B[38;5;28mlist\u001B[39m(ensure_index(key)[missing_mask\u001B[38;5;241m.\u001B[39mnonzero()[\u001B[38;5;241m0\u001B[39m]]\u001B[38;5;241m.\u001B[39munique())\n\u001B[0;32m-> 6174\u001B[0m \u001B[38;5;28;01mraise\u001B[39;00m \u001B[38;5;167;01mKeyError\u001B[39;00m(\u001B[38;5;124mf\u001B[39m\u001B[38;5;124m\"\u001B[39m\u001B[38;5;132;01m{\u001B[39;00mnot_found\u001B[38;5;132;01m}\u001B[39;00m\u001B[38;5;124m not in index\u001B[39m\u001B[38;5;124m\"\u001B[39m)\n",
      "\u001B[0;31mKeyError\u001B[0m: \"['closest_POTW_latitude', 'closest_POTW_longitude', 'closest_POTW_latlong'] not in index\""
     ]
    }
   ],
   "source": [
    "# Save group_b geodata\n",
    "group_b[['FACILITY_ID', 'PLACE LATITUDE', 'PLACE LONGITUDE', 'PLACE LATLONG', 'closest_POTW_latitude', 'closest_POTW_longitude', 'closest_POTW_latlong']].to_csv('group_b.csv')"
   ]
  },
  {
   "cell_type": "markdown",
   "metadata": {},
   "source": [
    "Unfortunately, overlaying the LA City sewersheds map with this data in ArcGIS online (https://arcg.is/1OeySa0) reveals that closest POTW based on euclidean distance is not the most accurate for matching facilities to POTWs. Using the sewersheds, we can assign facilities manually. Here, NA values are assigned to facilities that are closest to a POTW in the LA City service area, but not in a LA city sewershed."
   ]
  },
  {
   "cell_type": "code",
   "execution_count": null,
   "metadata": {},
   "outputs": [],
   "source": [
    "sewershed_matching = pd.DataFrame(data={'FACILITY_ID': ['273407','229285','216584','220088','260234','225801',\n",
    "                                                        '261149', '270822', '243177', '242194', '269780', '273405',\n",
    "                                                        '216599', '273599', '245135', '221439', '231825', '226298',\n",
    "                                                        '253472', '201355', '225925', '226170', '254054', '267467',\n",
    "                                                        '208478', '271445', '229130', '273372', '268840', '267290',\n",
    "                                                        '274353', '262164', '274352', '207724', '238149', '260743',\n",
    "                                                        '262221', '250384', '251305', '250804', '217058', '266958',\n",
    "                                                        '231758', '271483', '229012', '268714', '250017', '226271',\n",
    "                                                        '262247', '250523', '274403', '217490', '245218', '663217',\n",
    "                                                        '207966', '226543', '217323', '243558', '269697', '260969',\n",
    "                                                        '226291', '256068', '256069', '212325', '226504', '207671',\n",
    "                                                        '266921', '261873'],\n",
    "                                        'POTW_sewershed': ['CA0056227','CA0053953','CA0053856','CA0053856',\n",
    "                                                           'CA0053856','CA0053856', 'CA0109991','CA0109991',\n",
    "                                                           'CA0109991','CA0109991', 'CA0109991','CA0109991',\n",
    "                                                           'CA0109991','CA0109991','CA0109991','CA0109991',\n",
    "                                                           'CA0109991','CA0109991','CA0109991','CA0109991',\n",
    "                                                           'CA0109991','CA0109991', 'CA0109991','CA0109991',\n",
    "                                                           'CA0109991','CA0109991', 'CA0109991','CA0109991',\n",
    "                                                           'CA0109991','CA0109991', 'CA0109991','CA0109991',\n",
    "                                                           'CA0109991','CA0109991', 'CA0109991', 'CA0109991',\n",
    "                                                           'CA0109991', 'CA0053813', 'CA0053813', 'CA0053813',\n",
    "                                                           'CA0053813','CA0053813', 'CA0053813', 'CA0053813',\n",
    "                                                           'CA0053813', 'CA0053813', 'CA0053813', 'CA0053813',\n",
    "                                                           'CA0053813', 'CA0053813', 'CA0053813', 'CA0053813',\n",
    "                                                           'CA0053813', 'CA0053813', 'CA0053813', 'CA0053813',\n",
    "                                                           'CA0053813', 'CA0053813', 'CA0053813', 'CA0053813',\n",
    "                                                           'CA0053813', 'CA0053813', 'CA0053813', 'CA0053813',\n",
    "                                                           'CA0053813', 'CA0053813', 'CA0053813', 'CA0053813']})\n",
    "\n",
    "group_b = group_b.merge(sewershed_matching, on='FACILITY_ID', how='left')"
   ]
  },
  {
   "cell_type": "markdown",
   "metadata": {},
   "source": [
    "Let's map each facility, with a line to its matched POTW:"
   ]
  },
  {
   "cell_type": "code",
   "execution_count": null,
   "metadata": {},
   "outputs": [],
   "source": [
    "# Get lat/longs of closest POTW\n",
    "group_b = group_b.merge(POTWs[['npdes_permit_id', 'geocode_latitude', 'geocode_longitude']],\n",
    "                        left_on='POTW_sewershed', right_on='npdes_permit_id').rename(columns={\n",
    "    'geocode_latitude':'POTW_sewershed_latitude', 'geocode_longitude':'POTW_sewershed_longitude'\n",
    "})\n",
    "group_b['POTW_sewershed_latlong'] = list(zip(group_b['POTW_sewershed_latitude'], group_b['POTW_sewershed_longitude']))"
   ]
  },
  {
   "cell_type": "code",
   "execution_count": null,
   "metadata": {},
   "outputs": [],
   "source": [
    "to_plot = group_b.dropna(subset='POTW_sewershed')\n",
    "\n",
    "m3 = ip.Map(\n",
    "    basemap=ip.basemaps.Esri.WorldImagery,\n",
    "    center=[to_plot.drop_duplicates('FACILITY_ID')['PLACE LATITUDE'].median(),\n",
    "            to_plot.drop_duplicates('FACILITY_ID')['PLACE LONGITUDE'].median()],\n",
    "    zoom=10\n",
    "    )\n",
    "for i in range(0, len(to_plot.drop_duplicates('FACILITY_ID'))):\n",
    "    # Add marker for facility\n",
    "    place_marker = ip.Marker(location=(to_plot.drop_duplicates('FACILITY_ID')['PLACE LATLONG'].iloc[i]), draggable=False)\n",
    "    place_marker.icon = ip.AwesomeIcon(name='circle', marker_color='red')\n",
    "    place_marker.title = to_plot.drop_duplicates('FACILITY_ID')['FACILITY NAME'].iloc[i]\n",
    "    m3.add_layer(place_marker);\n",
    "\n",
    "    # Draw lines to matched wwtps\n",
    "    line = ip.Polyline(locations = [to_plot.drop_duplicates('FACILITY_ID')['PLACE LATLONG'].iloc[i],\n",
    "                                    to_plot.drop_duplicates('FACILITY_ID')['POTW_sewershed_latlong'].iloc[i]],\n",
    "                       color='blue', fill=False)\n",
    "    m3.add_layer(line);\n",
    "\n",
    "    # Draw marker at closest wwtp\n",
    "    wwtp_marker = ip.Marker(location=(to_plot.drop_duplicates('FACILITY_ID')['POTW_sewershed_latlong'].iloc[i]), draggable=False)\n",
    "    wwtp_marker.icon = ip.AwesomeIcon(name='tint', marker_color='blue')\n",
    "    wwtp_marker.title = to_plot.drop_duplicates('FACILITY_ID')['POTW_sewershed'].iloc[i]\n",
    "    m3.add_layer(wwtp_marker);\n",
    "m3"
   ]
  },
  {
   "cell_type": "markdown",
   "metadata": {},
   "source": [
    "What effluents are our dropout facilities discharging?"
   ]
  },
  {
   "cell_type": "code",
   "execution_count": null,
   "metadata": {},
   "outputs": [],
   "source": [
    "dmrs = pd.read_csv(ICIS_NPDES_data_path / 'CA_dmrs.csv', parse_dates=['monitoring_period_end_date'], date_parser=lambda x: pd.to_datetime(x, errors='coerce'))\n",
    "dropout_permit_ids = group_b['NPDES# CA#'].unique()\n",
    "dropout_dmrs = dmrs[dmrs['npdes_permit_id'].apply(lambda x: x in dropout_permit_ids)]"
   ]
  },
  {
   "cell_type": "code",
   "execution_count": null,
   "metadata": {},
   "outputs": [],
   "source": [
    "len(dropout_dmrs.drop_duplicates('npdes_permit_id'))"
   ]
  },
  {
   "cell_type": "markdown",
   "metadata": {},
   "source": [
    "Unfortunately, we only have DMR data for one of our dropout facilities. Cross-checking reveals the same missingness in CIWQS eSMR records as well."
   ]
  },
  {
   "cell_type": "markdown",
   "metadata": {},
   "source": [
    "Do we see an increase in NPDES exceedances in matched POTWs after dropout facilities terminate their permits?"
   ]
  },
  {
   "cell_type": "code",
   "execution_count": null,
   "metadata": {},
   "outputs": [],
   "source": [
    "# Find just dmrs from matched WWTPs\n",
    "matched_POTW_permit_ids = list(group_b['POTW_sewershed'].unique())\n",
    "matched_POTW_dmrs = dmrs[dmrs['npdes_permit_id'].apply(lambda x: x in matched_POTW_permit_ids)]\n",
    "del dmrs\n",
    "# Retain only instances where DMR value exceeds limit value\n",
    "matched_POTW_dmrs = matched_POTW_dmrs[matched_POTW_dmrs['dmr_value_standard_units'] > matched_POTW_dmrs['limit_value_standard_units']]"
   ]
  },
  {
   "cell_type": "code",
   "execution_count": null,
   "metadata": {},
   "outputs": [],
   "source": [
    "# Merge in exit date from nearby facilites\n",
    "matched_POTW_dmrs = matched_POTW_dmrs.merge(group_b[['FACILITY_ID', 'estimated_exit_date', 'POTW_sewershed']].drop_duplicates(), left_on='npdes_permit_id', right_on='POTW_sewershed')\n",
    "matched_POTW_dmrs.rename(columns={'FACILITY_ID': 'Matched dropout facility'}, inplace=True)"
   ]
  },
  {
   "cell_type": "code",
   "execution_count": null,
   "metadata": {},
   "outputs": [],
   "source": [
    "# Determine relative date of exceedance(s)\n",
    "matched_POTW_dmrs['1yrs_pre_exit'] = (matched_POTW_dmrs['estimated_exit_date'].dt.to_period('M').astype(int) > matched_POTW_dmrs['monitoring_period_end_date'].dt.to_period('M').astype(int)) & (matched_POTW_dmrs['estimated_exit_date'].dt.to_period('M').astype(int) < matched_POTW_dmrs['monitoring_period_end_date'].dt.to_period('M').astype(int) + 12)\n",
    "matched_POTW_dmrs['1yrs_post_exit'] = (matched_POTW_dmrs['estimated_exit_date'].dt.to_period('M').astype(int) < matched_POTW_dmrs['monitoring_period_end_date'].dt.to_period('M').astype(int)) & (matched_POTW_dmrs['estimated_exit_date'].dt.to_period('M').astype(int) > matched_POTW_dmrs['monitoring_period_end_date'].dt.to_period('M').astype(int) - 12)\n",
    "\n",
    "matched_POTW_dmrs['2yrs_pre_exit'] = (matched_POTW_dmrs['estimated_exit_date'].dt.to_period('M').astype(int) > matched_POTW_dmrs['monitoring_period_end_date'].dt.to_period('M').astype(int)) & (matched_POTW_dmrs['estimated_exit_date'].dt.to_period('M').astype(int) < matched_POTW_dmrs['monitoring_period_end_date'].dt.to_period('M').astype(int) + 24)\n",
    "matched_POTW_dmrs['2yrs_post_exit'] = (matched_POTW_dmrs['estimated_exit_date'].dt.to_period('M').astype(int) < matched_POTW_dmrs['monitoring_period_end_date'].dt.to_period('M').astype(int)) & (matched_POTW_dmrs['estimated_exit_date'].dt.to_period('M').astype(int) > matched_POTW_dmrs['monitoring_period_end_date'].dt.to_period('M').astype(int) - 24)"
   ]
  },
  {
   "cell_type": "code",
   "execution_count": null,
   "metadata": {},
   "outputs": [],
   "source": [
    "# Group by WWTP\n",
    "matched_POTW_dmrs_grouped = matched_POTW_dmrs.groupby(['npdes_permit_id', 'Matched dropout facility'], as_index=False).sum()[['npdes_permit_id', 'Matched dropout facility', '1yrs_pre_exit', '1yrs_post_exit', '2yrs_pre_exit', '2yrs_post_exit']]"
   ]
  },
  {
   "cell_type": "code",
   "execution_count": null,
   "metadata": {},
   "outputs": [],
   "source": [
    "(matched_POTW_dmrs_grouped['2yrs_post_exit'] > matched_POTW_dmrs_grouped['2yrs_pre_exit']).value_counts()"
   ]
  },
  {
   "cell_type": "code",
   "execution_count": null,
   "metadata": {},
   "outputs": [],
   "source": [
    "matched_POTW_dmrs_grouped['1yr_diff'] = matched_POTW_dmrs_grouped['1yrs_post_exit'] - matched_POTW_dmrs_grouped['1yrs_pre_exit']\n",
    "matched_POTW_dmrs_grouped['2yr_diff'] = matched_POTW_dmrs_grouped['2yrs_post_exit'] - matched_POTW_dmrs_grouped['2yrs_pre_exit']"
   ]
  },
  {
   "cell_type": "code",
   "execution_count": null,
   "metadata": {},
   "outputs": [],
   "source": [
    "matched_POTW_dmrs_grouped.groupby('npdes_permit_id', as_index=False).mean()[['npdes_permit_id', '1yr_diff', '2yr_diff']]"
   ]
  },
  {
   "cell_type": "code",
   "execution_count": null,
   "outputs": [],
   "source": [
    "matched_POTW_dmrs_grouped.groupby('npdes_permit_id', as_index=False).mean()[['npdes_permit_id', '1yrs_pre_exit', '1yrs_post_exit', '2yrs_pre_exit', '2yrs_post_exit']]"
   ],
   "metadata": {
    "collapsed": false
   }
  },
  {
   "cell_type": "markdown",
   "source": [
    "Do we see any changes in flow at the downstreatm POTW before/after the facilities drop out?"
   ],
   "metadata": {
    "collapsed": false
   }
  },
  {
   "cell_type": "code",
   "execution_count": null,
   "outputs": [],
   "source": [
    "flow_data = pd.read_csv(ICIS_NPDES_data_path / 'LA_potw_flow_data.csv',\n",
    "                        dtype={'perm_feature_nmbr': object},\n",
    "                        parse_dates=['monitoring_period_end_date'], date_parser=lambda x: pd.to_datetime(x, errors='coerce'))"
   ],
   "metadata": {
    "collapsed": false
   }
  },
  {
   "cell_type": "code",
   "execution_count": null,
   "outputs": [],
   "source": [
    "sns.lineplot(flow_data[(flow_data['statistical_base_code']=='MK') &\n",
    "                       (flow_data['npdes_permit_id']=='CA0053813') &\n",
    "                       (flow_data['monitoring_period_end_date'] > pd.to_datetime('2005-01-01')) &\n",
    "                       (flow_data['monitoring_period_end_date'] < pd.to_datetime('2011-01-01'))], x='monitoring_period_end_date', y='dmr_value_nmbr', hue='perm_feature_nmbr')\n",
    "plt.vlines(x=group_b[group_b['POTW_sewershed']=='CA0053813']['estimated_exit_date'], ymin=0, ymax=400, linestyle='--', color='silver')\n",
    "plt.legend(title='Outfall')\n",
    "plt.title('Joint Water Pollution Control Plant (CA0053813, Place ID 234156)')\n",
    "plt.ylabel('Million gallons / day, monthly average');\n",
    "plt.xlabel('');\n",
    "plt.savefig('JPCP.png', dpi=300)"
   ],
   "metadata": {
    "collapsed": false
   }
  },
  {
   "cell_type": "code",
   "execution_count": null,
   "outputs": [],
   "source": [
    "sns.lineplot(flow_data[(flow_data['statistical_base_code']=='MK') &\n",
    "                       (flow_data['npdes_permit_id']=='CA0053856') &\n",
    "                       (flow_data['monitoring_period_end_date'] > pd.to_datetime('2005-01-01')) &\n",
    "                       (flow_data['monitoring_period_end_date'] < pd.to_datetime('2011-01-01'))], x='monitoring_period_end_date', y='dmr_value_nmbr', hue='perm_feature_nmbr')\n",
    "plt.vlines(x=group_b[group_b['POTW_sewershed']=='CA0053856']['estimated_exit_date'], ymin=10, ymax=20, linestyle='--', color='silver');\n",
    "plt.legend(title='Outfall')\n",
    "plt.title('Terminal Island (CA0053856, Place ID 267130)')\n",
    "plt.ylabel('Million gallons / day, monthly average');\n",
    "plt.xlabel('');\n",
    "plt.savefig('Terminal.png', dpi=300)"
   ],
   "metadata": {
    "collapsed": false
   }
  },
  {
   "cell_type": "code",
   "execution_count": null,
   "outputs": [],
   "source": [
    "sns.lineplot(flow_data[(flow_data['statistical_base_code']=='MK') &\n",
    "                       (flow_data['npdes_permit_id']=='CA0053953') &\n",
    "                       (flow_data['monitoring_period_end_date'] > pd.to_datetime('2009-01-01')) &\n",
    "                       (flow_data['monitoring_period_end_date'] < pd.to_datetime('2013-01-01'))], x='monitoring_period_end_date', y='dmr_value_nmbr', hue='perm_feature_nmbr')\n",
    "plt.vlines(x=group_b[group_b['POTW_sewershed']=='CA0053953']['estimated_exit_date'], ymin=0, ymax=50, linestyle='--', color='silver');\n",
    "plt.legend(title='Outfall')\n",
    "plt.title('LA-Glendale WWRP (CA0053953, Place ID 235738)')\n",
    "plt.ylabel('Million gallons / day, monthly average');\n",
    "plt.xlabel('');\n",
    "plt.savefig('LA-Glendale.png', dpi=300)"
   ],
   "metadata": {
    "collapsed": false
   }
  },
  {
   "cell_type": "code",
   "execution_count": null,
   "outputs": [],
   "source": [
    "sns.lineplot(flow_data[(flow_data['statistical_base_code']=='MK') &\n",
    "                       (flow_data['npdes_permit_id']=='CA0056227') &\n",
    "                       (flow_data['monitoring_period_end_date'] > pd.to_datetime('2005-01-01')) &\n",
    "                       (flow_data['monitoring_period_end_date'] < pd.to_datetime('2011-01-01'))], x='monitoring_period_end_date', y='dmr_value_nmbr', hue='perm_feature_nmbr')\n",
    "plt.vlines(x=group_b[group_b['POTW_sewershed']=='CA0056227']['estimated_exit_date'], ymin=0, ymax=80, linestyle='--', color='silver');\n",
    "plt.legend(title='Outfall')\n",
    "plt.title('DCT WWRP (CA0056227, Place ID 267571)')\n",
    "plt.ylabel('Million gallons / day, monthly average');\n",
    "plt.xlabel('');\n",
    "plt.savefig('DCT.png', dpi=300)"
   ],
   "metadata": {
    "collapsed": false
   }
  },
  {
   "cell_type": "code",
   "execution_count": null,
   "outputs": [],
   "source": [
    "sns.lineplot(flow_data[(flow_data['statistical_base_code']=='MK') &\n",
    "                       (flow_data['npdes_permit_id']=='CA0109991') &\n",
    "                       (flow_data['monitoring_period_end_date'] > pd.to_datetime('2005-01-01')) &\n",
    "                       (flow_data['monitoring_period_end_date'] < pd.to_datetime('2011-01-01'))], x='monitoring_period_end_date', y='dmr_value_nmbr', hue='perm_feature_nmbr')\n",
    "plt.vlines(x=group_b[group_b['POTW_sewershed']=='CA0109991']['estimated_exit_date'], ymin=0, ymax=400, linestyle='--', color='silver');\n",
    "plt.legend(title='Outfall')\n",
    "plt.title('Hyperion WWTP (CA0109991, Place ID 232063')\n",
    "plt.ylabel('Million gallons / day, monthly average');\n",
    "plt.xlabel('');\n",
    "plt.savefig('Hyperion.png', dpi=300)"
   ],
   "metadata": {
    "collapsed": false
   }
  }
 ],
 "metadata": {
  "kernelspec": {
   "display_name": "Python 3 (ipykernel)",
   "language": "python",
   "name": "python3"
  },
  "language_info": {
   "codemirror_mode": {
    "name": "ipython",
    "version": 3
   },
   "file_extension": ".py",
   "mimetype": "text/x-python",
   "name": "python",
   "nbconvert_exporter": "python",
   "pygments_lexer": "ipython3",
   "version": "3.11.0"
  }
 },
 "nbformat": 4,
 "nbformat_minor": 1
}
