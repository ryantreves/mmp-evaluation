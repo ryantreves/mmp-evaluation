{
 "cells": [
  {
   "attachments": {},
   "cell_type": "markdown",
   "metadata": {},
   "source": [
    "# MMP Enforcement Data Exploration\n",
    "\n",
    "### What can we learn about the enforcement data in `enf_actions_export.csv`?\n",
    "\n",
    "<i> Maggie Hilderbran"
   ]
  },
  {
   "attachments": {},
   "cell_type": "markdown",
   "metadata": {},
   "source": [
    "**TO DO:**\n",
    "\n",
    "* "
   ]
  },
  {
   "cell_type": "code",
   "execution_count": 1,
   "metadata": {},
   "outputs": [],
   "source": [
    "import pandas as pd\n",
    "import matplotlib.pyplot as plt\n",
    "import warnings\n",
    "import yaml\n",
    "from pathlib import Path\n",
    "from IPython.display import clear_output\n",
    "import sys\n",
    "\n",
    "# display all rows & columns\n",
    "pd.set_option('display.max_columns', None)\n",
    "pd.set_option('display.max_rows', None)\n",
    "\n",
    "# turn off warning messages\n",
    "warnings.filterwarnings('ignore')"
   ]
  },
  {
   "cell_type": "code",
   "execution_count": 2,
   "metadata": {},
   "outputs": [],
   "source": [
    "# import & use utility functions sitting in 'main.py'\n",
    "sys.path.append('../../../ca_mmp')\n",
    "from policy_eval import main"
   ]
  },
  {
   "cell_type": "code",
   "execution_count": 23,
   "metadata": {},
   "outputs": [],
   "source": [
    "NPDES_PROGRAMS = ['DODNPDESSW', 'DODNPDESWW', 'NPDESWW', 'NPDINDLRG',\n",
    "                  'NPDINDSML', 'NPDMINING', 'NPDMUNILRG', 'NPDMUNIOTH',\n",
    "                  'NPDNONMUNIPRCS']"
   ]
  },
  {
   "attachments": {},
   "cell_type": "markdown",
   "metadata": {},
   "source": [
    "##### 1. Reading in and preprocessing data."
   ]
  },
  {
   "cell_type": "code",
   "execution_count": 3,
   "metadata": {},
   "outputs": [
    {
     "name": "stdout",
     "output_type": "stream",
     "text": [
      "Reading enforcements file.\n"
     ]
    }
   ],
   "source": [
    "print('Reading in configuration and data files.')\n",
    "clear_output(wait=True)\n",
    "\n",
    "# read in configuration file\n",
    "print('Reading in configuration file.')\n",
    "with open(Path().resolve().parent / 'config.yml', 'r') as file:\n",
    "    configs = yaml.safe_load(file)\n",
    "data_path = Path(configs['data_path'])\n",
    "clear_output(wait=True)\n",
    "\n",
    "# read in data\n",
    "print('Reading enforcements file.')\n",
    "enforcements = pd.read_csv(data_path / 'enf_actions_export.csv',\n",
    "                           dtype={'FACILITY ID': object},\n",
    "                           parse_dates=['DATE OF OLDEST VIOLATION LINKED TO ENFORCEMENT ACTION', 'EFFECTIVE DATE.1'],\n",
    "                           date_parser=lambda x: pd.to_datetime(x, errors='coerce'))\n",
    "enforcements.rename(columns={'FACILITY ID': 'FACILITY_ID'}, inplace=True)\n",
    "clear_output(wait=True)"
   ]
  },
  {
   "cell_type": "code",
   "execution_count": 4,
   "metadata": {},
   "outputs": [
    {
     "name": "stdout",
     "output_type": "stream",
     "text": [
      "Cleaning enforcements data.\n"
     ]
    }
   ],
   "source": [
    "print('Cleaning enforcements data.')\n",
    "enforcements_clean = main.clean_enforcements(enforcements, mmp_only=False)\n",
    "clear_output(wait=True)"
   ]
  },
  {
   "attachments": {},
   "cell_type": "markdown",
   "metadata": {},
   "source": [
    "##### 2. Exploring the `PROGRAM` fields."
   ]
  },
  {
   "attachments": {},
   "cell_type": "markdown",
   "metadata": {},
   "source": [
    "Recall that these are the NPDES programs according to Nicole's code: `DODNPDESSW`, `DODNPDESWW`, `NPDESWW`, `NPDINDLRG`, `NPDINDSML`, `NPDMINING`, `NPDMUNILRG`, `NPDMUNIOTH`, and `NPDNONMUNIPRCS`."
   ]
  },
  {
   "cell_type": "code",
   "execution_count": 6,
   "metadata": {},
   "outputs": [
    {
     "data": {
      "text/plain": [
       "49249"
      ]
     },
     "execution_count": 6,
     "metadata": {},
     "output_type": "execute_result"
    }
   ],
   "source": [
    "# total number of enforcement actions\n",
    "len(enforcements)"
   ]
  },
  {
   "cell_type": "code",
   "execution_count": 7,
   "metadata": {},
   "outputs": [
    {
     "data": {
      "text/plain": [
       "40465"
      ]
     },
     "execution_count": 7,
     "metadata": {},
     "output_type": "execute_result"
    }
   ],
   "source": [
    "len(enforcements['PROGRAM'].dropna())"
   ]
  },
  {
   "cell_type": "code",
   "execution_count": 8,
   "metadata": {},
   "outputs": [
    {
     "data": {
      "text/plain": [
       "49051"
      ]
     },
     "execution_count": 8,
     "metadata": {},
     "output_type": "execute_result"
    }
   ],
   "source": [
    "len(enforcements['PROGRAM.1'].dropna())"
   ]
  },
  {
   "cell_type": "code",
   "execution_count": 32,
   "metadata": {},
   "outputs": [],
   "source": [
    "# enforcement actions where 'PROGRAM' and 'PROGRAM.1' have different, non-NA values\n",
    "diff = enforcements[(enforcements['PROGRAM.1'] != enforcements['PROGRAM']) &\n",
    "                    (~pd.isna(enforcements['PROGRAM'])) &\n",
    "                    (~pd.isna(enforcements['PROGRAM.1']))]"
   ]
  },
  {
   "cell_type": "code",
   "execution_count": 93,
   "metadata": {},
   "outputs": [
    {
     "data": {
      "text/plain": [
       "530"
      ]
     },
     "execution_count": 93,
     "metadata": {},
     "output_type": "execute_result"
    }
   ],
   "source": [
    "len(diff[(diff['PROGRAM'].isin(NPDES_PROGRAMS)) & (diff['PROGRAM.1'].isin(NPDES_PROGRAMS))])"
   ]
  },
  {
   "attachments": {},
   "cell_type": "markdown",
   "metadata": {},
   "source": [
    "How often does one field have a NPDES program while the other does not?"
   ]
  },
  {
   "cell_type": "code",
   "execution_count": 35,
   "metadata": {},
   "outputs": [
    {
     "data": {
      "text/plain": [
       "129"
      ]
     },
     "execution_count": 35,
     "metadata": {},
     "output_type": "execute_result"
    }
   ],
   "source": [
    "len(diff[(~diff['PROGRAM'].isin(NPDES_PROGRAMS)) & (diff['PROGRAM.1'].isin(NPDES_PROGRAMS))])"
   ]
  },
  {
   "cell_type": "code",
   "execution_count": 36,
   "metadata": {},
   "outputs": [
    {
     "data": {
      "text/plain": [
       "65"
      ]
     },
     "execution_count": 36,
     "metadata": {},
     "output_type": "execute_result"
    }
   ],
   "source": [
    "len(diff[(diff['PROGRAM'].isin(NPDES_PROGRAMS)) & (~diff['PROGRAM.1'].isin(NPDES_PROGRAMS))])"
   ]
  },
  {
   "attachments": {},
   "cell_type": "markdown",
   "metadata": {},
   "source": [
    "Let's look at a sample of these enforcement actions."
   ]
  },
  {
   "cell_type": "code",
   "execution_count": 91,
   "metadata": {},
   "outputs": [
    {
     "data": {
      "text/html": [
       "<div>\n",
       "<style scoped>\n",
       "    .dataframe tbody tr th:only-of-type {\n",
       "        vertical-align: middle;\n",
       "    }\n",
       "\n",
       "    .dataframe tbody tr th {\n",
       "        vertical-align: top;\n",
       "    }\n",
       "\n",
       "    .dataframe thead th {\n",
       "        text-align: right;\n",
       "    }\n",
       "</style>\n",
       "<table border=\"1\" class=\"dataframe\">\n",
       "  <thead>\n",
       "    <tr style=\"text-align: right;\">\n",
       "      <th></th>\n",
       "      <th>PROGRAM</th>\n",
       "      <th>PROGRAM CATEGORY</th>\n",
       "      <th>PROGRAM.1</th>\n",
       "      <th>PROGRAM CATEGORY.1</th>\n",
       "    </tr>\n",
       "  </thead>\n",
       "  <tbody>\n",
       "    <tr>\n",
       "      <th>11518</th>\n",
       "      <td>SSOMUNISML</td>\n",
       "      <td>SSO</td>\n",
       "      <td>WDRMUNIOTH</td>\n",
       "      <td>WDR</td>\n",
       "    </tr>\n",
       "    <tr>\n",
       "      <th>25295</th>\n",
       "      <td>WDRMUNIOWTS</td>\n",
       "      <td>WDR</td>\n",
       "      <td>WDRMUNIOTH</td>\n",
       "      <td>WDR</td>\n",
       "    </tr>\n",
       "    <tr>\n",
       "      <th>13114</th>\n",
       "      <td>UNREGS</td>\n",
       "      <td>UNREGS</td>\n",
       "      <td>ENF13267</td>\n",
       "      <td>UNREGS</td>\n",
       "    </tr>\n",
       "    <tr>\n",
       "      <th>1356</th>\n",
       "      <td>WDRNONMUNIPRCS</td>\n",
       "      <td>WDR</td>\n",
       "      <td>WDR</td>\n",
       "      <td>WDR</td>\n",
       "    </tr>\n",
       "    <tr>\n",
       "      <th>26361</th>\n",
       "      <td>NPDMUNILRG</td>\n",
       "      <td>NPDESWW</td>\n",
       "      <td>NPDESWW</td>\n",
       "      <td>NPDESWW</td>\n",
       "    </tr>\n",
       "    <tr>\n",
       "      <th>34999</th>\n",
       "      <td>LNDISPOTH</td>\n",
       "      <td>LNDISP</td>\n",
       "      <td>LNDISP</td>\n",
       "      <td>LNDISP</td>\n",
       "    </tr>\n",
       "    <tr>\n",
       "      <th>27149</th>\n",
       "      <td>WDRMINING</td>\n",
       "      <td>WDR</td>\n",
       "      <td>WDR</td>\n",
       "      <td>WDR</td>\n",
       "    </tr>\n",
       "    <tr>\n",
       "      <th>668</th>\n",
       "      <td>NPDMUNILRG</td>\n",
       "      <td>NPDESWW</td>\n",
       "      <td>NPDESWW</td>\n",
       "      <td>NPDESWW</td>\n",
       "    </tr>\n",
       "    <tr>\n",
       "      <th>15555</th>\n",
       "      <td>WDRNONMUNIPRCS</td>\n",
       "      <td>WDR</td>\n",
       "      <td>WDR</td>\n",
       "      <td>WDR</td>\n",
       "    </tr>\n",
       "    <tr>\n",
       "      <th>20184</th>\n",
       "      <td>WDRMUNIOWTS</td>\n",
       "      <td>WDR</td>\n",
       "      <td>WDRMUNIOTH</td>\n",
       "      <td>WDR</td>\n",
       "    </tr>\n",
       "    <tr>\n",
       "      <th>39940</th>\n",
       "      <td>SSOMUNILRG</td>\n",
       "      <td>SSO</td>\n",
       "      <td>WDRMUNILRG</td>\n",
       "      <td>WDR</td>\n",
       "    </tr>\n",
       "    <tr>\n",
       "      <th>3657</th>\n",
       "      <td>UNREGS</td>\n",
       "      <td>UNREGS</td>\n",
       "      <td>ENFCAO</td>\n",
       "      <td>UNREGS</td>\n",
       "    </tr>\n",
       "    <tr>\n",
       "      <th>28686</th>\n",
       "      <td>WDRMINING</td>\n",
       "      <td>WDR</td>\n",
       "      <td>WDR</td>\n",
       "      <td>WDR</td>\n",
       "    </tr>\n",
       "    <tr>\n",
       "      <th>4138</th>\n",
       "      <td>WDRMUNIOWTS</td>\n",
       "      <td>WDR</td>\n",
       "      <td>WDR</td>\n",
       "      <td>WDR</td>\n",
       "    </tr>\n",
       "    <tr>\n",
       "      <th>28647</th>\n",
       "      <td>WDRINDFP</td>\n",
       "      <td>WDR</td>\n",
       "      <td>WDR</td>\n",
       "      <td>WDR</td>\n",
       "    </tr>\n",
       "    <tr>\n",
       "      <th>12351</th>\n",
       "      <td>WDRMUNIOTH</td>\n",
       "      <td>WDR</td>\n",
       "      <td>WDR</td>\n",
       "      <td>WDR</td>\n",
       "    </tr>\n",
       "    <tr>\n",
       "      <th>28906</th>\n",
       "      <td>SSOMUNISML</td>\n",
       "      <td>SSO</td>\n",
       "      <td>WDR</td>\n",
       "      <td>WDR</td>\n",
       "    </tr>\n",
       "    <tr>\n",
       "      <th>10801</th>\n",
       "      <td>NPDNONMUNIPRCS</td>\n",
       "      <td>NPDESWW</td>\n",
       "      <td>NPDESWW</td>\n",
       "      <td>NPDESWW</td>\n",
       "    </tr>\n",
       "    <tr>\n",
       "      <th>8668</th>\n",
       "      <td>LFNONOPER</td>\n",
       "      <td>LNDISP</td>\n",
       "      <td>LNDISP</td>\n",
       "      <td>LNDISP</td>\n",
       "    </tr>\n",
       "    <tr>\n",
       "      <th>39875</th>\n",
       "      <td>WDRMUNIOWTS</td>\n",
       "      <td>WDR</td>\n",
       "      <td>WDR</td>\n",
       "      <td>WDR</td>\n",
       "    </tr>\n",
       "  </tbody>\n",
       "</table>\n",
       "</div>"
      ],
      "text/plain": [
       "              PROGRAM PROGRAM CATEGORY   PROGRAM.1 PROGRAM CATEGORY.1\n",
       "11518      SSOMUNISML              SSO  WDRMUNIOTH                WDR\n",
       "25295     WDRMUNIOWTS              WDR  WDRMUNIOTH                WDR\n",
       "13114          UNREGS           UNREGS    ENF13267             UNREGS\n",
       "1356   WDRNONMUNIPRCS              WDR         WDR                WDR\n",
       "26361      NPDMUNILRG          NPDESWW     NPDESWW            NPDESWW\n",
       "34999       LNDISPOTH           LNDISP      LNDISP             LNDISP\n",
       "27149       WDRMINING              WDR         WDR                WDR\n",
       "668        NPDMUNILRG          NPDESWW     NPDESWW            NPDESWW\n",
       "15555  WDRNONMUNIPRCS              WDR         WDR                WDR\n",
       "20184     WDRMUNIOWTS              WDR  WDRMUNIOTH                WDR\n",
       "39940      SSOMUNILRG              SSO  WDRMUNILRG                WDR\n",
       "3657           UNREGS           UNREGS      ENFCAO             UNREGS\n",
       "28686       WDRMINING              WDR         WDR                WDR\n",
       "4138      WDRMUNIOWTS              WDR         WDR                WDR\n",
       "28647        WDRINDFP              WDR         WDR                WDR\n",
       "12351      WDRMUNIOTH              WDR         WDR                WDR\n",
       "28906      SSOMUNISML              SSO         WDR                WDR\n",
       "10801  NPDNONMUNIPRCS          NPDESWW     NPDESWW            NPDESWW\n",
       "8668        LFNONOPER           LNDISP      LNDISP             LNDISP\n",
       "39875     WDRMUNIOWTS              WDR         WDR                WDR"
      ]
     },
     "execution_count": 91,
     "metadata": {},
     "output_type": "execute_result"
    }
   ],
   "source": [
    "diff[['PROGRAM', 'PROGRAM CATEGORY', 'PROGRAM.1', 'PROGRAM CATEGORY.1']].sample(frac=1).head(20)"
   ]
  },
  {
   "attachments": {},
   "cell_type": "markdown",
   "metadata": {},
   "source": [
    "What if we look just at facilities that have a NPDES program in one field? "
   ]
  },
  {
   "cell_type": "code",
   "execution_count": 94,
   "metadata": {},
   "outputs": [
    {
     "data": {
      "text/html": [
       "<div>\n",
       "<style scoped>\n",
       "    .dataframe tbody tr th:only-of-type {\n",
       "        vertical-align: middle;\n",
       "    }\n",
       "\n",
       "    .dataframe tbody tr th {\n",
       "        vertical-align: top;\n",
       "    }\n",
       "\n",
       "    .dataframe thead th {\n",
       "        text-align: right;\n",
       "    }\n",
       "</style>\n",
       "<table border=\"1\" class=\"dataframe\">\n",
       "  <thead>\n",
       "    <tr style=\"text-align: right;\">\n",
       "      <th></th>\n",
       "      <th>PROGRAM</th>\n",
       "      <th>PROGRAM CATEGORY</th>\n",
       "      <th>PROGRAM.1</th>\n",
       "      <th>PROGRAM CATEGORY.1</th>\n",
       "    </tr>\n",
       "  </thead>\n",
       "  <tbody>\n",
       "    <tr>\n",
       "      <th>28453</th>\n",
       "      <td>NPDMUNILRG</td>\n",
       "      <td>NPDESWW</td>\n",
       "      <td>WDRMUNILRG</td>\n",
       "      <td>WDR</td>\n",
       "    </tr>\n",
       "    <tr>\n",
       "      <th>972</th>\n",
       "      <td>NPDNONMUNIPRCS</td>\n",
       "      <td>NPDESWW</td>\n",
       "      <td>NPDESWW</td>\n",
       "      <td>NPDESWW</td>\n",
       "    </tr>\n",
       "    <tr>\n",
       "      <th>9814</th>\n",
       "      <td>NPDMUNIOTH</td>\n",
       "      <td>NPDESWW</td>\n",
       "      <td>SSOMUNISML</td>\n",
       "      <td>SSO</td>\n",
       "    </tr>\n",
       "    <tr>\n",
       "      <th>1857</th>\n",
       "      <td>NPDNONMUNIPRCS</td>\n",
       "      <td>NPDESWW</td>\n",
       "      <td>NPDESWW</td>\n",
       "      <td>NPDESWW</td>\n",
       "    </tr>\n",
       "    <tr>\n",
       "      <th>19739</th>\n",
       "      <td>NPDMUNILRG</td>\n",
       "      <td>NPDESWW</td>\n",
       "      <td>NPDESWW</td>\n",
       "      <td>NPDESWW</td>\n",
       "    </tr>\n",
       "    <tr>\n",
       "      <th>20150</th>\n",
       "      <td>DODNPDESWW</td>\n",
       "      <td>DOD</td>\n",
       "      <td>NPDESWW</td>\n",
       "      <td>NPDESWW</td>\n",
       "    </tr>\n",
       "    <tr>\n",
       "      <th>35598</th>\n",
       "      <td>NPDMUNIOTH</td>\n",
       "      <td>NPDESWW</td>\n",
       "      <td>NPDESWW</td>\n",
       "      <td>NPDESWW</td>\n",
       "    </tr>\n",
       "    <tr>\n",
       "      <th>8342</th>\n",
       "      <td>NPDESWW</td>\n",
       "      <td>NPDESWW</td>\n",
       "      <td>NPDNONMUNIPRCS</td>\n",
       "      <td>NPDESWW</td>\n",
       "    </tr>\n",
       "    <tr>\n",
       "      <th>14270</th>\n",
       "      <td>NPDMUNIOTH</td>\n",
       "      <td>NPDESWW</td>\n",
       "      <td>NPDESWW</td>\n",
       "      <td>NPDESWW</td>\n",
       "    </tr>\n",
       "    <tr>\n",
       "      <th>29482</th>\n",
       "      <td>ANIWSTCOWS</td>\n",
       "      <td>ANIMALWASTE</td>\n",
       "      <td>NPDNONMUNIPRCS</td>\n",
       "      <td>NPDESWW</td>\n",
       "    </tr>\n",
       "    <tr>\n",
       "      <th>21368</th>\n",
       "      <td>SSOMUNILRG</td>\n",
       "      <td>SSO</td>\n",
       "      <td>NPDMUNILRG</td>\n",
       "      <td>NPDESWW</td>\n",
       "    </tr>\n",
       "    <tr>\n",
       "      <th>9873</th>\n",
       "      <td>NPDMUNIOTH</td>\n",
       "      <td>NPDESWW</td>\n",
       "      <td>NPDESWW</td>\n",
       "      <td>NPDESWW</td>\n",
       "    </tr>\n",
       "    <tr>\n",
       "      <th>14860</th>\n",
       "      <td>ANIWSTCOWS</td>\n",
       "      <td>ANIMALWASTE</td>\n",
       "      <td>NPDNONMUNIPRCS</td>\n",
       "      <td>NPDESWW</td>\n",
       "    </tr>\n",
       "    <tr>\n",
       "      <th>31206</th>\n",
       "      <td>NPDMUNIOTH</td>\n",
       "      <td>NPDESWW</td>\n",
       "      <td>NPDESWW</td>\n",
       "      <td>NPDESWW</td>\n",
       "    </tr>\n",
       "    <tr>\n",
       "      <th>3752</th>\n",
       "      <td>NPDMUNILRG</td>\n",
       "      <td>NPDESWW</td>\n",
       "      <td>NPDESWW</td>\n",
       "      <td>NPDESWW</td>\n",
       "    </tr>\n",
       "    <tr>\n",
       "      <th>3834</th>\n",
       "      <td>NPDINDSML</td>\n",
       "      <td>NPDESWW</td>\n",
       "      <td>NPDESWW</td>\n",
       "      <td>NPDESWW</td>\n",
       "    </tr>\n",
       "    <tr>\n",
       "      <th>26576</th>\n",
       "      <td>NPDMUNILRG</td>\n",
       "      <td>NPDESWW</td>\n",
       "      <td>NPDESWW</td>\n",
       "      <td>NPDESWW</td>\n",
       "    </tr>\n",
       "    <tr>\n",
       "      <th>4647</th>\n",
       "      <td>NPDMUNILRG</td>\n",
       "      <td>NPDESWW</td>\n",
       "      <td>NPDESWW</td>\n",
       "      <td>NPDESWW</td>\n",
       "    </tr>\n",
       "    <tr>\n",
       "      <th>22907</th>\n",
       "      <td>NPDINDLRG</td>\n",
       "      <td>NPDESWW</td>\n",
       "      <td>NPDESWW</td>\n",
       "      <td>NPDESWW</td>\n",
       "    </tr>\n",
       "    <tr>\n",
       "      <th>3787</th>\n",
       "      <td>NPDMUNILRG</td>\n",
       "      <td>NPDESWW</td>\n",
       "      <td>NPDINDSML</td>\n",
       "      <td>NPDESWW</td>\n",
       "    </tr>\n",
       "  </tbody>\n",
       "</table>\n",
       "</div>"
      ],
      "text/plain": [
       "              PROGRAM PROGRAM CATEGORY       PROGRAM.1 PROGRAM CATEGORY.1\n",
       "28453      NPDMUNILRG          NPDESWW      WDRMUNILRG                WDR\n",
       "972    NPDNONMUNIPRCS          NPDESWW         NPDESWW            NPDESWW\n",
       "9814       NPDMUNIOTH          NPDESWW      SSOMUNISML                SSO\n",
       "1857   NPDNONMUNIPRCS          NPDESWW         NPDESWW            NPDESWW\n",
       "19739      NPDMUNILRG          NPDESWW         NPDESWW            NPDESWW\n",
       "20150      DODNPDESWW              DOD         NPDESWW            NPDESWW\n",
       "35598      NPDMUNIOTH          NPDESWW         NPDESWW            NPDESWW\n",
       "8342          NPDESWW          NPDESWW  NPDNONMUNIPRCS            NPDESWW\n",
       "14270      NPDMUNIOTH          NPDESWW         NPDESWW            NPDESWW\n",
       "29482      ANIWSTCOWS      ANIMALWASTE  NPDNONMUNIPRCS            NPDESWW\n",
       "21368      SSOMUNILRG              SSO      NPDMUNILRG            NPDESWW\n",
       "9873       NPDMUNIOTH          NPDESWW         NPDESWW            NPDESWW\n",
       "14860      ANIWSTCOWS      ANIMALWASTE  NPDNONMUNIPRCS            NPDESWW\n",
       "31206      NPDMUNIOTH          NPDESWW         NPDESWW            NPDESWW\n",
       "3752       NPDMUNILRG          NPDESWW         NPDESWW            NPDESWW\n",
       "3834        NPDINDSML          NPDESWW         NPDESWW            NPDESWW\n",
       "26576      NPDMUNILRG          NPDESWW         NPDESWW            NPDESWW\n",
       "4647       NPDMUNILRG          NPDESWW         NPDESWW            NPDESWW\n",
       "22907       NPDINDLRG          NPDESWW         NPDESWW            NPDESWW\n",
       "3787       NPDMUNILRG          NPDESWW       NPDINDSML            NPDESWW"
      ]
     },
     "execution_count": 94,
     "metadata": {},
     "output_type": "execute_result"
    }
   ],
   "source": [
    "\n",
    "diff_npdes = diff[(diff['PROGRAM'].isin(NPDES_PROGRAMS)) | (diff['PROGRAM.1'].isin(NPDES_PROGRAMS))]\n",
    "diff_npdes[['PROGRAM', 'PROGRAM CATEGORY', 'PROGRAM.1', 'PROGRAM CATEGORY.1']].sample(frac=1).head(20)"
   ]
  },
  {
   "attachments": {},
   "cell_type": "markdown",
   "metadata": {},
   "source": [
    "For the majority of facilities with different programs under `PROGRAM` and `PROGRAM.1`, the different values appear to still be within the larger NPDES umbrella, even if the specific programs listed are different. Animal waste appears to be the most frequent non-NPDES program that shows up, with some SSOs, land disposal, and WDRs."
   ]
  }
 ],
 "metadata": {
  "kernelspec": {
   "display_name": "base",
   "language": "python",
   "name": "python3"
  },
  "language_info": {
   "codemirror_mode": {
    "name": "ipython",
    "version": 3
   },
   "file_extension": ".py",
   "mimetype": "text/x-python",
   "name": "python",
   "nbconvert_exporter": "python",
   "pygments_lexer": "ipython3",
   "version": "3.9.13"
  },
  "orig_nbformat": 4,
  "vscode": {
   "interpreter": {
    "hash": "b1ef88f97aa3188b1f23d128df521822b33ba5386e895ce2134cf7c20fa8e9ba"
   }
  }
 },
 "nbformat": 4,
 "nbformat_minor": 2
}
