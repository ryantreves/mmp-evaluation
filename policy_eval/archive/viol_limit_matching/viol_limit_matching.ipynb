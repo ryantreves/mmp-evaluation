{
 "cells": [
  {
   "cell_type": "markdown",
   "metadata": {
    "pycharm": {
     "name": "#%% md\n"
    }
   },
   "source": [
    "# Violation Limit Crosswalk Exploration\n",
    "\n",
    "<i> Author: Ryan Treves\n",
    "\n",
    "Goal: figure out a way to identify the specific limit series from a violation record."
   ]
  },
  {
   "cell_type": "code",
   "execution_count": 65,
   "metadata": {
    "pycharm": {
     "name": "#%%\n"
    }
   },
   "outputs": [],
   "source": [
    "import pandas as pd\n",
    "\n",
    "# Suppress warning messages\n",
    "import warnings\n",
    "\n",
    "warnings.filterwarnings('ignore')\n",
    "pd.options.display.max_columns = 200\n",
    "pd.options.display.max_rows = 2000"
   ]
  },
  {
   "cell_type": "code",
   "execution_count": 66,
   "metadata": {
    "pycharm": {
     "name": "#%%\n"
    }
   },
   "outputs": [],
   "source": [
    "# Load in data from `viol_limit_preprocessing.ipynb`. Using `viols_prepped_1.csv` as an example.\n",
    "violations_complete = pd.read_csv('/Users/rtreves/Documents/DMR work/DMR Python projects/ca_mmp/policy_eval/notebooks/viol_limit_matching/viols_prepped_1.csv')\n",
    "\n",
    "limits = pd.read_csv('/Users/rtreves/Documents/DMR work/DMR Python projects/ca_mmp/policy_eval/notebooks/viol_limit_matching/CA_limits_prepped.csv', dtype={\n",
    "    'parameter_code': object,\n",
    "    'perm_feature_nmbr': object,\n",
    "    'monitoring_location_code': object})"
   ]
  },
  {
   "cell_type": "markdown",
   "source": [],
   "metadata": {
    "collapsed": false,
    "pycharm": {
     "name": "#%% md\n"
    }
   }
  },
  {
   "cell_type": "markdown",
   "source": [
    "Matching algorithm:"
   ],
   "metadata": {
    "collapsed": false,
    "pycharm": {
     "name": "#%% md\n"
    }
   }
  },
  {
   "cell_type": "code",
   "execution_count": 67,
   "outputs": [],
   "source": [
    "limit_series_unique = ['npdes_permit_id', 'parameter_desc', 'perm_feature_nmbr', 'limit_value_type_code', 'statistical_base_code']"
   ],
   "metadata": {
    "collapsed": false,
    "pycharm": {
     "name": "#%%\n"
    }
   }
  },
  {
   "cell_type": "code",
   "execution_count": null,
   "outputs": [],
   "source": [
    "match_dict = {}\n",
    "for i in range(0, len(violations_complete)):\n",
    "    violation = violations_complete.iloc[i]\n",
    "\n",
    "    # Permit ID match (match required)\n",
    "    match_dict[violation['VIOLATION ID (VID)']] = limits[limits['npdes_permit_id'] == violation['NPDES# CA#']]\n",
    "\n",
    "    # Parameter match test: exact match or parameter mentioned in violation description (optional)\n",
    "\n",
    "    # Before we run the test, spot-fixing a few common parameters will resolve a number of matching issues.\n",
    "    violation['Parameter'] = violation['Parameter'].replace(',', '')\n",
    "    violation['Parameter'] = violation['Parameter'].replace(\n",
    "        'carbonaceous biochemical oxygen demand [cbod] [5-day @ 20 deg. c]', 'bod carbonaceous [5 day 20 c]')\n",
    "    violation['Parameter'] = violation['Parameter'].replace('biochemical oxygen demand [bod] [5-day @ 20 deg. c]',\n",
    "                                                            'bod 5-day 20 deg. c')\n",
    "    violation['Parameter'] = violation['Parameter'].replace('total suspended solids [tss]', 'solids total suspended')\n",
    "    violation['Parameter'] = violation['Parameter'].replace('total dissolved solids [tds]', 'solids total dissolved')\n",
    "    if violation['Parameter'] == 'chloride':\n",
    "        violation['Parameter'] = 'chloride [as cl]'\n",
    "\n",
    "    # Run Parameter match test (match optional)\n",
    "    new = match_dict[violation['VIOLATION ID (VID)']][\n",
    "        (match_dict[violation['VIOLATION ID (VID)']]['parameter_desc'] == violation['Parameter']) |\n",
    "        (match_dict[violation['VIOLATION ID (VID)']]['parameter_desc'].apply(\n",
    "            lambda x: x in violation['VIOLATION DESCRIPTION'])) |\n",
    "        (match_dict[violation['VIOLATION ID (VID)']]['parameter_desc'].apply(lambda x: violation['Parameter'] in x))]\n",
    "    if len(new) > 0:\n",
    "        match_dict[violation['VIOLATION ID (VID)']] = new\n",
    "\n",
    "    # Outfall match (match optional)\n",
    "    if not pd.isna(violation['Monitoring Location']):\n",
    "        new = match_dict[violation['VIOLATION ID (VID)']][\n",
    "            match_dict[violation['VIOLATION ID (VID)']]['perm_feature_nmbr'].apply(\n",
    "                lambda x: x in violation['Monitoring Location'])]\n",
    "    if len(new) > 0:\n",
    "        match_dict[violation['VIOLATION ID (VID)']] = new\n",
    "\n",
    "    # Limit test (match optional)\n",
    "    new = match_dict[violation['VIOLATION ID (VID)']][\n",
    "        match_dict[violation['VIOLATION ID (VID)']]['limit_value_nmbr'] == violation['Limit']]\n",
    "    if len(new) > 0:\n",
    "        match_dict[violation['VIOLATION ID (VID)']] = new\n",
    "\n",
    "    # We only want to match to a limit series, not to a specific limit\n",
    "    match_dict[violation['VIOLATION ID (VID)']].drop_duplicates(subset='limit_series_id', inplace=True)"
   ],
   "metadata": {
    "collapsed": false,
    "pycharm": {
     "name": "#%%\n"
    }
   }
  },
  {
   "cell_type": "markdown",
   "source": [
    "What is the distribution of number of matches per violation?"
   ],
   "metadata": {
    "collapsed": false,
    "pycharm": {
     "name": "#%% md\n"
    }
   }
  },
  {
   "cell_type": "markdown",
   "source": [
    "What is the distribution of number of matches per violation?"
   ],
   "metadata": {
    "collapsed": false,
    "pycharm": {
     "name": "#%% md\n"
    }
   }
  },
  {
   "cell_type": "code",
   "execution_count": 69,
   "outputs": [
    {
     "data": {
      "text/plain": "           0\n2   0.307236\n1   0.292731\n3   0.169606\n10  0.044998\n5   0.035108",
      "text/html": "<div>\n<style scoped>\n    .dataframe tbody tr th:only-of-type {\n        vertical-align: middle;\n    }\n\n    .dataframe tbody tr th {\n        vertical-align: top;\n    }\n\n    .dataframe thead th {\n        text-align: right;\n    }\n</style>\n<table border=\"1\" class=\"dataframe\">\n  <thead>\n    <tr style=\"text-align: right;\">\n      <th></th>\n      <th>0</th>\n    </tr>\n  </thead>\n  <tbody>\n    <tr>\n      <th>2</th>\n      <td>0.307236</td>\n    </tr>\n    <tr>\n      <th>1</th>\n      <td>0.292731</td>\n    </tr>\n    <tr>\n      <th>3</th>\n      <td>0.169606</td>\n    </tr>\n    <tr>\n      <th>10</th>\n      <td>0.044998</td>\n    </tr>\n    <tr>\n      <th>5</th>\n      <td>0.035108</td>\n    </tr>\n  </tbody>\n</table>\n</div>"
     },
     "execution_count": 69,
     "metadata": {},
     "output_type": "execute_result"
    }
   ],
   "source": [
    "key_lengths = []\n",
    "for key in match_dict.keys():\n",
    "    key_lengths.append(len(match_dict[key]))\n",
    "pd.DataFrame(pd.Series(key_lengths).value_counts(normalize=True)).head()"
   ],
   "metadata": {
    "collapsed": false,
    "pycharm": {
     "name": "#%%\n"
    }
   }
  },
  {
   "cell_type": "markdown",
   "source": [
    "What is the distribution of number of unique parameter values represented in the matches for each violation?"
   ],
   "metadata": {
    "collapsed": false,
    "pycharm": {
     "name": "#%% md\n"
    }
   }
  },
  {
   "cell_type": "code",
   "execution_count": 70,
   "outputs": [
    {
     "data": {
      "text/plain": "            0\n1    0.872919\n2    0.031811\n43   0.019614\n5    0.008571\n218  0.005439",
      "text/html": "<div>\n<style scoped>\n    .dataframe tbody tr th:only-of-type {\n        vertical-align: middle;\n    }\n\n    .dataframe tbody tr th {\n        vertical-align: top;\n    }\n\n    .dataframe thead th {\n        text-align: right;\n    }\n</style>\n<table border=\"1\" class=\"dataframe\">\n  <thead>\n    <tr style=\"text-align: right;\">\n      <th></th>\n      <th>0</th>\n    </tr>\n  </thead>\n  <tbody>\n    <tr>\n      <th>1</th>\n      <td>0.872919</td>\n    </tr>\n    <tr>\n      <th>2</th>\n      <td>0.031811</td>\n    </tr>\n    <tr>\n      <th>43</th>\n      <td>0.019614</td>\n    </tr>\n    <tr>\n      <th>5</th>\n      <td>0.008571</td>\n    </tr>\n    <tr>\n      <th>218</th>\n      <td>0.005439</td>\n    </tr>\n  </tbody>\n</table>\n</div>"
     },
     "execution_count": 64,
     "metadata": {},
     "output_type": "execute_result"
    },
    {
     "data": {
      "text/plain": "            0\n1    0.872919\n2    0.031811\n43   0.019614\n5    0.008571\n218  0.005439",
      "text/html": "<div>\n<style scoped>\n    .dataframe tbody tr th:only-of-type {\n        vertical-align: middle;\n    }\n\n    .dataframe tbody tr th {\n        vertical-align: top;\n    }\n\n    .dataframe thead th {\n        text-align: right;\n    }\n</style>\n<table border=\"1\" class=\"dataframe\">\n  <thead>\n    <tr style=\"text-align: right;\">\n      <th></th>\n      <th>0</th>\n    </tr>\n  </thead>\n  <tbody>\n    <tr>\n      <th>1</th>\n      <td>0.872919</td>\n    </tr>\n    <tr>\n      <th>2</th>\n      <td>0.031811</td>\n    </tr>\n    <tr>\n      <th>43</th>\n      <td>0.019614</td>\n    </tr>\n    <tr>\n      <th>5</th>\n      <td>0.008571</td>\n    </tr>\n    <tr>\n      <th>218</th>\n      <td>0.005439</td>\n    </tr>\n  </tbody>\n</table>\n</div>"
     },
     "execution_count": 70,
     "metadata": {},
     "output_type": "execute_result"
    }
   ],
   "source": [
    "key_unique_parameters = []\n",
    "for key in match_dict.keys():\n",
    "    key_unique_parameters.append(len(match_dict[key].drop_duplicates(subset='parameter_desc')))\n",
    "pd.DataFrame(pd.Series(key_unique_parameters).value_counts(normalize=True)).head()"
   ],
   "metadata": {
    "collapsed": false,
    "pycharm": {
     "name": "#%%\n"
    }
   }
  },
  {
   "cell_type": "markdown",
   "source": [
    "Manually review violations matched to one series:"
   ],
   "metadata": {
    "collapsed": false,
    "pycharm": {
     "name": "#%% md\n"
    }
   }
  },
  {
   "cell_type": "code",
   "execution_count": 71,
   "outputs": [],
   "source": [
    "exact_match_keys = pd.DataFrame()\n",
    "for key in match_dict.keys():\n",
    "    if len(match_dict[key]) == 1:\n",
    "        exact_match_keys = pd.concat([exact_match_keys, violations_complete[violations_complete['VIOLATION ID (VID)'] == key][\n",
    "            ['VIOLATION ID (VID)', 'NPDES# CA#', 'Parameter', 'Limit', 'Result', 'Monitoring Location']]], axis=0)\n",
    "exact_match_keys = exact_match_keys.reset_index(drop=True)\n",
    "\n",
    "exact_matches = pd.DataFrame()\n",
    "for VID in exact_match_keys['VIOLATION ID (VID)']:\n",
    "    exact_matches = pd.concat([exact_matches, match_dict[VID][limit_series_unique + ['limit_value_nmbr']]], axis=0)\n",
    "exact_matches = exact_matches.reset_index(drop=True)"
   ],
   "metadata": {
    "collapsed": false,
    "pycharm": {
     "name": "#%%\n"
    }
   }
  },
  {
   "cell_type": "code",
   "execution_count": 72,
   "outputs": [
    {
     "data": {
      "text/plain": "   VIOLATION ID (VID)       Parameter          parameter_desc\n0              897482  total coliform  coliform total general\n1              897483  total coliform  coliform total general\n2              897484  total coliform  coliform total general\n3              897500  total coliform  coliform total general\n4              897501  total coliform  coliform total general",
      "text/html": "<div>\n<style scoped>\n    .dataframe tbody tr th:only-of-type {\n        vertical-align: middle;\n    }\n\n    .dataframe tbody tr th {\n        vertical-align: top;\n    }\n\n    .dataframe thead th {\n        text-align: right;\n    }\n</style>\n<table border=\"1\" class=\"dataframe\">\n  <thead>\n    <tr style=\"text-align: right;\">\n      <th></th>\n      <th>VIOLATION ID (VID)</th>\n      <th>Parameter</th>\n      <th>parameter_desc</th>\n    </tr>\n  </thead>\n  <tbody>\n    <tr>\n      <th>0</th>\n      <td>897482</td>\n      <td>total coliform</td>\n      <td>coliform total general</td>\n    </tr>\n    <tr>\n      <th>1</th>\n      <td>897483</td>\n      <td>total coliform</td>\n      <td>coliform total general</td>\n    </tr>\n    <tr>\n      <th>2</th>\n      <td>897484</td>\n      <td>total coliform</td>\n      <td>coliform total general</td>\n    </tr>\n    <tr>\n      <th>3</th>\n      <td>897500</td>\n      <td>total coliform</td>\n      <td>coliform total general</td>\n    </tr>\n    <tr>\n      <th>4</th>\n      <td>897501</td>\n      <td>total coliform</td>\n      <td>coliform total general</td>\n    </tr>\n  </tbody>\n</table>\n</div>"
     },
     "execution_count": 72,
     "metadata": {},
     "output_type": "execute_result"
    }
   ],
   "source": [
    "pd.concat([exact_match_keys[['VIOLATION ID (VID)', 'Parameter']],\n",
    "           exact_matches[['parameter_desc']]], axis=1).head()"
   ],
   "metadata": {
    "collapsed": false,
    "pycharm": {
     "name": "#%%\n"
    }
   }
  },
  {
   "cell_type": "markdown",
   "source": [
    "Note: some reasons for incorrect single matches:\n",
    "- DMR parameter is a substring of violation Parameter (e.g. - 'dichloromethane' in 'dibromodichloromethane')\n",
    "- Violation parameter wasn't in the set of all parameters in the DMR data for that permittee (e.g., 'chronic toxicity')"
   ],
   "metadata": {
    "collapsed": false,
    "pycharm": {
     "name": "#%% md\n"
    }
   }
  },
  {
   "cell_type": "markdown",
   "source": [
    "Manually reviewing violations matched to multiple series:"
   ],
   "metadata": {
    "collapsed": false,
    "pycharm": {
     "name": "#%% md\n"
    }
   }
  },
  {
   "cell_type": "code",
   "execution_count": 73,
   "outputs": [],
   "source": [
    "many_match_keys = pd.DataFrame()\n",
    "for key in match_dict.keys():\n",
    "    if len(match_dict[key]) > 1:\n",
    "        many_match_keys = pd.concat([many_match_keys, violations_complete[violations_complete['VIOLATION ID (VID)'] == key][\n",
    "            ['VIOLATION ID (VID)', 'NPDES# CA#', 'Parameter', 'Limit', 'Result', 'Monitoring Location']]], axis=0)\n",
    "many_matches = pd.DataFrame()\n",
    "for VID in many_match_keys['VIOLATION ID (VID)']:\n",
    "    to_display = match_dict[VID][limit_series_unique]\n",
    "    to_display['VID'] = VID\n",
    "    many_matches = pd.concat([many_matches, to_display], axis=0)"
   ],
   "metadata": {
    "collapsed": false,
    "pycharm": {
     "name": "#%%\n"
    }
   }
  },
  {
   "cell_type": "code",
   "execution_count": 74,
   "outputs": [
    {
     "data": {
      "text/plain": "    VIOLATION ID (VID) NPDES# CA#                Parameter  Limit  Result  \\\n1               897485  CA8000383           total coliform  23.00    70.0   \n2               897502  CA8000383           total coliform  23.00    80.0   \n11              856456  CA0077712  chlorine total residual   0.02     2.0   \n17              863738  CA0077712           acute toxicity  70.00    55.0   \n19              869645  CA0077712           aluminum total  71.00   130.0   \n\n   Monitoring Location  \n1                M-001  \n2                M-001  \n11                 NaN  \n17                 NaN  \n19                 NaN  ",
      "text/html": "<div>\n<style scoped>\n    .dataframe tbody tr th:only-of-type {\n        vertical-align: middle;\n    }\n\n    .dataframe tbody tr th {\n        vertical-align: top;\n    }\n\n    .dataframe thead th {\n        text-align: right;\n    }\n</style>\n<table border=\"1\" class=\"dataframe\">\n  <thead>\n    <tr style=\"text-align: right;\">\n      <th></th>\n      <th>VIOLATION ID (VID)</th>\n      <th>NPDES# CA#</th>\n      <th>Parameter</th>\n      <th>Limit</th>\n      <th>Result</th>\n      <th>Monitoring Location</th>\n    </tr>\n  </thead>\n  <tbody>\n    <tr>\n      <th>1</th>\n      <td>897485</td>\n      <td>CA8000383</td>\n      <td>total coliform</td>\n      <td>23.00</td>\n      <td>70.0</td>\n      <td>M-001</td>\n    </tr>\n    <tr>\n      <th>2</th>\n      <td>897502</td>\n      <td>CA8000383</td>\n      <td>total coliform</td>\n      <td>23.00</td>\n      <td>80.0</td>\n      <td>M-001</td>\n    </tr>\n    <tr>\n      <th>11</th>\n      <td>856456</td>\n      <td>CA0077712</td>\n      <td>chlorine total residual</td>\n      <td>0.02</td>\n      <td>2.0</td>\n      <td>NaN</td>\n    </tr>\n    <tr>\n      <th>17</th>\n      <td>863738</td>\n      <td>CA0077712</td>\n      <td>acute toxicity</td>\n      <td>70.00</td>\n      <td>55.0</td>\n      <td>NaN</td>\n    </tr>\n    <tr>\n      <th>19</th>\n      <td>869645</td>\n      <td>CA0077712</td>\n      <td>aluminum total</td>\n      <td>71.00</td>\n      <td>130.0</td>\n      <td>NaN</td>\n    </tr>\n  </tbody>\n</table>\n</div>"
     },
     "execution_count": 74,
     "metadata": {},
     "output_type": "execute_result"
    }
   ],
   "source": [
    "many_match_keys.head()"
   ],
   "metadata": {
    "collapsed": false,
    "pycharm": {
     "name": "#%%\n"
    }
   }
  },
  {
   "cell_type": "code",
   "execution_count": 75,
   "outputs": [
    {
     "data": {
      "text/plain": "       npdes_permit_id           parameter_desc perm_feature_nmbr  \\\n98349        CA8000383   coliform total general               001   \n177142       CA8000383   coliform total general               001   \n98349        CA8000383   coliform total general               001   \n177142       CA8000383   coliform total general               001   \n40862        CA0077712  chlorine total residual               001   \n\n       limit_value_type_code statistical_base_code     VID  \n98349                     C2                    7C  897485  \n177142                    C1                    3E  897485  \n98349                     C2                    7C  897502  \n177142                    C1                    3E  897502  \n40862                     C3                    1I  856456  ",
      "text/html": "<div>\n<style scoped>\n    .dataframe tbody tr th:only-of-type {\n        vertical-align: middle;\n    }\n\n    .dataframe tbody tr th {\n        vertical-align: top;\n    }\n\n    .dataframe thead th {\n        text-align: right;\n    }\n</style>\n<table border=\"1\" class=\"dataframe\">\n  <thead>\n    <tr style=\"text-align: right;\">\n      <th></th>\n      <th>npdes_permit_id</th>\n      <th>parameter_desc</th>\n      <th>perm_feature_nmbr</th>\n      <th>limit_value_type_code</th>\n      <th>statistical_base_code</th>\n      <th>VID</th>\n    </tr>\n  </thead>\n  <tbody>\n    <tr>\n      <th>98349</th>\n      <td>CA8000383</td>\n      <td>coliform total general</td>\n      <td>001</td>\n      <td>C2</td>\n      <td>7C</td>\n      <td>897485</td>\n    </tr>\n    <tr>\n      <th>177142</th>\n      <td>CA8000383</td>\n      <td>coliform total general</td>\n      <td>001</td>\n      <td>C1</td>\n      <td>3E</td>\n      <td>897485</td>\n    </tr>\n    <tr>\n      <th>98349</th>\n      <td>CA8000383</td>\n      <td>coliform total general</td>\n      <td>001</td>\n      <td>C2</td>\n      <td>7C</td>\n      <td>897502</td>\n    </tr>\n    <tr>\n      <th>177142</th>\n      <td>CA8000383</td>\n      <td>coliform total general</td>\n      <td>001</td>\n      <td>C1</td>\n      <td>3E</td>\n      <td>897502</td>\n    </tr>\n    <tr>\n      <th>40862</th>\n      <td>CA0077712</td>\n      <td>chlorine total residual</td>\n      <td>001</td>\n      <td>C3</td>\n      <td>1I</td>\n      <td>856456</td>\n    </tr>\n  </tbody>\n</table>\n</div>"
     },
     "execution_count": 75,
     "metadata": {},
     "output_type": "execute_result"
    }
   ],
   "source": [
    "many_matches.head()"
   ],
   "metadata": {
    "collapsed": false,
    "pycharm": {
     "name": "#%%\n"
    }
   }
  },
  {
   "cell_type": "markdown",
   "source": [
    "Note: some reasons for multiple matches:\n",
    "- Multiple base codes\n",
    "- No DMR record of the violation parameter (manually checked)\n",
    "- Others?"
   ],
   "metadata": {
    "collapsed": false,
    "pycharm": {
     "name": "#%% md\n"
    }
   }
  },
  {
   "cell_type": "markdown",
   "source": [
    "### Stepping back: how much time do we think that manual matching will take, using this algorithm?\n",
    "\n",
    "Let's say we're able to link all EPLs to their 11,427 associated violations, and they all contain data on NPDES permittee ID. At this moment we haven't calculated the number of MMP-eligible effluent violations associated with NPDES permittees that did NOT result in EPLs (a candidate control group); however, we know there are 1,017 facilities in said group (see MMP universe file in EPA > CA MMP google drive). Assuming the facility:violation ratio is the same for both groups (which it certainly may not be), we could estimate that there would be about 17,000 violations in this control group. Thus, we would have a total of 28,427 violations to match.\n",
    "\n",
    "Assuming we don't care about why data in the 'Parameter', 'Limit', 'Monitoring Location', and 'Result' is missing, about half (14,213) of these violations will have complete data for these columns. Running this many violations through the algorithm above won't take more than an hour, maximum - likely less.\n",
    "If we wanted to spot-check every single violation and flag incorrect matches, I would estimate that would take one person 5 minutes per 50 violations = approximately 30 hours of work (including short breaks) to check all 14,213 violations.\n",
    "If we only wanted to spot-check and flag violations for which there was a parameter mismatch, I would guess that the whole process could be shortened by about 4x to ~8 hours of work.\n",
    "If we assume a similar rate of incorrect matches as in the exploration above (~4-6%), I would estimate the additional work of correcting ~750 incorrect matches to take one person 1 minute per violation = approximately 15 hours of work (including short breaks) to either correct the incorrect matches or throw the violations out as unmatchable.\n",
    "\n",
    "In conclusion, my guess for the time demand of matching all of our treatment and control violations to DMR limit series (ignoring outfall number and base code) is <b>23-45 person-hours of work (depending on how confident we want to be in our matches)."
   ],
   "metadata": {
    "collapsed": false,
    "pycharm": {
     "name": "#%% md\n"
    }
   }
  },
  {
   "cell_type": "markdown",
   "source": [
    "Remaining questions:\n",
    "- Why are so many violations missing data for 'Parameter', 'Limit', 'Monitoring Location', and 'Result'?\n",
    "- Why do a small number of violations have NPDES permit ID values not appearing in the CA DMR data?\n",
    "- Do we want to keep iterating on the above algorithm to try and increase the rate of correct matches?\n",
    "- What do we want to do about violation Parameters such as 'chronic toxicity' that don't appear in the CA DMR data?\n",
    "- How easy is it really for us to match EPLs to violations?"
   ],
   "metadata": {
    "collapsed": false,
    "pycharm": {
     "name": "#%% md\n"
    }
   }
  }
 ],
 "metadata": {
  "kernelspec": {
   "display_name": "Python 3 (ipykernel)",
   "language": "python",
   "name": "python3"
  },
  "language_info": {
   "codemirror_mode": {
    "name": "ipython",
    "version": 3
   },
   "file_extension": ".py",
   "mimetype": "text/x-python",
   "name": "python",
   "nbconvert_exporter": "python",
   "pygments_lexer": "ipython3",
   "version": "3.10.5"
  }
 },
 "nbformat": 4,
 "nbformat_minor": 1
}